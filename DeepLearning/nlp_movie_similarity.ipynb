{
 "cells": [
  {
   "cell_type": "markdown",
   "metadata": {},
   "source": [
    "# wiki_movie_plots"
   ]
  },
  {
   "cell_type": "code",
   "execution_count": 1,
   "metadata": {},
   "outputs": [],
   "source": [
    "import pandas as pd\n",
    "import matplotlib.pyplot as plt\n",
    "import seaborn as sns\n",
    "%matplotlib inline"
   ]
  },
  {
   "cell_type": "code",
   "execution_count": 2,
   "metadata": {},
   "outputs": [],
   "source": [
    "df = pd.read_csv('wiki_movie_plots_deduped.csv')"
   ]
  },
  {
   "cell_type": "code",
   "execution_count": 3,
   "metadata": {
    "scrolled": true
   },
   "outputs": [
    {
     "data": {
      "text/html": [
       "<div>\n",
       "<style scoped>\n",
       "    .dataframe tbody tr th:only-of-type {\n",
       "        vertical-align: middle;\n",
       "    }\n",
       "\n",
       "    .dataframe tbody tr th {\n",
       "        vertical-align: top;\n",
       "    }\n",
       "\n",
       "    .dataframe thead th {\n",
       "        text-align: right;\n",
       "    }\n",
       "</style>\n",
       "<table border=\"1\" class=\"dataframe\">\n",
       "  <thead>\n",
       "    <tr style=\"text-align: right;\">\n",
       "      <th></th>\n",
       "      <th>Release Year</th>\n",
       "      <th>Title</th>\n",
       "      <th>Origin/Ethnicity</th>\n",
       "      <th>Director</th>\n",
       "      <th>Cast</th>\n",
       "      <th>Genre</th>\n",
       "      <th>Wiki Page</th>\n",
       "      <th>Plot</th>\n",
       "    </tr>\n",
       "  </thead>\n",
       "  <tbody>\n",
       "    <tr>\n",
       "      <th>0</th>\n",
       "      <td>1901</td>\n",
       "      <td>Kansas Saloon Smashers</td>\n",
       "      <td>American</td>\n",
       "      <td>Unknown</td>\n",
       "      <td>NaN</td>\n",
       "      <td>unknown</td>\n",
       "      <td>https://en.wikipedia.org/wiki/Kansas_Saloon_Sm...</td>\n",
       "      <td>A bartender is working at a saloon, serving dr...</td>\n",
       "    </tr>\n",
       "    <tr>\n",
       "      <th>1</th>\n",
       "      <td>1901</td>\n",
       "      <td>Love by the Light of the Moon</td>\n",
       "      <td>American</td>\n",
       "      <td>Unknown</td>\n",
       "      <td>NaN</td>\n",
       "      <td>unknown</td>\n",
       "      <td>https://en.wikipedia.org/wiki/Love_by_the_Ligh...</td>\n",
       "      <td>The moon, painted with a smiling face hangs ov...</td>\n",
       "    </tr>\n",
       "    <tr>\n",
       "      <th>2</th>\n",
       "      <td>1901</td>\n",
       "      <td>The Martyred Presidents</td>\n",
       "      <td>American</td>\n",
       "      <td>Unknown</td>\n",
       "      <td>NaN</td>\n",
       "      <td>unknown</td>\n",
       "      <td>https://en.wikipedia.org/wiki/The_Martyred_Pre...</td>\n",
       "      <td>The film, just over a minute long, is composed...</td>\n",
       "    </tr>\n",
       "    <tr>\n",
       "      <th>3</th>\n",
       "      <td>1901</td>\n",
       "      <td>Terrible Teddy, the Grizzly King</td>\n",
       "      <td>American</td>\n",
       "      <td>Unknown</td>\n",
       "      <td>NaN</td>\n",
       "      <td>unknown</td>\n",
       "      <td>https://en.wikipedia.org/wiki/Terrible_Teddy,_...</td>\n",
       "      <td>Lasting just 61 seconds and consisting of two ...</td>\n",
       "    </tr>\n",
       "    <tr>\n",
       "      <th>4</th>\n",
       "      <td>1902</td>\n",
       "      <td>Jack and the Beanstalk</td>\n",
       "      <td>American</td>\n",
       "      <td>George S. Fleming, Edwin S. Porter</td>\n",
       "      <td>NaN</td>\n",
       "      <td>unknown</td>\n",
       "      <td>https://en.wikipedia.org/wiki/Jack_and_the_Bea...</td>\n",
       "      <td>The earliest known adaptation of the classic f...</td>\n",
       "    </tr>\n",
       "  </tbody>\n",
       "</table>\n",
       "</div>"
      ],
      "text/plain": [
       "   Release Year                             Title Origin/Ethnicity  \\\n",
       "0          1901            Kansas Saloon Smashers         American   \n",
       "1          1901     Love by the Light of the Moon         American   \n",
       "2          1901           The Martyred Presidents         American   \n",
       "3          1901  Terrible Teddy, the Grizzly King         American   \n",
       "4          1902            Jack and the Beanstalk         American   \n",
       "\n",
       "                             Director Cast    Genre  \\\n",
       "0                             Unknown  NaN  unknown   \n",
       "1                             Unknown  NaN  unknown   \n",
       "2                             Unknown  NaN  unknown   \n",
       "3                             Unknown  NaN  unknown   \n",
       "4  George S. Fleming, Edwin S. Porter  NaN  unknown   \n",
       "\n",
       "                                           Wiki Page  \\\n",
       "0  https://en.wikipedia.org/wiki/Kansas_Saloon_Sm...   \n",
       "1  https://en.wikipedia.org/wiki/Love_by_the_Ligh...   \n",
       "2  https://en.wikipedia.org/wiki/The_Martyred_Pre...   \n",
       "3  https://en.wikipedia.org/wiki/Terrible_Teddy,_...   \n",
       "4  https://en.wikipedia.org/wiki/Jack_and_the_Bea...   \n",
       "\n",
       "                                                Plot  \n",
       "0  A bartender is working at a saloon, serving dr...  \n",
       "1  The moon, painted with a smiling face hangs ov...  \n",
       "2  The film, just over a minute long, is composed...  \n",
       "3  Lasting just 61 seconds and consisting of two ...  \n",
       "4  The earliest known adaptation of the classic f...  "
      ]
     },
     "execution_count": 3,
     "metadata": {},
     "output_type": "execute_result"
    }
   ],
   "source": [
    "df.head()"
   ]
  },
  {
   "cell_type": "code",
   "execution_count": 4,
   "metadata": {
    "scrolled": true
   },
   "outputs": [
    {
     "name": "stdout",
     "output_type": "stream",
     "text": [
      "1901년 영화부터 최근 2017년 영화까지 데이터 확보\n"
     ]
    }
   ],
   "source": [
    "print('{}년 영화부터 최근 {}년 영화까지 데이터 확보'.format(df['Release Year'].min(),df['Release Year'].max()))"
   ]
  },
  {
   "cell_type": "code",
   "execution_count": 5,
   "metadata": {
    "scrolled": false
   },
   "outputs": [
    {
     "data": {
      "image/png": "[encoded data removed]",
      "text/plain": [
       "<Figure size 720x576 with 1 Axes>"
      ]
     },
     "metadata": {
      "needs_background": "light"
     },
     "output_type": "display_data"
    }
   ],
   "source": [
    "plt.figure(figsize = (10,8))\n",
    "sns.countplot(y = df['Origin/Ethnicity'], palette = 'gist_rainbow')\n",
    "plt.show()"
   ]
  },
  {
   "cell_type": "markdown",
   "metadata": {},
   "source": [
    "America 영화가 제일 많은 것을 알 수 있다. 영국, 인도 영화도 많다."
   ]
  },
  {
   "cell_type": "markdown",
   "metadata": {},
   "source": [
    "## TF-IDF 구현"
   ]
  },
  {
   "cell_type": "code",
   "execution_count": 7,
   "metadata": {
    "scrolled": true
   },
   "outputs": [
    {
     "name": "stdout",
     "output_type": "stream",
     "text": [
      "(34886, 5000)\n"
     ]
    }
   ],
   "source": [
    "from sklearn.feature_extraction.text import TfidfVectorizer\n",
    "tfidf = TfidfVectorizer(max_features = 5000, stop_words='english')\n",
    "tfidf_matrix = tfidf.fit_transform(df['Plot'])\n",
    "print(tfidf_matrix.shape)"
   ]
  },
  {
   "cell_type": "markdown",
   "metadata": {},
   "source": [
    "34886개의 영화의 내용을 설명하기 위해 총 133554개의 단어가 사용되었습니다."
   ]
  },
  {
   "cell_type": "code",
   "execution_count": 127,
   "metadata": {},
   "outputs": [],
   "source": [
    "from sklearn.metrics.pairwise import linear_kernel\n",
    "cos_sim = linear_kernel(tfidf_matrix, tfidf_matrix)"
   ]
  },
  {
   "cell_type": "code",
   "execution_count": 124,
   "metadata": {},
   "outputs": [
    {
     "data": {
      "text/plain": [
       "Title\n",
       "Kansas Saloon Smashers              0\n",
       "Love by the Light of the Moon       1\n",
       "The Martyred Presidents             2\n",
       "Terrible Teddy, the Grizzly King    3\n",
       "Jack and the Beanstalk              4\n",
       "dtype: int64"
      ]
     },
     "execution_count": 124,
     "metadata": {},
     "output_type": "execute_result"
    }
   ],
   "source": [
    "row_number = pd.Series(df.index, index=df['Title']).drop_duplicates()\n",
    "row_number.head()"
   ]
  },
  {
   "cell_type": "code",
   "execution_count": 10,
   "metadata": {},
   "outputs": [],
   "source": [
    "def rec_title(title, cos_sim=cos_sim):\n",
    "    # 제목에 부여된 번호를 저장합니다.\n",
    "    idx = row_number[title]\n",
    "\n",
    "    # 모든 영화와 해당 영화의 유사도를 저장합니다.\n",
    "    score = list(enumerate(cos_sim[idx]))\n",
    "\n",
    "    # 유사도에 따라 영화들을 정렬합니다.\n",
    "    score = sorted(score, key=lambda x: x[1], reverse=True)\n",
    "\n",
    "    # 내용상 가장 유사한 10개의 영화를 받아옵니다.\n",
    "    title_list = score[1:11]\n",
    "\n",
    "    # 해당 영화들의 인덱스를 저장합니다.\n",
    "    movie_idx = [n[0] for n in title_list]\n",
    "\n",
    "    # 인덱싱을 이용해 영화 제목을 반환합니다.\n",
    "    return df['Title'].iloc[movie_idx]"
   ]
  },
  {
   "cell_type": "code",
   "execution_count": 133,
   "metadata": {
    "scrolled": true
   },
   "outputs": [
    {
     "data": {
      "text/plain": [
       "10136                                  Return of the Jedi\n",
       "9428     Star Wars Episode IV: A New Hope (aka Star Wars)\n",
       "8193                                       Cool Hand Luke\n",
       "15553                                        The Wackness\n",
       "12696                                           First Kid\n",
       "7254                                No Name on the Bullet\n",
       "13739                                          The Skulls\n",
       "9774                              The Empire Strikes Back\n",
       "22253                                         Afghan Luke\n",
       "15940                                          Step Up 3D\n",
       "Name: Title, dtype: object"
      ]
     },
     "execution_count": 133,
     "metadata": {},
     "output_type": "execute_result"
    }
   ],
   "source": [
    "rec_title('Star Wars: The Last Jedi')"
   ]
  },
  {
   "cell_type": "markdown",
   "metadata": {},
   "source": [
    "## 토큰화 이용"
   ]
  },
  {
   "cell_type": "code",
   "execution_count": 66,
   "metadata": {},
   "outputs": [
    {
     "name": "stderr",
     "output_type": "stream",
     "text": [
      "C:\\Users\\ksh\\Anaconda3\\lib\\site-packages\\gensim\\utils.py:1197: UserWarning: detected Windows; aliasing chunkize to chunkize_serial\n",
      "  warnings.warn(\"detected Windows; aliasing chunkize to chunkize_serial\")\n"
     ]
    }
   ],
   "source": [
    "import nltk\n",
    "from nltk.tokenize import RegexpTokenizer\n",
    "import re\n",
    "from nltk.corpus import stopwords\n",
    "from tqdm import tqdm\n",
    "\n",
    "from gensim.models.doc2vec import Doc2Vec, TaggedDocument"
   ]
  },
  {
   "cell_type": "code",
   "execution_count": 30,
   "metadata": {},
   "outputs": [],
   "source": [
    "s_w = set(stopwords.words('english'))"
   ]
  },
  {
   "cell_type": "code",
   "execution_count": 64,
   "metadata": {
    "scrolled": true
   },
   "outputs": [],
   "source": [
    "tokenizer = RegexpTokenizer(\"[\\w']+\")"
   ]
  },
  {
   "cell_type": "code",
   "execution_count": null,
   "metadata": {},
   "outputs": [],
   "source": [
    "token_plot = []"
   ]
  },
  {
   "cell_type": "code",
   "execution_count": 40,
   "metadata": {
    "scrolled": false
   },
   "outputs": [
    {
     "name": "stderr",
     "output_type": "stream",
     "text": [
      "100%|██████████████████████████████████████████████████████████████████████████| 34886/34886 [00:04<00:00, 7005.19it/s]\n"
     ]
    }
   ],
   "source": [
    "for text in tqdm(range(len(df.Plot))):\n",
    "    token_plot.append(tokenizer.tokenize(df.Plot[text]))"
   ]
  },
  {
   "cell_type": "code",
   "execution_count": 56,
   "metadata": {},
   "outputs": [],
   "source": [
    "t_s_w = []"
   ]
  },
  {
   "cell_type": "code",
   "execution_count": 57,
   "metadata": {},
   "outputs": [
    {
     "name": "stderr",
     "output_type": "stream",
     "text": [
      "100%|█████████████████████████████████████████████████████████████████████████| 34886/34886 [00:01<00:00, 30484.44it/s]\n"
     ]
    }
   ],
   "source": [
    "for word in tqdm(range(len(token_plot))):\n",
    "    t_s_w.append([text for text in token_plot[word] if not text in s_w])"
   ]
  },
  {
   "cell_type": "code",
   "execution_count": 62,
   "metadata": {},
   "outputs": [],
   "source": [
    "df['token_plot'] = t_s_w"
   ]
  },
  {
   "cell_type": "code",
   "execution_count": 67,
   "metadata": {},
   "outputs": [],
   "source": [
    "doc_df = df[['Title','token_plot']].values.tolist()\n",
    "tagged_data = [TaggedDocument(words=_d, tags=[uid]) for uid, _d in doc_df]"
   ]
  },
  {
   "cell_type": "code",
   "execution_count": 68,
   "metadata": {
    "scrolled": true
   },
   "outputs": [
    {
     "name": "stderr",
     "output_type": "stream",
     "text": [
      "C:\\Users\\ksh\\Anaconda3\\lib\\site-packages\\gensim\\models\\doc2vec.py:366: UserWarning: The parameter `size` is deprecated, will be removed in 4.0.0, use `vector_size` instead.\n",
      "  warnings.warn(\"The parameter `size` is deprecated, will be removed in 4.0.0, use `vector_size` instead.\")\n"
     ]
    },
    {
     "name": "stdout",
     "output_type": "stream",
     "text": [
      "iteration 0\n"
     ]
    },
    {
     "name": "stderr",
     "output_type": "stream",
     "text": [
      "C:\\Users\\ksh\\Anaconda3\\lib\\site-packages\\ipykernel_launcher.py:19: DeprecationWarning: Call to deprecated `iter` (Attribute will be removed in 4.0.0, use self.epochs instead).\n"
     ]
    },
    {
     "name": "stdout",
     "output_type": "stream",
     "text": [
      "iteration 1\n",
      "iteration 2\n",
      "iteration 3\n",
      "iteration 4\n",
      "iteration 5\n",
      "iteration 6\n",
      "iteration 7\n",
      "iteration 8\n",
      "iteration 9\n"
     ]
    }
   ],
   "source": [
    "max_epochs = 10\n",
    "\n",
    "model = Doc2Vec(\n",
    "    window=7,\n",
    "    size=200,\n",
    "    alpha=0.025, \n",
    "    min_alpha=0.025,\n",
    "    min_count=3,\n",
    "    dm =1,\n",
    "    negative = 5,\n",
    "    seed = 123)\n",
    "  \n",
    "model.build_vocab(tagged_data)\n",
    "\n",
    "for epoch in range(max_epochs):\n",
    "    print('iteration {0}'.format(epoch))\n",
    "    model.train(tagged_data,\n",
    "                total_examples=model.corpus_count,\n",
    "                epochs=model.iter)\n",
    "    # decrease the learning rate\n",
    "    model.alpha -= 0.002\n",
    "    # fix the learning rate, no decay\n",
    "    model.min_alpha = model.alpha"
   ]
  },
  {
   "cell_type": "code",
   "execution_count": 69,
   "metadata": {},
   "outputs": [],
   "source": [
    "model.random.seed(123)"
   ]
  },
  {
   "cell_type": "code",
   "execution_count": 116,
   "metadata": {
    "scrolled": false
   },
   "outputs": [
    {
     "name": "stdout",
     "output_type": "stream",
     "text": [
      "유사 영화 제목은 300: Rise of an Empire\n",
      "유사도는 0.46581774950027466\n",
      "영화 내용은 Queen Gorgo of Sparta tells her men about the Battle of Marathon, in which King Darius of Persia was killed by General Themistocles of Athens ten years earlier. Darius's son, Xerxes, witnesses his father's death, and is advised to not continue the war, since only \"the gods can defeat the Greeks\". Darius's naval commander, Artemisia, claims that Darius' last words were in fact a challenge and sends Xerxes on a journey through the desert. Xerxes finally reaches a cave and bathes in an otherworldly liquid, emerging as the 8-foot tall \"God-King\". He returns to Persia and declares war on Greece to avenge his father.\n",
      "As Xerxes's forces advance towards Thermopylae, Themistocles meets with the council and convinces them to provide him with a fleet to engage the Persians at the sea. Themistocles then travels to Sparta to ask King Leonidas for help, but is informed by Dilios that Leonidas is consulting the Oracle, and Gorgo is reluctant to side with Athens. Themistocles later reunites with his old friend Scyllas, who infiltrated the Persian troops and learned Artemisia was born Greek, but defected to Persia as her family was raped and murdered by Greek hoplites and she was taken as a sex slave, and subsequently left for dead in the streets. She was rescued and adopted by a Persian emissary. Her lust for vengeance gained the attention of King Darius and he made her a naval commander after she killed many of his enemies. Themistocles also learns that Leonidas has marched to fight the Persians with only 300 men.\n",
      "Themistocles leads his fleet of fifty warships and several thousand men, which include Scyllas, Scyllas's son Calisto and Themistocles' right-hand man Aeskylos to the Aegean Sea, starting the Battle of Artemisium. They ram their ships into the Persian ships, charge them, slaughtering several soldiers before retreating from the sinking Persian ships. The following day, the Greeks feign a retreat and lead a group of Persian ships into a crevice, where they become stuck. The Greeks charge the Persian ships from the cliffs above and kill more Persians. Impressed with Themistocles' skills, Artemisia brings him onto her ship where she seduces him, in an attempt to lure him to the Persian side as her second-in-command. He refuses, causing her to push him aside and swear revenge on him.\n",
      "The Persians spill tar into the sea and send suicide bombers to swim to and board the Greek ships with their flame bombs. Artemisia and her men fire flaming arrows and torches to ignite the tar, but an Athenian manages to kill one of the Persians, who falls into the tar carrying a torch, causing ships from both sides to explode. Themistocles is thrown into the sea by an explosion and nearly drowns before being rescued by Aeskylos, and stands by Scyllas's side as he succumbs to his injuries. Believing Themistocles to be dead, Artemisia and her forces withdraw. After recovering from his injuries, Themistocles learns that only a few hundred of his warriors and six of his ships survived the disastrous attack executed by Artemisia.\n",
      "Daxos, an Arcadian general, tells Themistocles that Leonidas and his 300 men have been killed after Ephialtes betrays the Greeks to Xerxes. Themistocles returns to Athens and confronts Ephialtes. The deformed Spartan traitor reveals that Xerxes plans to attack and burn Athens to the ground. Ephialites is regretful of his actions, and is welcoming death. Themistocles spares him instead, so he can warn Xerxes that the Greek forces are gathering at Salamis. He then visits Gorgo in Sparta while she is mourning Leonidas's death to ask for her help, but she is too overcome with grief. Before leaving, Themistocles returns Leonidas's sword, which had been delivered to him by Ephialtes under Xerxes's orders, and urges Gorgo to avenge Leonidas.\n",
      "In Athens, Xerxes's army is laying waste when Ephialtes arrives to deliver Themistocles' message. Upon learning he is alive, Artemisia leaves to ready her entire navy for battle. Xerxes suggests a more cautious plan but she still leaves for battle, ignoring Xerxes's advice. The remaining Greek ships charge into the Persians ships, and the two armies battle, beginning the decisive Battle of Salamis. Themistocles and Artemisia fight, which ends in a stalemate with both receiving severe injuries.\n",
      "At this moment Gorgo, who had been narrating the tale to the Spartans, arrives at the battle along with ships from numerous Greek city states including Delphi, Thebes, Olympia, Arcadia, and Sparta, all of them uniting against the surrounded Persians. Daxos leads the Arcadian army while Themistocles urges Artemisia to surrender. Xerxes, watching the battle from a cliff, turns his back on her, acknowledging his naval defeat and continues the march of his army. Artemisia tries to kill Themistocles one last time but is killed as he stabs her through the stomach. While Dilios leads the Greek assault, Themistocles and Gorgo take a moment to silently acknowledge one another's alliance as the remaining Persians attempt a counter-attack. The three then charge at the opposing Persians with the whole Greek army.\n",
      "#############------############------#########################------############------############\n",
      "유사 영화 제목은 300\n",
      "유사도는 0.44343695044517517\n",
      "영화 내용은 In 481 BC, one year before the Battle of Thermopylae, Dilios, a hoplite in the Spartan Army, begins his story by depicting the life of Leonidas I from childhood to kingship via Spartan doctrine. Dilios's story continues and Persian messengers arrive at the gates of Sparta demanding \"earth and water\" as a token of submission to King Xerxes - the Spartans reply by killing and kicking the messengers into a well. Leonidas then visits the Ephors, proposing a strategy to drive back the numerically superior Persians through the Hot Gates. His plan involves building a wall in order to funnel the Persians into a narrow pass between the rocks and the sea. The Ephors consult the Oracle, who decrees that Sparta will not go to war during the Carneia. As Leonidas angrily departs, a messenger from Xerxes appears, rewarding the Ephors for their covert support.\n",
      "Although the Ephors have denied him permission to mobilize Sparta's army, Leonidas gathers three hundred of his best soldiers in the guise of his personal bodyguard. They are joined along the way by Arcadians. At Thermopylae, they construct the wall made up of stones and slain Persian scouts as mortar, angering the Persian Emissary. Stelios, an elite Spartan soldier, orders him to go back to the Persian lines and warn Xerxes after cutting off his whipping arm.\n",
      "Meanwhile, Leonidas encounters Ephialtes, a deformed Spartan whose parents fled Sparta to spare him certain infanticide. Ephialtes asks to redeem his father's name by joining Leonidas' army, warning him of a secret path the Persians could use to outflank and surround the Spartans. Though sympathetic, Leonidas rejects him since his deformity physically prevents him from holding his shield high enough, potentially compromising the phalanx formation, and Ephialtes is enraged.\n",
      "The battle begins soon after the Spartans' refusal to lay down their weapons. Using the Hot Gates to their advantage, as well as their superior fighting skills, the Spartans repel wave after wave of the advancing Persian army. During a lull in the battle, Xerxes personally approaches Leonidas to persuade him to surrender, offering him wealth and power in exchange for his allegiance. Leonidas declines and mocks Xerxes for the inferior quality of his fanatical warriors. In response, Xerxes sends in his elite guard, the Immortals, later that night. Despite some Spartans being killed, they heroically defeat the Immortals, with slight help from the Arcadians.\n",
      "On the second day, Xerxes sends in new waves of armies from Asia and other Persian city-states, including war elephants, to crush the Spartans once and for all, but to no avail. Meanwhile, Ephialtes defects to Xerxes to whom he reveals the secret path in exchange for wealth, luxury, women, and a uniform. The Arcadians retreat upon learning of Ephialtes' betrayal, but the Spartans stay. Leonidas orders an injured but reluctant Dilios to return to Sparta and tell them of what has happened, a \"tale of victory\".\n",
      "In Sparta, Queen Gorgo tries to persuade the Spartan Council to send reinforcements to aid the 300. Theron, a corrupt politician, claims that he \"owns\" the Council and threatens the Queen, who reluctantly submits to his sexual demands in return for his help. When Theron disgraces her in front of the Council, Gorgo kills him out of rage, revealing within his robe a bag of Xerxes' gold. Marking his betrayal, the Council unanimously agrees to send reinforcements. On the third day, the Persians, led by Ephialtes, traverse the secret path, encircling the Spartans. Xerxes' general again demands their surrender. Leonidas seemingly kneels in submission, allowing Stelios to leap over him and kill the general. A furious Xerxes orders his troops to attack. Leonidas rises and throws his spear at Xerxes; barely missing him, the spear cuts across and wounds his face, proving the God-King's mortality. Leonidas and the remaining Spartans fight to the last man until they finally succumb to an arrow barrage.\n"
     ]
    },
    {
     "name": "stdout",
     "output_type": "stream",
     "text": [
      "Dilios, now back at Sparta, concludes his tale before the Council. Inspired by Leonidas' sacrifice, Greece mobilizes. One year later, the Persians face an army of 30,000 free Greeks led by a vanguard of 10,000 Spartans. After one final speech commemorating the 300, Dilios, now head of the Spartan Army, leads them to war, against the Persians across the fields of Plataea.\n",
      "#############------############------#########################------############------############\n",
      "유사 영화 제목은 G.I. Samurai\n",
      "유사도는 0.43886542320251465\n",
      "영화 내용은 On their way to a manoeuver, a wildly mixed group of Japanese soldiers with a tank, an APC, a patrol boat and a helicopter suddenly find themselves stranded 400 years in the past and under attack by samurai forces. Their designated leader, Lieutenant Yoshiaki Iba (Sonny Chiba), befriends and joins forces with Nagao Kagetora, the war leader of lord Koizumi. Seeing the stranded soldiers' war machinery in action, Kagetora persuades Iba to aid him in his struggle for supremacy in Japan.\n",
      "In the meantime, however, Iba finds himself facing the desperation of his men who want to return to their own time. Some make contact with the locals - one of the soldiers, Mimura, even finds himself a consort who keeps following him - whilst others freak out, running away in a desperate attempt to return home, or rebelling against rules and restrictions and try to live a pirate's life. Finally, his force shrunk from 21 men to 11, Iba manages to calm his troops by telling them that by fighting history and thus creating a time paradox they might be able to return home. Iba joins Kagetora and fights by his side.\n",
      "Finally, Iba and the soldiers face Takeda Shingen's forces in battle. But their trust in their advanced weaponry costs them dearly: Shingen's forces outmanoeuvre them at every turn, the soldiers lose all their vehicles and major weapons, and five of them die on the battlefield. In a desperate attempt, Iba forces his way to Shingen's command post and kills him in a sword duel.\n",
      "As Iba and his remaining men go to join Kagetora in Kyoto, the latter is put under pressure by his family and the Shogun Ashikaga Yoshiaki to get rid of Iba. Reluctantly conceding, Kagetora intercepts Iba's group at an old temple. But as Iba prepares to kill Kagetora for his betrayal, he is shot by him. The other soldiers are killed by Kagetora's archers, and Mimura's consort delivers the coup-de-grace to her lover.\n",
      "Kagetora shows remorse by burying Iba and his men with all due honors. In the end, only one of the soldiers survives, who had left the group to help a boy and his family, whose father had been killed.\n",
      "#############------############------#########################------############------############\n",
      "유사 영화 제목은 Shōgun\n",
      "유사도는 0.4318169951438904\n",
      "영화 내용은 After his Dutch trading ship Erasmus and its surviving crew is blown ashore by a violent storm at Anjiro on the east coast of Japan, Pilot-Major John Blackthorne, the ship's English navigator, is taken prisoner by samurai warriors. When he is later temporarily released, he must juggle his self-identity as an Englishman associated with other Europeans in Japan, namely Portuguese traders and Jesuit priests, with the alien Japanese culture into which he has been thrust and now must adapt to in order to survive. Being an Englishman, Blackthorne is at both religious and political odds with his enemy, the Portuguese, and the Catholic Church's Jesuit order. The Catholic foothold in Japan puts Blackthorne, a Protestant and therefore a heretic, at a political disadvantage. But this same situation also brings him to the attention of the influential Lord Toranaga, who mistrusts this foreign religion now spreading in Japan. He is competing with other samurai warlords of similar high-born rank, among them Catholic converts, for the very powerful position of Shōgun, the military governor of Japan.\n",
      "Through an interpreter, Blackthorne later reveals certain surprising details about the Portuguese traders and their Jesuit overlords which forces Toranaga to trust him; they forge a tenuous alliance, much to the chagrin of the Jesuits. To help the Englishman learn their language and to assimilate to Japanese culture, Toranaga assigns a teacher and interpreter to him, the beautiful Lady Mariko, a Catholic convert, and one of Toranaga's most trusted retainers. Blackthorne soon becomes infatuated with her, but Mariko is already married, and their budding romance is ultimately doomed by future circumstances.\n",
      "Blackthorne saves Toranaga's life by audaciously helping him escape from Osaka Castle and the clutches of his longtime enemy, Lord Ishido. To reward the Englishman for saving his life, and to forever bind him to the warlord, Toranaga makes Blackthorne hatamoto, a personal retainer, and gifts him with a European flintlock pistol. Later, Blackthorne again saves Toranaga's life during an earthquake by pulling him from a fissure that opened and swallowed the warlord, nearly killing him. Having proved his worth and loyalty to the warlord, during a night ceremony held before a host of his assembled vassals and samurai, Lord Toranaga makes Blackthorne a samurai; he awards him the two swords, 20 kimonos, 200 of his own samurai, and an income-producing fief, the fishing village Anjiro where Blackthorne was first blown ashore with his ship and crew. Blackthorne's repaired ship Erasmus, under guard by Toranaga's samurai and anchored near Kyoto, is lost to fire, which quickly spread when the ships' night lamps are knocked over by a storm tidal surge. During a later attack on Osaka Castle by the secretive Amida Tong (Ninja assassins), secretly paid for by Lord Ishido, Mariko is killed while saving Blackthorne's life, who is temporarily blinded by the black powder explosion that kills his lover. Lord Yabu is forced to commit seppuku for his involvement with the ninja attack and personally murdering Captain Yoshinaka. Right before he dies, Yabu gives Blackthorne his katana sword and Yabu's nephew, Omi, becomes the daimyo of Izu.\n",
      "Blackthorne supervises the construction of a new ship, The Lady, with funds Mariko left to him in her will for this very purpose. Blackthorne is observed at a distance by Lord Toranaga; a voice over reveals the warlord's inner thoughts: It was he who ordered the Erasmus destroyed by fire, in order to keep Blackthorne safe from his Portuguese enemies who feared his actions with the ship (since Blackthorne still has much to teach Toranaga); and, if need be, the warlord will destroy the ship Blackthorne is currently building. He also discloses Mariko's secret but vital role in the grand deception of his enemies, and, as a result, how she was destined to die, helping to assure his coming final victory. The warlord knows that Blackthorne's karma brought him to Japan and that the Englishman, now his trusted retainer and samurai, is destined never to leave. Toranaga also knows it is his karma to become Shōgun.\n",
      "In an epilogue it is revealed that Toranaga and his army are triumphant at the Battle of Sekigahara; he captures and then disgraces his old rival, Lord Ishido (by burying him up to his neck), and takes 40,000 enemy heads, after which he then fulfills his destiny by becoming Shōgun. A different voice over narrates that when the Emperor of Japan offered Toranaga the title of Shogun, he 'reluctantly agreed'.\n",
      "#############------############------#########################------############------############\n",
      "유사 영화 제목은 Goyokin\n",
      "유사도는 0.4299001395702362\n",
      "영화 내용은 Magobei Wakizaka is a samurai for the Sabai clan. A nearby island, Sado, boasts a rich gold mine which provides plentiful riches[2] for the Tokugawa clan. When one of the gold ships sink, the local fishermen recover some of the gold, intending to return it to the Tokugawa clan. However, Magobei's clan master, Rokugo Tatewaki, takes the gold and slaughters the fishermen so they cannot report the gold stolen. Magobei is appalled. He promises not to report Rokugo to the shogunate in exchange for Rokugo's promise to never do so again.\n",
      "However, three years later, assassins sent by Rokugo's retainer, Kunai, come for Magobei, who is living in Edo. He realizes that Rokugo intends to steal more gold and slaughter more innocents. So Magobei returns to Sabai to face his former master. Rokugo hires another ronin, Samon Fujimaki, to kill Magobei, but Magobei eventually wins him over. Also, along the way, Magobei meets a young woman, Oriha, who survived the original slaughter. She and her brother, Rokuzo, join him on his way to Sabai.\n"
     ]
    },
    {
     "name": "stdout",
     "output_type": "stream",
     "text": [
      "At Sabai they learn that Rokugo intends to move a bonfire, which serves as a warning to passing ships against dangerous rocks, so that a gold ship will hit the rocks and sink. After recovering the gold, Rokugo intends to slaughter the peasants who help him in this endeavor. The combined efforts of Magobei, Samon, Oriha, and Rokuzo result in the correct bonfire being lit, the fake bonfire being put out, and the innocent peasants' lives being saved. Thus the gold-bearing ship evades the rocks. In a final showdown, amid falling snow, Magobei slays Rokugo, but is wounded by one of Rokugo's throwing knives.\n",
      "#############------############------#########################------############------############\n",
      "유사 영화 제목은 The Warrior and the Wolf\n",
      "유사도는 0.42522066831588745\n",
      "영화 내용은 General Zhang is the commander of a northern border's army camp which repels the attacking barbarians every year. When snowfall make the support of the base with supplies impossible, the troops return home.\n",
      "Lu Shenkang is a newly recruited soldier who was a shepherd, has no courage and tries to flee the army on several occasions. Lu bonds with General Zhang and when the barbarians attack and take him hostage, Lu exchanges him with a captured tribal prince.\n",
      "The wounded General Zhang returns home earlier and Lu stays in charge.\n",
      "When the winter's snow arrives, he leads his men on the trip home. Due to the harsh weather they take refuge in the Harran tribe's village where Lu takes a hut and woman for himself.\n",
      "Shortly before the soldiers leave the village to continue their return home, the woman tells Lu that legend says that being intimate with outsiders leads to them becoming wolves.\n",
      "The army marches on and are attacked by wolves. A following sand storm kills all but Lu who returns to the village.\n",
      "Years later the barbarians surrender to Imperial China and General Zhang returns to the region to deliver the court's messages.\n",
      "Two of his men shoot at wolves and are found dead in the morning.\n",
      "General Zhang is bitten to death by two wolves after riding out to a deserted fortification.\n",
      "#############------############------#########################------############------############\n",
      "유사 영화 제목은 The Sand Pebbles\n",
      "유사도는 0.4232688546180725\n",
      "영화 내용은 In 1926 Machinist's Mate First Class Jake Holman (Steve McQueen) transfers to the Yangtze River Patrol gunboat USS San Pablo. The ship is nicknamed the \"Sand Pebble\" and its sailors \"Sand Pebbles\".\n",
      "The officers have hired coolies to do most of the work, leaving the sailors free for military drills. Because he is senior engineer, and runs the engineering department on the ship, Holman is responsible for the operation and maintenance of the ship's engine. As a result the chief engine room coolie, Chien (Tommy Lee), is insulted. Holman also earns the antipathy of most of his fellow sailors, but does become close friends with one seasoned, sensitive petty officer, Frenchy (Richard Attenborough).\n",
      "Holman eventually discovers a serious problem with a crank bearing that the superstitious coolies, believing the engine is haunted, have not fixed. Holman informs the captain, Lieutenant Collins (Richard Crenna), who refuses to stop for repairs. Only after the executive officer declares an emergency does the angry Collins acquiesce. Insisting Holman should not make the repair, Chien steps in and is accidentally killed. The chief coolie, Lop-eye Shing (Henry Wang), blames Holman, believing that the \"ghost in the machine\" killed Chien. As a replacement for Chien, Holman selects Po-Han (Mako), and trains him. In time, the two become friends.\n",
      "Po-Han is harassed by a large, heavy-drinking, bullying sailor named Stawski (Simon Oakland), leading to a boxing match on which the crewmen place bets. Holman is in the corner of his friend Po-Han, who, despite being badly beaten up by Stawski, ends up winning. His victory leads to more friction between Holman and the rest of the crew.\n",
      "An (off-screen) incident involving British gunboats leads to Collins ordering the crew not to fire on, or return fire from, the Chinese, to avoid a diplomatic incident or providing fuel for xenophobic propaganda, especially by the Communists. The boat is quickly prepared and disembarks. As revenge for the death of Chien and what he viewed as Holman's usurpation of his power, Lop-eye Shing had sent Po-Han ashore, where he is chased down the beach, captured, and tortured by a mob of Chinese in full view of the crew. Collins attempts to buy Po-Han's release, but without success. Po-Han begs for someone to kill him. Holman disobeys orders and ends Po-Han's torture with a rifle shot.\n",
      "The San Pablo is moored on the Xiang River at Changsha, due to low water levels, during the winter of 1926–27. It must deal with increasingly hostile crowds surrounding it in numerous smaller boats. Lt Collins also fears a possible mutiny.\n",
      "Frenchy has saved an educated Chinese woman, Maily (Marayat Andriane), from prostitution by paying her debts. He marries her and regularly swims ashore to visit her, but dies of pneumonia one night. Holman finds Maily sitting by Frenchy's corpse. Kuomintang (Chinese Nationalist Party) militia burst in, beat Holman, and drag Maily away. The next day several Chinese demand Holman be turned over to them as the \"murderer\" of Maily and her unborn baby. When the demand is rejected, the Chinese blockade the gunboat. The crew fear for their safety and demand that Holman surrender to the Chinese. Order is not restored until Collins fires a Lewis gun across the bow of one of the Chinese sampans.\n",
      "With spring's arrival Collins orders preparations to restart their river patrols, but soon receives word of the Nanking Incident, with orders to return to the Yangtze River and the coast. On his own, he chooses to disobey orders and decides to first travel upstream of Dongting Lake to evacuate idealistic, anti-imperialist missionary Jameson (Larry Gates) and his school-teacher assistant, Shirley Eckert (Candice Bergen), from their remote China Light Mission. Holman had met Eckert in Hangkow months earlier, and the two had romantic feelings for each other that did not have time to develop.\n",
      "To reach the missionaries the San Pablo must break through a boom made up of junks carrying a massive bamboo rope blocking the river. A boarding party is sent to cut the rope. Fighting breaks out in which about a dozen sailors and many Chinese are killed. Holman cuts the rope while under fire. He kills a young Chinese attacker, whom he remembers as a friend of Jameson and Eckert. The ship then proceeds upriver.\n",
      "Collins leads three sailors, including Holman, ashore. Jameson resists being rescued, claiming that Eckert and he have renounced their US citizenship. Collins orders Holman to forcibly remove Eckert and Jameson, but as Holman declares he is going to stay with them Nationalist soldiers suddenly attack the mission. They kill Jameson, despite his attempt to explain his statelessness. Collins orders the patrol to return to the ship with Eckert, and remains behind to provide covering fire. Collins is killed, leaving the normally rebellious Holman in command. Holman and Eckert have a tearful parting, finally making clear their love for each other. Eckert only leaves after Holman assures her he will be along shortly. Holman kills several soldiers before he himself is fatally shot just when he is about to rejoin the others. His last bewildered words are:\n",
      "\"I was home...what happened...what the hell happened?\"\n",
      "Eckert and the remaining sailors reach the ship, and the San Pablo sails away.\n",
      "#############------############------#########################------############------############\n",
      "유사 영화 제목은 Red Cliff: Episode 2\n",
      "유사도는 0.4216407537460327\n",
      "영화 내용은 Director John Woo said in an interview with David Stratton that the film is only 50% factual. Woo decided to alter the story using modern feelings and his own feelings for a more worldly acceptance. According to Woo, historical accuracy was less important than how the audience felt about the battle.[13]\n",
      "In the summer of 208, towards the end of the Eastern Han dynasty, the Chancellor, Cao Cao, leads the imperial army on a campaign to eliminate the southern warlords Sun Quan and Liu Bei, whom he denounces as \"rebels\". Emperor Xian reluctantly approves the campaign. Cao Cao's mighty army swiftly conquers Jing Province. The Battle of Changban is ignited when Cao Cao's cavalry starts attacking civilians on an exodus led by Liu Bei. During the battle, Liu Bei's followers, including his sworn brothers Guan Yu and Zhang Fei, give an excellent display of their combat skills by holding off the enemy while buying time for the civilians to retreat. The warrior Zhao Yun fights bravely to rescue Liu Bei's entrapped family but only succeeds in rescuing Liu's infant son.\n",
      "Following the battle, Liu Bei's advisor, Zhuge Liang, goes on a diplomatic mission to Jiangdong to form an alliance between his lord and Sun Quan against Cao Cao. Sun Quan was initially in the midst of a dilemma of whether to surrender or fight back, but his decision to resist Cao Cao hardens after Zhuge Liang's clever persuasion and a subsequent tiger hunt with his viceroy Zhou Yu and his sister Sun Shangxiang. Meanwhile, Cai Mao and Zhang Yun, two naval commanders from Jing Province, pledge allegiance to Cao Cao, who puts them in command of his navy.\n",
      "After the hasty formation of the Sun–Liu alliance, the forces of Liu Bei and Sun Quan call for a meeting to formulate a plan to counter Cao Cao's army, which is rapidly advancing towards their base at Red Cliff from both land and water. The battle begins with Sun Shangxiang leading some riders to lure Cao Cao's vanguard force into the allies' Bagua Formation. The vanguard force is defeated by the allies but Cao Cao shows no disappointment and proceeds to lead his main army to the riverbank directly opposite Red Cliff, where they make camp. While the allies throw a banquet to celebrate their victory, Zhuge Liang conceives a plan to send Sun Shangxiang on an espionage mission to Cao Cao's camp. They maintain contact by sending messages via a pigeon. The film ends with Zhou Yu lighting his miniaturised battleships on a map based on the battle formation.\n",
      "Sun Shangxiang has infiltrated Cao Cao's camp and is secretly noting its details and sending them via a pigeon to Zhuge Liang. Meanwhile, Cao Cao's army is seized with a plague of typhoid fever that kills a number of his troops. Cao Cao orders the corpses to be sent on floating rafts to the allies' camp, in the hope of spreading the plague to his enemies. The allied army's morale is affected when some unsuspecting soldiers let the plague in. Eventually, a disheartened Liu Bei leaves with his forces while Zhuge Liang stays behind to assist Sun Quan. Cao Cao is overjoyed when he hears that the alliance has collapsed. At the same time, Cai Mao and Zhang Yun propose a new tactic of interlocking the battleships with iron beams to minimise rocking when sailing on the river and reduce the chances of the troops falling seasick.\n",
      "Zhou Yu and Zhuge Liang make plans to eliminate Cai Mao and Zhang Yun, and produce 100,000 arrows respectively. They agreed that whoever fails to complete his mission shall be executed under military law. Zhuge Liang's ingenious strategy of letting the enemy shoot 20 boats covered in straw brings in over 100,000 arrows from the enemy and makes Cao Cao doubt the loyalty of Cai Mao and Zhang Yun. On the other hand, Cao Cao sends Jiang Gan to persuade Zhou Yu to surrender, but Zhou tricks Jiang into believing that Cai and Zhang are planning to assassinate Cao. Both Zhuge Liang and Zhou Yu's respective plans complement each other when Cao Cao is convinced, despite having earlier doubts about Jiang Gan's report, that Cai Mao and Zhang Yun were indeed planning to assassinate him by deliberately \"donating\" arrows to the enemy. Cai Mao and Zhang Yun are executed while Cao Cao realises his folly afterwards but it is too late.\n",
      "Sun Shangxiang returns to base from Cao Cao's camp with a map of the enemy formation. Zhou Yu and Zhuge Liang decide to attack Cao Cao's navy with fire after predicting that a special climatic condition will soon cause the winds to blow from the southeast – a direction to their advantage. Before the battle, Sun Quan's forces feast on rice dumplings to celebrate the Winter Solstice. Meanwhile, Zhou Yu's wife, Xiaoqiao, heads towards Cao Cao's camp alone secretly in the hope of persuading Cao to give up his ambitious plans. She fails to convince Cao Cao and decides to distract him with an elaborate tea ceremony to buy time for her side.\n",
      "The battle begins when the southeast wind starts blowing in the middle of the night. Sun Quan's forces launch their attack on Cao Cao's navy by ramming smaller boats that are set aflame into Cao's larger battleships. On the other hand, Liu Bei's forces, whose departure from the alliance was a ruse, start attacking Cao Cao's forts on land. By dawn, Cao Cao's entire navy has been destroyed. The allies launch another offensive on Cao Cao's ground army in his forts, and succeed in breaking through using testudo formation despite suffering heavy casualties. Although Cao Cao is besieged in his main camp, he manages to hold Zhou Yu at sword point after ambushing him with the help of Cao Hong. Xiahou Jun also shows up with Xiaoqiao as a hostage and threatens to kill her if the allies do not surrender. Just then, Zhao Yun manages to reverse the situation by rescuing Xiaoqiao with a surprise attack, while Sun Quan fires an arrow that grazes the top of Cao Cao's head and causes his hair to be let loose. Cao Cao is now at the mercy of the allies, but they spare his life and leave. In the final scene, Zhou Yu and Zhuge Liang have a final conversation before Zhuge walks away into the far distance with the newborn foal Mengmeng.\n",
      "For the non-Asian releases, the film was shortened from 288 minutes to 148 minutes and was released in some countries under the title Battle of Red Cliff. An opening narration in American English provides the historical background, whereas in the Asian release, a more brief description of the context of the political situation appears in scrolling form ten minutes into the film. Notable cuts include the background and motivations behind Zhuge Liang's plan to obtain 100,000 arrows, including the threat to his life, and the early parts of Sun Shangxiang's infiltration, where she befriended a northern soldier Sun Shucai (though the scene where she mourns killed Sun was not cut). The tiger hunting scene was also cut from the non-Asian releases.\n"
     ]
    },
    {
     "name": "stdout",
     "output_type": "stream",
     "text": [
      "The original two-part 288 minute version was released as a two-disc set on DVD and Blu-ray in the United Kingdom on 5 October 2009,[9] and in the United States and Canada on 23 March 2010.[10]\n",
      "#############------############------#########################------############------############\n",
      "유사 영화 제목은 The Fourteen Amazons\n",
      "유사도는 0.4210156798362732\n",
      "영화 내용은 The Yang family, men and women, had served their country (Song Dynasty) loyally for generations. During the war with Western Xia, General Yang Tsung-pao is ambushed and killed. His death leaves his only son, Yang Wen as the only male heir left to the Yang family. His widow, Mu Kuei-ying, the grand matriarch and the entire family set out to avenge his death and defend the country. Due to the interference of a corrupt official, Wang Ching, the Yangs were unable to have the emperor's consent to use the imperial army.\n",
      "Thus, they set off with whatever volunteer troops they could muster. Knowing of Mu Kuei-ying's reputation as a warrior and tactician, the king of West Hsia and his sons try various ways to stop her to no avail. They are outsmarted at the end as Mu Kuei-ying, the Yang family and Sung soldiers successfully storm their stronghold.\n",
      "#############------############------#########################------############------############\n",
      "유사 영화 제목은 Desert Hell\n",
      "유사도는 0.4208453893661499\n",
      "영화 내용은 After an ambush by an Arab tribe, two surviving French Legionnaires return to their fort. One of them, Capt. Edwards, is assigned a new patrol and a mission to alert another fort that an attack may be imminent. The other, Sgt. Major Benet, remains behind. Edwards' situation is further complicated when he catches his wife, Celie, in the arms of a lieutenant, Forbes.\n",
      "Forbes catches up to the patrol to inform Edwards that the mission has been called off. Edwards disobeys orders and rides on, Forbes joining him in what he calls a suicide mission. A pair of privates, Bergstrom and Hoffstetter, desert the patrol. They are ambushed and Bergstrom is killed. A scout, Kufra, is captured and tortured as well.\n",
      "In another attack, five Legionnaires are killed and Edwards is mortally wounded. He places Forbes in command. Almost making it back safely, Forbes, too, is seriously wounded and expires as Sgt. Major Benet drags him back to the fort.\n",
      "#############------############------#########################------############------############\n"
     ]
    }
   ],
   "source": [
    "return_docs = model.docvecs.most_similar('The Admiral: Roaring Currents',topn = 10)\n",
    "for s_m in return_docs:\n",
    "    for context in df[df['Title'] == s_m[0]]['Plot']:\n",
    "        print('유사 영화 제목은', s_m[0])\n",
    "        print('유사도는', s_m[1])\n",
    "        print('영화 내용은', context)\n",
    "        print('#############------############------############'*2)"
   ]
  },
  {
   "cell_type": "code",
   "execution_count": 135,
   "metadata": {
    "scrolled": false
   },
   "outputs": [
    {
     "name": "stdout",
     "output_type": "stream",
     "text": [
      "유사 영화 제목은 Return of the Jedi\n",
      "#############------############------#########################------############------############\n",
      "유사 영화 제목은 Star Wars: Episode III – Revenge of the Sith\n",
      "#############------############------#########################------############------############\n",
      "유사 영화 제목은 Star Wars Episode IV: A New Hope (aka Star Wars)\n",
      "#############------############------#########################------############------############\n",
      "유사 영화 제목은 Star Wars: The Force Unleashed II\n",
      "#############------############------#########################------############------############\n",
      "유사 영화 제목은 Star Wars: Episode I – The Phantom Menace\n",
      "#############------############------#########################------############------############\n",
      "유사 영화 제목은 Star Wars: Episode I – The Phantom Menace 3D\n",
      "#############------############------#########################------############------############\n",
      "유사 영화 제목은 The Empire Strikes Back\n",
      "#############------############------#########################------############------############\n",
      "유사 영화 제목은 Avengers: Age of Ultron\n",
      "#############------############------#########################------############------############\n",
      "유사 영화 제목은 Star Wars: The Force Unleashed\n",
      "#############------############------#########################------############------############\n",
      "유사 영화 제목은 The Mummy: Tomb of the Dragon Emperor\n",
      "#############------############------#########################------############------############\n"
     ]
    }
   ],
   "source": [
    "return_docs = model.docvecs.most_similar('Star Wars: The Last Jedi',topn = 10)\n",
    "for s_m in return_docs:\n",
    "    for context in df[df['Title'] == s_m[0]]['Plot']:\n",
    "        print('유사 영화 제목은', s_m[0])\n",
    "        #print('유사도는', s_m[1])\n",
    "        #print('영화 내용은', context)\n",
    "        print('#############------############------############'*2)"
   ]
  }
 ],
 "metadata": {
  "kernelspec": {
   "display_name": "Python 3",
   "language": "python",
   "name": "python3"
  },
  "language_info": {
   "codemirror_mode": {
    "name": "ipython",
    "version": 3
   },
   "file_extension": ".py",
   "mimetype": "text/x-python",
   "name": "python",
   "nbconvert_exporter": "python",
   "pygments_lexer": "ipython3",
   "version": "3.7.1"
  }
 },
 "nbformat": 4,
 "nbformat_minor": 2
}
