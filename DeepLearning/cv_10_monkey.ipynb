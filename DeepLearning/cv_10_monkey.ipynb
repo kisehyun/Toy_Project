{
 "cells": [
  {
   "cell_type": "markdown",
   "metadata": {
    "colab": {
     "base_uri": "https://localhost:8080/",
     "height": 131
    },
    "colab_type": "code",
    "id": "Raq5eEzvNiz_",
    "outputId": "7772a3e0-47bf-4b89-ad42-a87015244096"
   },
   "source": [
    "# 10_monkey 분류"
   ]
  },
  {
   "cell_type": "markdown",
   "metadata": {},
   "source": [
    "## 1. 디렉토리 설정"
   ]
  },
  {
   "cell_type": "code",
   "execution_count": null,
   "metadata": {},
   "outputs": [],
   "source": [
    "from google.colab import drive\n",
    "drive.mount('/content/gdrive', force_remount = True)"
   ]
  },
  {
   "cell_type": "code",
   "execution_count": 2,
   "metadata": {
    "colab": {
     "base_uri": "https://localhost:8080/",
     "height": 36
    },
    "colab_type": "code",
    "id": "m93pdvcXRoFX",
    "outputId": "dca1f2fd-ce97-42ff-f4d8-3a94e64deec9",
    "scrolled": true
   },
   "outputs": [
    {
     "name": "stdout",
     "output_type": "stream",
     "text": [
      "/content/gdrive/My Drive/10-monkeys\n"
     ]
    }
   ],
   "source": [
    "cd gdrive/My Drive/10-monkeys"
   ]
  },
  {
   "cell_type": "markdown",
   "metadata": {},
   "source": [
    "## 2. 패키지 불러오기"
   ]
  },
  {
   "cell_type": "code",
   "execution_count": 3,
   "metadata": {
    "colab": {
     "base_uri": "https://localhost:8080/",
     "height": 84
    },
    "colab_type": "code",
    "id": "bBq_kBTdOGAW",
    "outputId": "cc719885-f631-4944-aa2e-c75408b0c152"
   },
   "outputs": [
    {
     "name": "stderr",
     "output_type": "stream",
     "text": [
      "Using TensorFlow backend.\n"
     ]
    },
    {
     "data": {
      "text/html": [
       "<p style=\"color: red;\">\n",
       "The default version of TensorFlow in Colab will soon switch to TensorFlow 2.x.<br>\n",
       "We recommend you <a href=\"https://www.tensorflow.org/guide/migrate\" target=\"_blank\">upgrade</a> now \n",
       "or ensure your notebook will continue to use TensorFlow 1.x via the <code>%tensorflow_version 1.x</code> magic:\n",
       "<a href=\"https://colab.research.google.com/notebooks/tensorflow_version.ipynb\" target=\"_blank\">more info</a>.</p>\n"
      ],
      "text/plain": [
       "<IPython.core.display.HTML object>"
      ]
     },
     "metadata": {
      "tags": []
     },
     "output_type": "display_data"
    }
   ],
   "source": [
    "import cv2\n",
    "import glob\n",
    "import itertools\n",
    "import matplotlib.pyplot as plt\n",
    "%matplotlib inline\n",
    "import numpy as np\n",
    "import pandas as pd\n",
    "from keras import models, layers, optimizers\n",
    "from keras.preprocessing.image import ImageDataGenerator\n",
    "from sklearn.metrics import confusion_matrix\n",
    "from keras import backend as K"
   ]
  },
  {
   "cell_type": "code",
   "execution_count": 4,
   "metadata": {
    "colab": {
     "base_uri": "https://localhost:8080/",
     "height": 55
    },
    "colab_type": "code",
    "id": "cQpa9xTyhQ1I",
    "outputId": "5b2ad6d9-b5c1-4c4e-aced-976677049eab",
    "scrolled": false
   },
   "outputs": [
    {
     "name": "stdout",
     "output_type": "stream",
     "text": [
      "WARNING:tensorflow:From /usr/local/lib/python3.6/dist-packages/keras/backend/tensorflow_backend.py:66: The name tf.get_default_graph is deprecated. Please use tf.compat.v1.get_default_graph instead.\n",
      "\n"
     ]
    }
   ],
   "source": [
    "K.set_learning_phase(0)"
   ]
  },
  {
   "cell_type": "code",
   "execution_count": 0,
   "metadata": {
    "colab": {},
    "colab_type": "code",
    "id": "Y3lirZrEOBgb"
   },
   "outputs": [],
   "source": [
    "train_dir = 'training/training'\n",
    "test_dir = 'validation/validation'"
   ]
  },
  {
   "cell_type": "markdown",
   "metadata": {},
   "source": [
    "### 레이블 이름 및 이미지 개수 확인"
   ]
  },
  {
   "cell_type": "code",
   "execution_count": 6,
   "metadata": {
    "colab": {
     "base_uri": "https://localhost:8080/",
     "height": 355
    },
    "colab_type": "code",
    "id": "tPIv_J-OLh-V",
    "outputId": "9c9aa1a3-3d68-48a0-e23f-3a985c3799bf",
    "scrolled": true
   },
   "outputs": [
    {
     "data": {
      "text/html": [
       "<div>\n",
       "<style scoped>\n",
       "    .dataframe tbody tr th:only-of-type {\n",
       "        vertical-align: middle;\n",
       "    }\n",
       "\n",
       "    .dataframe tbody tr th {\n",
       "        vertical-align: top;\n",
       "    }\n",
       "\n",
       "    .dataframe thead th {\n",
       "        text-align: right;\n",
       "    }\n",
       "</style>\n",
       "<table border=\"1\" class=\"dataframe\">\n",
       "  <thead>\n",
       "    <tr style=\"text-align: right;\">\n",
       "      <th></th>\n",
       "      <th>Label</th>\n",
       "      <th>Latin Name</th>\n",
       "      <th>Common Name</th>\n",
       "      <th>Train Images</th>\n",
       "      <th>Validation Images</th>\n",
       "    </tr>\n",
       "  </thead>\n",
       "  <tbody>\n",
       "    <tr>\n",
       "      <th>0</th>\n",
       "      <td>n0</td>\n",
       "      <td>alouatta_palliata\\t</td>\n",
       "      <td>mantled_howler</td>\n",
       "      <td>131</td>\n",
       "      <td>26</td>\n",
       "    </tr>\n",
       "    <tr>\n",
       "      <th>1</th>\n",
       "      <td>n1</td>\n",
       "      <td>erythrocebus_patas\\t</td>\n",
       "      <td>patas_monkey</td>\n",
       "      <td>139</td>\n",
       "      <td>28</td>\n",
       "    </tr>\n",
       "    <tr>\n",
       "      <th>2</th>\n",
       "      <td>n2</td>\n",
       "      <td>cacajao_calvus\\t</td>\n",
       "      <td>bald_uakari</td>\n",
       "      <td>137</td>\n",
       "      <td>27</td>\n",
       "    </tr>\n",
       "    <tr>\n",
       "      <th>3</th>\n",
       "      <td>n3</td>\n",
       "      <td>macaca_fuscata\\t</td>\n",
       "      <td>japanese_macaque</td>\n",
       "      <td>152</td>\n",
       "      <td>30</td>\n",
       "    </tr>\n",
       "    <tr>\n",
       "      <th>4</th>\n",
       "      <td>n4</td>\n",
       "      <td>cebuella_pygmea\\t</td>\n",
       "      <td>pygmy_marmoset</td>\n",
       "      <td>131</td>\n",
       "      <td>26</td>\n",
       "    </tr>\n",
       "    <tr>\n",
       "      <th>5</th>\n",
       "      <td>n5</td>\n",
       "      <td>cebus_capucinus\\t</td>\n",
       "      <td>white_headed_capuchin</td>\n",
       "      <td>141</td>\n",
       "      <td>28</td>\n",
       "    </tr>\n",
       "    <tr>\n",
       "      <th>6</th>\n",
       "      <td>n6</td>\n",
       "      <td>mico_argentatus\\t</td>\n",
       "      <td>silvery_marmoset</td>\n",
       "      <td>132</td>\n",
       "      <td>26</td>\n",
       "    </tr>\n",
       "    <tr>\n",
       "      <th>7</th>\n",
       "      <td>n7</td>\n",
       "      <td>saimiri_sciureus\\t</td>\n",
       "      <td>common_squirrel_monkey</td>\n",
       "      <td>142</td>\n",
       "      <td>28</td>\n",
       "    </tr>\n",
       "    <tr>\n",
       "      <th>8</th>\n",
       "      <td>n8</td>\n",
       "      <td>aotus_nigriceps\\t</td>\n",
       "      <td>black_headed_night_monkey</td>\n",
       "      <td>133</td>\n",
       "      <td>27</td>\n",
       "    </tr>\n",
       "    <tr>\n",
       "      <th>9</th>\n",
       "      <td>n9</td>\n",
       "      <td>trachypithecus_johnii</td>\n",
       "      <td>nilgiri_langur</td>\n",
       "      <td>132</td>\n",
       "      <td>26</td>\n",
       "    </tr>\n",
       "  </tbody>\n",
       "</table>\n",
       "</div>"
      ],
      "text/plain": [
       "   Label                Latin Name  ... Train Images  Validation Images\n",
       "0  n0         alouatta_palliata\\t   ...          131                 26\n",
       "1  n1        erythrocebus_patas\\t   ...          139                 28\n",
       "2  n2        cacajao_calvus\\t       ...          137                 27\n",
       "3  n3        macaca_fuscata\\t       ...          152                 30\n",
       "4  n4       cebuella_pygmea\\t       ...          131                 26\n",
       "5  n5       cebus_capucinus\\t       ...          141                 28\n",
       "6  n6       mico_argentatus\\t       ...          132                 26\n",
       "7  n7      saimiri_sciureus\\t       ...          142                 28\n",
       "8  n8       aotus_nigriceps\\t       ...          133                 27\n",
       "9  n9       trachypithecus_johnii   ...          132                 26\n",
       "\n",
       "[10 rows x 5 columns]"
      ]
     },
     "execution_count": 6,
     "metadata": {
      "tags": []
     },
     "output_type": "execute_result"
    }
   ],
   "source": [
    "#label info\n",
    "cols = ['Label','Latin Name', 'Common Name','Train Images', 'Validation Images']\n",
    "labels = pd.read_csv(\"monkey_labels.txt\", names=cols, skiprows=1)\n",
    "labels"
   ]
  },
  {
   "cell_type": "markdown",
   "metadata": {},
   "source": [
    "## 3. 제너레이터 활용"
   ]
  },
  {
   "cell_type": "code",
   "execution_count": 7,
   "metadata": {
    "colab": {
     "base_uri": "https://localhost:8080/",
     "height": 55
    },
    "colab_type": "code",
    "id": "oT2f7Sw_N54u",
    "outputId": "146ea019-141a-474b-eda6-1c7a0f0b0356",
    "scrolled": true
   },
   "outputs": [
    {
     "name": "stdout",
     "output_type": "stream",
     "text": [
      "Found 1098 images belonging to 10 classes.\n",
      "Found 272 images belonging to 10 classes.\n"
     ]
    }
   ],
   "source": [
    "height = 150\n",
    "width = 150\n",
    "channels=3\n",
    "batch_size=32\n",
    "seed=123\n",
    "\n",
    "\n",
    "train_datagen = ImageDataGenerator(\n",
    "        rescale=1./255,\n",
    "        rotation_range=40,\n",
    "        width_shift_range=0.2,\n",
    "        height_shift_range=0.2,\n",
    "        shear_range=0.2,\n",
    "        zoom_range=0.2,\n",
    "        horizontal_flip=True,\n",
    "        fill_mode='nearest')\n",
    "\n",
    "# Training generator\n",
    "train_generator = train_datagen.flow_from_directory(train_dir, \n",
    "                                                    target_size=(height,width),\n",
    "                                                    batch_size=batch_size,\n",
    "                                                    seed=seed,\n",
    "                                                    shuffle = True,\n",
    "                                                    class_mode='categorical')\n",
    "\n",
    "# Test generator\n",
    "test_datagen = ImageDataGenerator(rescale=1./255)\n",
    "test_generator = test_datagen.flow_from_directory(test_dir, \n",
    "                                                  target_size=(height,width), \n",
    "                                                  batch_size=batch_size,\n",
    "                                                  seed=seed,\n",
    "                                                  shuffle = False,\n",
    "                                                  class_mode='categorical')"
   ]
  },
  {
   "cell_type": "markdown",
   "metadata": {},
   "source": [
    "## 4. 모델링"
   ]
  },
  {
   "cell_type": "code",
   "execution_count": 0,
   "metadata": {
    "colab": {},
    "colab_type": "code",
    "id": "Aoe0ebG9T-wF"
   },
   "outputs": [],
   "source": [
    "from keras.models import Sequential\n",
    "from keras.layers import Conv2D, MaxPooling2D, Activation, Dropout, Flatten, Dense\n",
    "from keras.callbacks import ModelCheckpoint, EarlyStopping\n",
    "from keras.layers import BatchNormalization\n",
    "\n",
    "model = models.Sequential()\n",
    "model.add(layers.Conv2D(64, (3, 3), activation='relu',\n",
    "                        input_shape=(150, 150, 3)))\n",
    "model.add(layers.MaxPooling2D((2, 2)))\n",
    "model.add(layers.Conv2D(64, (3, 3), activation='relu'))\n",
    "model.add(layers.Conv2D(64, (3, 3), activation='relu'))\n",
    "model.add(layers.MaxPooling2D((2, 2)))\n",
    "model.add(BatchNormalization()) \n",
    "model.add(layers.Conv2D(64, (3, 3), activation='relu'))\n",
    "model.add(layers.Conv2D(64, (3, 3), activation='relu'))\n",
    "model.add(layers.MaxPooling2D((2, 2)))\n",
    "model.add(BatchNormalization()) \n",
    "model.add(layers.Conv2D(64, (3,3), activation='relu'))\n",
    "model.add(layers.Conv2D(64, (3, 3), activation='relu'))\n",
    "model.add(Dropout(0.25))\n",
    "model.add(layers.Flatten())\n",
    "model.add(Dense(128))\n",
    "model.add(Dropout(0.5))\n",
    "model.add(layers.Dense(10, activation='softmax'))"
   ]
  },
  {
   "cell_type": "code",
   "execution_count": 15,
   "metadata": {
    "colab": {
     "base_uri": "https://localhost:8080/",
     "height": 801
    },
    "colab_type": "code",
    "id": "tcbRCkQMT_Ga",
    "outputId": "d939cf97-da64-4f42-dac2-a9cfea3e849f",
    "scrolled": true
   },
   "outputs": [
    {
     "name": "stdout",
     "output_type": "stream",
     "text": [
      "Model: \"sequential_2\"\n",
      "_________________________________________________________________\n",
      "Layer (type)                 Output Shape              Param #   \n",
      "=================================================================\n",
      "conv2d_8 (Conv2D)            (None, 148, 148, 64)      1792      \n",
      "_________________________________________________________________\n",
      "max_pooling2d_4 (MaxPooling2 (None, 74, 74, 64)        0         \n",
      "_________________________________________________________________\n",
      "conv2d_9 (Conv2D)            (None, 72, 72, 64)        36928     \n",
      "_________________________________________________________________\n",
      "conv2d_10 (Conv2D)           (None, 70, 70, 64)        36928     \n",
      "_________________________________________________________________\n",
      "max_pooling2d_5 (MaxPooling2 (None, 35, 35, 64)        0         \n",
      "_________________________________________________________________\n",
      "batch_normalization_3 (Batch (None, 35, 35, 64)        256       \n",
      "_________________________________________________________________\n",
      "conv2d_11 (Conv2D)           (None, 33, 33, 64)        36928     \n",
      "_________________________________________________________________\n",
      "conv2d_12 (Conv2D)           (None, 31, 31, 64)        36928     \n",
      "_________________________________________________________________\n",
      "max_pooling2d_6 (MaxPooling2 (None, 15, 15, 64)        0         \n",
      "_________________________________________________________________\n",
      "batch_normalization_4 (Batch (None, 15, 15, 64)        256       \n",
      "_________________________________________________________________\n",
      "conv2d_13 (Conv2D)           (None, 13, 13, 64)        36928     \n",
      "_________________________________________________________________\n",
      "conv2d_14 (Conv2D)           (None, 11, 11, 64)        36928     \n",
      "_________________________________________________________________\n",
      "dropout_3 (Dropout)          (None, 11, 11, 64)        0         \n",
      "_________________________________________________________________\n",
      "flatten_2 (Flatten)          (None, 7744)              0         \n",
      "_________________________________________________________________\n",
      "dense_3 (Dense)              (None, 128)               991360    \n",
      "_________________________________________________________________\n",
      "dropout_4 (Dropout)          (None, 128)               0         \n",
      "_________________________________________________________________\n",
      "dense_4 (Dense)              (None, 10)                1290      \n",
      "=================================================================\n",
      "Total params: 1,216,522\n",
      "Trainable params: 1,216,266\n",
      "Non-trainable params: 256\n",
      "_________________________________________________________________\n"
     ]
    }
   ],
   "source": [
    "model.summary()"
   ]
  },
  {
   "cell_type": "markdown",
   "metadata": {},
   "source": [
    "## 5. 모델 학습하기"
   ]
  },
  {
   "cell_type": "code",
   "execution_count": 0,
   "metadata": {
    "colab": {},
    "colab_type": "code",
    "id": "OxjhgK2dUCci"
   },
   "outputs": [],
   "source": [
    "from keras import optimizers\n",
    "\n",
    "model.compile(loss='categorical_crossentropy',\n",
    "              optimizer='adam',\n",
    "              metrics=['acc'])"
   ]
  },
  {
   "cell_type": "code",
   "execution_count": 0,
   "metadata": {
    "colab": {},
    "colab_type": "code",
    "id": "3Bg2Txh4UCuM"
   },
   "outputs": [],
   "source": [
    "train_num = train_generator.samples\n",
    "validation_num = test_generator.samples "
   ]
  },
  {
   "cell_type": "markdown",
   "metadata": {},
   "source": [
    "### 학습 조기 종료 지정"
   ]
  },
  {
   "cell_type": "code",
   "execution_count": 0,
   "metadata": {
    "colab": {},
    "colab_type": "code",
    "id": "S_GPwBSDUqhY"
   },
   "outputs": [],
   "source": [
    "early_stop = [EarlyStopping(monitor = 'val_acc', patience = 30)]"
   ]
  },
  {
   "cell_type": "code",
   "execution_count": 19,
   "metadata": {
    "colab": {
     "base_uri": "https://localhost:8080/",
     "height": 1000
    },
    "colab_type": "code",
    "id": "11XD-bYTUZB0",
    "outputId": "c90f2617-69de-47bc-9ca7-3abe4293ea74",
    "scrolled": true
   },
   "outputs": [
    {
     "name": "stdout",
     "output_type": "stream",
     "text": [
      "Epoch 1/250\n",
      "34/34 [==============================] - 41s 1s/step - loss: 3.4002 - acc: 0.1445 - val_loss: 2.1771 - val_acc: 0.2031\n",
      "Epoch 2/250\n",
      "34/34 [==============================] - 38s 1s/step - loss: 2.2427 - acc: 0.1942 - val_loss: 2.3840 - val_acc: 0.2266\n",
      "Epoch 3/250\n",
      "34/34 [==============================] - 37s 1s/step - loss: 2.0723 - acc: 0.2663 - val_loss: 2.1530 - val_acc: 0.2383\n",
      "Epoch 4/250\n",
      "34/34 [==============================] - 39s 1s/step - loss: 2.0143 - acc: 0.2941 - val_loss: 2.0686 - val_acc: 0.2891\n",
      "Epoch 5/250\n",
      "34/34 [==============================] - 42s 1s/step - loss: 2.0018 - acc: 0.2852 - val_loss: 1.9643 - val_acc: 0.2778\n",
      "Epoch 6/250\n",
      "34/34 [==============================] - 35s 1s/step - loss: 1.8849 - acc: 0.2993 - val_loss: 1.9581 - val_acc: 0.2734\n",
      "Epoch 7/250\n",
      "34/34 [==============================] - 36s 1s/step - loss: 1.8961 - acc: 0.2974 - val_loss: 1.7553 - val_acc: 0.3984\n",
      "Epoch 8/250\n",
      "34/34 [==============================] - 39s 1s/step - loss: 1.8653 - acc: 0.3045 - val_loss: 1.7150 - val_acc: 0.3516\n",
      "Epoch 9/250\n",
      "34/34 [==============================] - 39s 1s/step - loss: 1.7685 - acc: 0.3673 - val_loss: 1.6238 - val_acc: 0.3932\n",
      "Epoch 10/250\n",
      "34/34 [==============================] - 38s 1s/step - loss: 1.7601 - acc: 0.3406 - val_loss: 1.6207 - val_acc: 0.3750\n",
      "Epoch 11/250\n",
      "34/34 [==============================] - 39s 1s/step - loss: 1.8169 - acc: 0.3171 - val_loss: 1.7007 - val_acc: 0.3320\n",
      "Epoch 12/250\n",
      "34/34 [==============================] - 36s 1s/step - loss: 1.7185 - acc: 0.3552 - val_loss: 1.7770 - val_acc: 0.3750\n",
      "Epoch 13/250\n",
      "34/34 [==============================] - 37s 1s/step - loss: 1.7306 - acc: 0.3626 - val_loss: 1.7128 - val_acc: 0.3828\n",
      "Epoch 14/250\n",
      "34/34 [==============================] - 42s 1s/step - loss: 1.5975 - acc: 0.3830 - val_loss: 1.6414 - val_acc: 0.3632\n",
      "Epoch 15/250\n",
      "34/34 [==============================] - 34s 1s/step - loss: 1.5381 - acc: 0.4413 - val_loss: 1.4883 - val_acc: 0.4453\n",
      "Epoch 16/250\n",
      "34/34 [==============================] - 37s 1s/step - loss: 1.4962 - acc: 0.4606 - val_loss: 1.6249 - val_acc: 0.3945\n",
      "Epoch 17/250\n",
      "34/34 [==============================] - 40s 1s/step - loss: 1.5459 - acc: 0.4412 - val_loss: 1.3858 - val_acc: 0.4883\n",
      "Epoch 18/250\n",
      "34/34 [==============================] - 37s 1s/step - loss: 1.5379 - acc: 0.4295 - val_loss: 1.4271 - val_acc: 0.4957\n",
      "Epoch 19/250\n",
      "34/34 [==============================] - 35s 1s/step - loss: 1.4598 - acc: 0.4585 - val_loss: 1.4271 - val_acc: 0.4961\n",
      "Epoch 20/250\n",
      "34/34 [==============================] - 38s 1s/step - loss: 1.4315 - acc: 0.4926 - val_loss: 1.4052 - val_acc: 0.4648\n",
      "Epoch 21/250\n",
      "34/34 [==============================] - 38s 1s/step - loss: 1.4481 - acc: 0.4874 - val_loss: 1.3606 - val_acc: 0.5273\n",
      "Epoch 22/250\n",
      "34/34 [==============================] - 38s 1s/step - loss: 1.3394 - acc: 0.5184 - val_loss: 1.4510 - val_acc: 0.4701\n",
      "Epoch 23/250\n",
      "34/34 [==============================] - 36s 1s/step - loss: 1.3197 - acc: 0.5175 - val_loss: 1.3196 - val_acc: 0.5312\n",
      "Epoch 24/250\n",
      "34/34 [==============================] - 39s 1s/step - loss: 1.3265 - acc: 0.5213 - val_loss: 1.2797 - val_acc: 0.5391\n",
      "Epoch 25/250\n",
      "34/34 [==============================] - 40s 1s/step - loss: 1.3752 - acc: 0.4958 - val_loss: 1.2426 - val_acc: 0.5312\n",
      "Epoch 26/250\n",
      "34/34 [==============================] - 37s 1s/step - loss: 1.2859 - acc: 0.5239 - val_loss: 1.1281 - val_acc: 0.5820\n",
      "Epoch 27/250\n",
      "34/34 [==============================] - 43s 1s/step - loss: 1.2357 - acc: 0.5561 - val_loss: 1.3412 - val_acc: 0.5085\n",
      "Epoch 28/250\n",
      "34/34 [==============================] - 33s 985ms/step - loss: 1.2511 - acc: 0.5536 - val_loss: 1.0976 - val_acc: 0.5898\n",
      "Epoch 29/250\n",
      "34/34 [==============================] - 37s 1s/step - loss: 1.2515 - acc: 0.5366 - val_loss: 1.2230 - val_acc: 0.5117\n",
      "Epoch 30/250\n",
      "34/34 [==============================] - 39s 1s/step - loss: 1.1572 - acc: 0.5781 - val_loss: 1.1654 - val_acc: 0.5977\n",
      "Epoch 31/250\n",
      "34/34 [==============================] - 38s 1s/step - loss: 1.1526 - acc: 0.5837 - val_loss: 1.0425 - val_acc: 0.5684\n",
      "Epoch 32/250\n",
      "34/34 [==============================] - 36s 1s/step - loss: 1.1543 - acc: 0.5757 - val_loss: 1.0682 - val_acc: 0.6289\n",
      "Epoch 33/250\n",
      "34/34 [==============================] - 39s 1s/step - loss: 1.1160 - acc: 0.5982 - val_loss: 1.0136 - val_acc: 0.6172\n",
      "Epoch 34/250\n",
      "34/34 [==============================] - 37s 1s/step - loss: 1.1066 - acc: 0.5737 - val_loss: 0.9711 - val_acc: 0.6367\n",
      "Epoch 35/250\n",
      "34/34 [==============================] - 36s 1s/step - loss: 1.0618 - acc: 0.6131 - val_loss: 1.0320 - val_acc: 0.6026\n",
      "Epoch 36/250\n",
      "34/34 [==============================] - 40s 1s/step - loss: 1.0744 - acc: 0.6161 - val_loss: 1.2339 - val_acc: 0.5234\n",
      "Epoch 37/250\n",
      "34/34 [==============================] - 38s 1s/step - loss: 1.0997 - acc: 0.5938 - val_loss: 1.0690 - val_acc: 0.5781\n",
      "Epoch 38/250\n",
      "34/34 [==============================] - 40s 1s/step - loss: 1.0330 - acc: 0.6254 - val_loss: 1.0648 - val_acc: 0.6133\n",
      "Epoch 39/250\n",
      "34/34 [==============================] - 37s 1s/step - loss: 1.0244 - acc: 0.6167 - val_loss: 0.9749 - val_acc: 0.6641\n",
      "Epoch 40/250\n",
      "34/34 [==============================] - 40s 1s/step - loss: 1.0108 - acc: 0.6331 - val_loss: 1.0148 - val_acc: 0.6538\n",
      "Epoch 41/250\n",
      "34/34 [==============================] - 36s 1s/step - loss: 0.9521 - acc: 0.6574 - val_loss: 0.9474 - val_acc: 0.6289\n",
      "Epoch 42/250\n",
      "34/34 [==============================] - 39s 1s/step - loss: 0.9759 - acc: 0.6428 - val_loss: 1.0184 - val_acc: 0.6406\n",
      "Epoch 43/250\n",
      "34/34 [==============================] - 38s 1s/step - loss: 1.0120 - acc: 0.6608 - val_loss: 1.0186 - val_acc: 0.6289\n",
      "Epoch 44/250\n",
      "34/34 [==============================] - 39s 1s/step - loss: 1.0362 - acc: 0.6538 - val_loss: 0.9799 - val_acc: 0.6282\n",
      "Epoch 45/250\n",
      "34/34 [==============================] - 37s 1s/step - loss: 0.9152 - acc: 0.6749 - val_loss: 0.8484 - val_acc: 0.6953\n",
      "Epoch 46/250\n",
      "34/34 [==============================] - 38s 1s/step - loss: 0.9051 - acc: 0.6620 - val_loss: 0.8667 - val_acc: 0.7070\n",
      "Epoch 47/250\n",
      "34/34 [==============================] - 40s 1s/step - loss: 0.9309 - acc: 0.6776 - val_loss: 0.8660 - val_acc: 0.7031\n",
      "Epoch 48/250\n",
      "34/34 [==============================] - 36s 1s/step - loss: 0.9288 - acc: 0.6765 - val_loss: 0.8923 - val_acc: 0.6680\n",
      "Epoch 49/250\n",
      "34/34 [==============================] - 44s 1s/step - loss: 0.9203 - acc: 0.6585 - val_loss: 0.8312 - val_acc: 0.6966\n",
      "Epoch 50/250\n",
      "34/34 [==============================] - 32s 945ms/step - loss: 0.8419 - acc: 0.7031 - val_loss: 0.8308 - val_acc: 0.6953\n",
      "Epoch 51/250\n",
      "34/34 [==============================] - 38s 1s/step - loss: 0.8487 - acc: 0.7099 - val_loss: 0.8086 - val_acc: 0.7305\n",
      "Epoch 52/250\n",
      "34/34 [==============================] - 37s 1s/step - loss: 0.9167 - acc: 0.6684 - val_loss: 0.8975 - val_acc: 0.7031\n",
      "Epoch 53/250\n",
      "34/34 [==============================] - 39s 1s/step - loss: 0.8382 - acc: 0.7285 - val_loss: 0.8800 - val_acc: 0.7051\n",
      "Epoch 54/250\n",
      "34/34 [==============================] - 34s 1s/step - loss: 0.8503 - acc: 0.7115 - val_loss: 0.9928 - val_acc: 0.6523\n",
      "Epoch 55/250\n",
      "34/34 [==============================] - 40s 1s/step - loss: 0.8511 - acc: 0.7068 - val_loss: 0.6629 - val_acc: 0.7773\n",
      "Epoch 56/250\n",
      "34/34 [==============================] - 37s 1s/step - loss: 0.8230 - acc: 0.7018 - val_loss: 0.8705 - val_acc: 0.6875\n",
      "Epoch 57/250\n",
      "34/34 [==============================] - 38s 1s/step - loss: 0.8618 - acc: 0.7033 - val_loss: 0.7750 - val_acc: 0.7265\n",
      "Epoch 58/250\n",
      "34/34 [==============================] - 37s 1s/step - loss: 0.8273 - acc: 0.7035 - val_loss: 0.8458 - val_acc: 0.6914\n",
      "Epoch 59/250\n",
      "34/34 [==============================] - 39s 1s/step - loss: 0.8116 - acc: 0.7050 - val_loss: 0.7663 - val_acc: 0.7344\n",
      "Epoch 60/250\n",
      "34/34 [==============================] - 38s 1s/step - loss: 0.8140 - acc: 0.7213 - val_loss: 0.6928 - val_acc: 0.7852\n",
      "Epoch 61/250\n",
      "34/34 [==============================] - 38s 1s/step - loss: 0.7364 - acc: 0.7564 - val_loss: 0.6922 - val_acc: 0.7617\n",
      "Epoch 62/250\n",
      "34/34 [==============================] - 42s 1s/step - loss: 0.7433 - acc: 0.7366 - val_loss: 0.6874 - val_acc: 0.7393\n",
      "Epoch 63/250\n",
      "34/34 [==============================] - 35s 1s/step - loss: 0.7682 - acc: 0.7224 - val_loss: 0.6686 - val_acc: 0.7617\n",
      "Epoch 64/250\n",
      "34/34 [==============================] - 39s 1s/step - loss: 0.7649 - acc: 0.7320 - val_loss: 0.6716 - val_acc: 0.7578\n",
      "Epoch 65/250\n",
      "34/34 [==============================] - 37s 1s/step - loss: 0.7943 - acc: 0.7149 - val_loss: 0.8693 - val_acc: 0.7383\n",
      "Epoch 66/250\n",
      "34/34 [==============================] - 38s 1s/step - loss: 0.7632 - acc: 0.7417 - val_loss: 0.6950 - val_acc: 0.7350\n",
      "Epoch 67/250\n",
      "34/34 [==============================] - 38s 1s/step - loss: 0.6928 - acc: 0.7478 - val_loss: 0.6083 - val_acc: 0.7656\n",
      "Epoch 68/250\n",
      "34/34 [==============================] - 38s 1s/step - loss: 0.7517 - acc: 0.7403 - val_loss: 0.6852 - val_acc: 0.7461\n",
      "Epoch 69/250\n",
      "34/34 [==============================] - 38s 1s/step - loss: 0.7269 - acc: 0.7546 - val_loss: 0.5240 - val_acc: 0.7734\n",
      "Epoch 70/250\n",
      "34/34 [==============================] - 35s 1s/step - loss: 0.6933 - acc: 0.7562 - val_loss: 0.6506 - val_acc: 0.7607\n",
      "Epoch 71/250\n",
      "34/34 [==============================] - 40s 1s/step - loss: 0.6244 - acc: 0.7789 - val_loss: 0.6205 - val_acc: 0.7695\n",
      "Epoch 72/250\n",
      "34/34 [==============================] - 39s 1s/step - loss: 0.6804 - acc: 0.7672 - val_loss: 0.5860 - val_acc: 0.7734\n",
      "Epoch 73/250\n",
      "34/34 [==============================] - 38s 1s/step - loss: 0.6133 - acc: 0.7807 - val_loss: 0.6102 - val_acc: 0.7852\n",
      "Epoch 74/250\n",
      "34/34 [==============================] - 36s 1s/step - loss: 0.7116 - acc: 0.7709 - val_loss: 0.5820 - val_acc: 0.7969\n",
      "Epoch 75/250\n",
      "34/34 [==============================] - 40s 1s/step - loss: 0.6476 - acc: 0.7884 - val_loss: 0.5946 - val_acc: 0.7949\n",
      "Epoch 76/250\n",
      "34/34 [==============================] - 35s 1s/step - loss: 0.7411 - acc: 0.7588 - val_loss: 0.6655 - val_acc: 0.7734\n",
      "Epoch 77/250\n",
      "34/34 [==============================] - 38s 1s/step - loss: 0.6725 - acc: 0.7790 - val_loss: 0.5636 - val_acc: 0.8047\n",
      "Epoch 78/250\n",
      "34/34 [==============================] - 40s 1s/step - loss: 0.5682 - acc: 0.8088 - val_loss: 0.5340 - val_acc: 0.8086\n",
      "Epoch 79/250\n",
      "34/34 [==============================] - 40s 1s/step - loss: 0.6148 - acc: 0.7853 - val_loss: 0.5426 - val_acc: 0.7949\n",
      "Epoch 80/250\n",
      "34/34 [==============================] - 35s 1s/step - loss: 0.6053 - acc: 0.7839 - val_loss: 0.5834 - val_acc: 0.7969\n",
      "Epoch 81/250\n",
      "34/34 [==============================] - 37s 1s/step - loss: 0.6373 - acc: 0.7973 - val_loss: 0.5550 - val_acc: 0.7852\n",
      "Epoch 82/250\n",
      "34/34 [==============================] - 39s 1s/step - loss: 0.6426 - acc: 0.7774 - val_loss: 0.5094 - val_acc: 0.8047\n",
      "Epoch 83/250\n",
      "34/34 [==============================] - 36s 1s/step - loss: 0.6634 - acc: 0.7736 - val_loss: 0.5694 - val_acc: 0.8125\n",
      "Epoch 84/250\n",
      "34/34 [==============================] - 45s 1s/step - loss: 0.5989 - acc: 0.7886 - val_loss: 0.6177 - val_acc: 0.8077\n",
      "Epoch 85/250\n",
      "34/34 [==============================] - 33s 968ms/step - loss: 0.6193 - acc: 0.7990 - val_loss: 0.7448 - val_acc: 0.7461\n",
      "Epoch 86/250\n",
      "34/34 [==============================] - 38s 1s/step - loss: 0.6249 - acc: 0.7941 - val_loss: 0.6304 - val_acc: 0.7891\n",
      "Epoch 87/250\n",
      "34/34 [==============================] - 38s 1s/step - loss: 0.5400 - acc: 0.8117 - val_loss: 0.8088 - val_acc: 0.7188\n",
      "Epoch 88/250\n",
      "34/34 [==============================] - 38s 1s/step - loss: 0.6399 - acc: 0.7858 - val_loss: 0.6159 - val_acc: 0.8162\n",
      "Epoch 89/250\n",
      "34/34 [==============================] - 36s 1s/step - loss: 0.5738 - acc: 0.8020 - val_loss: 0.5820 - val_acc: 0.8164\n",
      "Epoch 90/250\n",
      "34/34 [==============================] - 37s 1s/step - loss: 0.6071 - acc: 0.7893 - val_loss: 0.6703 - val_acc: 0.8008\n",
      "Epoch 91/250\n",
      "34/34 [==============================] - 38s 1s/step - loss: 0.5514 - acc: 0.7993 - val_loss: 0.3558 - val_acc: 0.8867\n",
      "Epoch 92/250\n",
      "34/34 [==============================] - 36s 1s/step - loss: 0.4879 - acc: 0.8355 - val_loss: 0.4379 - val_acc: 0.8419\n",
      "Epoch 93/250\n",
      "34/34 [==============================] - 39s 1s/step - loss: 0.5612 - acc: 0.8079 - val_loss: 0.5868 - val_acc: 0.8086\n",
      "Epoch 94/250\n",
      "34/34 [==============================] - 38s 1s/step - loss: 0.5977 - acc: 0.8012 - val_loss: 0.5024 - val_acc: 0.8164\n",
      "Epoch 95/250\n",
      "34/34 [==============================] - 39s 1s/step - loss: 0.6432 - acc: 0.7902 - val_loss: 0.4454 - val_acc: 0.8633\n",
      "Epoch 96/250\n",
      "34/34 [==============================] - 38s 1s/step - loss: 0.6674 - acc: 0.7822 - val_loss: 0.5857 - val_acc: 0.7930\n",
      "Epoch 97/250\n",
      "34/34 [==============================] - 42s 1s/step - loss: 0.5638 - acc: 0.7956 - val_loss: 0.4567 - val_acc: 0.8462\n",
      "Epoch 98/250\n",
      "34/34 [==============================] - 34s 1s/step - loss: 0.4586 - acc: 0.8579 - val_loss: 0.5929 - val_acc: 0.8125\n",
      "Epoch 99/250\n",
      "34/34 [==============================] - 38s 1s/step - loss: 0.5291 - acc: 0.8300 - val_loss: 0.4808 - val_acc: 0.8711\n",
      "Epoch 100/250\n",
      "34/34 [==============================] - 38s 1s/step - loss: 0.4576 - acc: 0.8294 - val_loss: 0.4439 - val_acc: 0.8672\n",
      "Epoch 101/250\n",
      "34/34 [==============================] - 40s 1s/step - loss: 0.5248 - acc: 0.8235 - val_loss: 0.4196 - val_acc: 0.8462\n",
      "Epoch 102/250\n",
      "34/34 [==============================] - 35s 1s/step - loss: 0.5265 - acc: 0.8232 - val_loss: 0.4624 - val_acc: 0.8477\n",
      "Epoch 103/250\n",
      "34/34 [==============================] - 39s 1s/step - loss: 0.5331 - acc: 0.8213 - val_loss: 0.4531 - val_acc: 0.8320\n",
      "Epoch 104/250\n",
      "34/34 [==============================] - 38s 1s/step - loss: 0.4623 - acc: 0.8464 - val_loss: 0.4598 - val_acc: 0.8281\n",
      "Epoch 105/250\n",
      "34/34 [==============================] - 36s 1s/step - loss: 0.4863 - acc: 0.8370 - val_loss: 0.4246 - val_acc: 0.8675\n",
      "Epoch 106/250\n",
      "34/34 [==============================] - 40s 1s/step - loss: 0.4694 - acc: 0.8481 - val_loss: 0.6395 - val_acc: 0.8125\n",
      "Epoch 107/250\n",
      "34/34 [==============================] - 37s 1s/step - loss: 0.6285 - acc: 0.7956 - val_loss: 0.4366 - val_acc: 0.8477\n",
      "Epoch 108/250\n",
      "34/34 [==============================] - 38s 1s/step - loss: 0.5092 - acc: 0.8334 - val_loss: 0.4345 - val_acc: 0.8320\n",
      "Epoch 109/250\n",
      "34/34 [==============================] - 38s 1s/step - loss: 0.4623 - acc: 0.8388 - val_loss: 0.4753 - val_acc: 0.8242\n",
      "Epoch 110/250\n",
      "34/34 [==============================] - 41s 1s/step - loss: 0.4273 - acc: 0.8572 - val_loss: 0.4646 - val_acc: 0.8333\n",
      "Epoch 111/250\n",
      "34/34 [==============================] - 36s 1s/step - loss: 0.4412 - acc: 0.8667 - val_loss: 0.4180 - val_acc: 0.8398\n",
      "Epoch 112/250\n",
      "34/34 [==============================] - 37s 1s/step - loss: 0.4943 - acc: 0.8304 - val_loss: 0.4675 - val_acc: 0.8633\n",
      "Epoch 113/250\n",
      "34/34 [==============================] - 36s 1s/step - loss: 0.4749 - acc: 0.8536 - val_loss: 0.3431 - val_acc: 0.8750\n",
      "Epoch 114/250\n",
      "34/34 [==============================] - 40s 1s/step - loss: 0.3518 - acc: 0.8833 - val_loss: 0.3690 - val_acc: 0.8803\n",
      "Epoch 115/250\n",
      "34/34 [==============================] - 39s 1s/step - loss: 0.4449 - acc: 0.8437 - val_loss: 0.5363 - val_acc: 0.8359\n",
      "Epoch 116/250\n",
      "34/34 [==============================] - 38s 1s/step - loss: 0.5811 - acc: 0.8133 - val_loss: 0.3389 - val_acc: 0.8867\n",
      "Epoch 117/250\n",
      "34/34 [==============================] - 39s 1s/step - loss: 0.4656 - acc: 0.8382 - val_loss: 0.3198 - val_acc: 0.8867\n",
      "Epoch 118/250\n",
      "34/34 [==============================] - 36s 1s/step - loss: 0.4877 - acc: 0.8229 - val_loss: 0.4443 - val_acc: 0.8281\n",
      "Epoch 119/250\n",
      "34/34 [==============================] - 45s 1s/step - loss: 0.4339 - acc: 0.8410 - val_loss: 0.4423 - val_acc: 0.8761\n",
      "Epoch 120/250\n",
      "34/34 [==============================] - 37s 1s/step - loss: 0.4019 - acc: 0.8701 - val_loss: 0.4645 - val_acc: 0.8672\n",
      "Epoch 121/250\n",
      "34/34 [==============================] - 36s 1s/step - loss: 0.3807 - acc: 0.8658 - val_loss: 0.3302 - val_acc: 0.9102\n",
      "Epoch 122/250\n",
      "34/34 [==============================] - 39s 1s/step - loss: 0.7070 - acc: 0.7874 - val_loss: 0.7038 - val_acc: 0.7656\n",
      "Epoch 123/250\n",
      "34/34 [==============================] - 37s 1s/step - loss: 0.6100 - acc: 0.7818 - val_loss: 0.4612 - val_acc: 0.8419\n",
      "Epoch 124/250\n",
      "34/34 [==============================] - 38s 1s/step - loss: 0.4910 - acc: 0.8409 - val_loss: 0.4735 - val_acc: 0.8477\n",
      "Epoch 125/250\n",
      "34/34 [==============================] - 38s 1s/step - loss: 0.4146 - acc: 0.8676 - val_loss: 0.4985 - val_acc: 0.8477\n",
      "Epoch 126/250\n",
      "34/34 [==============================] - 40s 1s/step - loss: 0.4280 - acc: 0.8566 - val_loss: 0.3558 - val_acc: 0.8828\n",
      "Epoch 127/250\n",
      "34/34 [==============================] - 35s 1s/step - loss: 0.4323 - acc: 0.8680 - val_loss: 0.3389 - val_acc: 0.8889\n",
      "Epoch 128/250\n",
      "34/34 [==============================] - 37s 1s/step - loss: 0.4569 - acc: 0.8539 - val_loss: 0.2869 - val_acc: 0.9258\n",
      "Epoch 129/250\n",
      "34/34 [==============================] - 39s 1s/step - loss: 0.3681 - acc: 0.8915 - val_loss: 0.5439 - val_acc: 0.8320\n",
      "Epoch 130/250\n",
      "34/34 [==============================] - 38s 1s/step - loss: 0.5032 - acc: 0.8359 - val_loss: 0.4779 - val_acc: 0.8555\n",
      "Epoch 131/250\n",
      "34/34 [==============================] - 36s 1s/step - loss: 0.4988 - acc: 0.8305 - val_loss: 0.5699 - val_acc: 0.8242\n",
      "Epoch 132/250\n",
      "34/34 [==============================] - 43s 1s/step - loss: 0.3937 - acc: 0.8573 - val_loss: 0.3398 - val_acc: 0.8846\n",
      "Epoch 133/250\n",
      "34/34 [==============================] - 33s 977ms/step - loss: 0.3640 - acc: 0.8725 - val_loss: 0.4899 - val_acc: 0.8281\n",
      "Epoch 134/250\n",
      "34/34 [==============================] - 39s 1s/step - loss: 0.3914 - acc: 0.8787 - val_loss: 0.3511 - val_acc: 0.8711\n",
      "Epoch 135/250\n",
      "34/34 [==============================] - 37s 1s/step - loss: 0.3772 - acc: 0.8799 - val_loss: 0.2700 - val_acc: 0.9102\n",
      "Epoch 136/250\n",
      "34/34 [==============================] - 39s 1s/step - loss: 0.3811 - acc: 0.8731 - val_loss: 0.3454 - val_acc: 0.9060\n",
      "Epoch 137/250\n",
      "34/34 [==============================] - 38s 1s/step - loss: 0.3578 - acc: 0.8787 - val_loss: 0.2469 - val_acc: 0.9141\n",
      "Epoch 138/250\n",
      "34/34 [==============================] - 37s 1s/step - loss: 0.4330 - acc: 0.8426 - val_loss: 0.5374 - val_acc: 0.8203\n",
      "Epoch 139/250\n",
      "34/34 [==============================] - 38s 1s/step - loss: 0.5595 - acc: 0.8103 - val_loss: 0.3499 - val_acc: 0.8828\n",
      "Epoch 140/250\n",
      "34/34 [==============================] - 35s 1s/step - loss: 0.3805 - acc: 0.8610 - val_loss: 0.5876 - val_acc: 0.8462\n",
      "Epoch 141/250\n",
      "34/34 [==============================] - 39s 1s/step - loss: 0.4604 - acc: 0.8454 - val_loss: 0.2957 - val_acc: 0.9141\n",
      "Epoch 142/250\n",
      "34/34 [==============================] - 37s 1s/step - loss: 0.3427 - acc: 0.8849 - val_loss: 0.3630 - val_acc: 0.8594\n",
      "Epoch 143/250\n",
      "34/34 [==============================] - 38s 1s/step - loss: 0.3228 - acc: 0.8878 - val_loss: 0.3661 - val_acc: 0.8711\n",
      "Epoch 144/250\n",
      "34/34 [==============================] - 38s 1s/step - loss: 0.2776 - acc: 0.9025 - val_loss: 0.3582 - val_acc: 0.8906\n",
      "Epoch 145/250\n",
      "34/34 [==============================] - 40s 1s/step - loss: 0.3136 - acc: 0.8943 - val_loss: 0.3321 - val_acc: 0.8504\n",
      "Epoch 146/250\n",
      "34/34 [==============================] - 35s 1s/step - loss: 0.3678 - acc: 0.8923 - val_loss: 0.3279 - val_acc: 0.8867\n",
      "Epoch 147/250\n",
      "34/34 [==============================] - 39s 1s/step - loss: 0.4299 - acc: 0.8679 - val_loss: 0.2956 - val_acc: 0.9141\n",
      "Epoch 148/250\n",
      "34/34 [==============================] - 39s 1s/step - loss: 0.3412 - acc: 0.8763 - val_loss: 0.2926 - val_acc: 0.8984\n",
      "Epoch 149/250\n",
      "34/34 [==============================] - 35s 1s/step - loss: 0.2819 - acc: 0.9071 - val_loss: 0.4533 - val_acc: 0.8547\n",
      "Epoch 150/250\n",
      "34/34 [==============================] - 37s 1s/step - loss: 0.3638 - acc: 0.8740 - val_loss: 0.3655 - val_acc: 0.8789\n",
      "Epoch 151/250\n",
      "34/34 [==============================] - 38s 1s/step - loss: 0.4075 - acc: 0.8618 - val_loss: 0.2897 - val_acc: 0.9102\n",
      "Epoch 152/250\n",
      "34/34 [==============================] - 39s 1s/step - loss: 0.3631 - acc: 0.8785 - val_loss: 0.3103 - val_acc: 0.8945\n",
      "Epoch 153/250\n",
      "34/34 [==============================] - 38s 1s/step - loss: 0.4378 - acc: 0.8518 - val_loss: 0.4780 - val_acc: 0.8398\n",
      "Epoch 154/250\n",
      "34/34 [==============================] - 45s 1s/step - loss: 0.3717 - acc: 0.8658 - val_loss: 0.3314 - val_acc: 0.8932\n",
      "Epoch 155/250\n",
      "34/34 [==============================] - 33s 969ms/step - loss: 0.3124 - acc: 0.9024 - val_loss: 0.3229 - val_acc: 0.8984\n",
      "Epoch 156/250\n",
      "34/34 [==============================] - 38s 1s/step - loss: 0.3146 - acc: 0.8979 - val_loss: 0.2731 - val_acc: 0.9102\n",
      "Epoch 157/250\n",
      "34/34 [==============================] - 38s 1s/step - loss: 0.2953 - acc: 0.8978 - val_loss: 0.3232 - val_acc: 0.8945\n",
      "Epoch 158/250\n",
      "34/34 [==============================] - 39s 1s/step - loss: 0.3223 - acc: 0.8736 - val_loss: 0.4206 - val_acc: 0.8675\n"
     ]
    }
   ],
   "source": [
    "history = model.fit_generator(train_generator,\n",
    "                              steps_per_epoch= train_num // batch_size,\n",
    "                              epochs=250,\n",
    "                              validation_data=train_generator,\n",
    "                              validation_steps= validation_num // batch_size,\n",
    "                              callbacks=early_stop, \n",
    "                              verbose = 1\n",
    "                             )"
   ]
  },
  {
   "cell_type": "markdown",
   "metadata": {},
   "source": [
    "## 6. 학습 과정 시각화"
   ]
  },
  {
   "cell_type": "code",
   "execution_count": 20,
   "metadata": {
    "colab": {
     "base_uri": "https://localhost:8080/",
     "height": 545
    },
    "colab_type": "code",
    "id": "BH5C7xcLbiuK",
    "outputId": "5f57dc14-87cf-4f75-8ece-08a3aa0a21b6",
    "scrolled": true
   },
   "outputs": [
    {
     "data": {
      "image/png": "[encoded data removed]",
      "text/plain": [
       "<Figure size 432x288 with 1 Axes>"
      ]
     },
     "metadata": {
      "tags": []
     },
     "output_type": "display_data"
    },
    {
     "data": {
      "image/png": "[encoded data removed]",
      "text/plain": [
       "<Figure size 432x288 with 1 Axes>"
      ]
     },
     "metadata": {
      "tags": []
     },
     "output_type": "display_data"
    }
   ],
   "source": [
    "acc = history.history['acc']\n",
    "val_acc = history.history['val_acc']\n",
    "loss = history.history['loss']\n",
    "val_loss = history.history['val_loss']\n",
    "epochs = range(1, len(acc) + 1)\n",
    "\n",
    "plt.title('Training and validation accuracy')\n",
    "plt.plot(epochs, acc, 'red', label='Training acc')\n",
    "plt.plot(epochs, val_acc, 'blue', label='Validation acc')\n",
    "plt.legend()\n",
    "\n",
    "plt.figure()\n",
    "plt.title('Training and validation loss')\n",
    "plt.plot(epochs, loss, 'red', label='Training loss')\n",
    "plt.plot(epochs, val_loss, 'blue', label='Validation loss')\n",
    "\n",
    "plt.legend()\n",
    "\n",
    "plt.show()"
   ]
  },
  {
   "cell_type": "markdown",
   "metadata": {},
   "source": [
    "## 7. 예측 결과 시각화"
   ]
  },
  {
   "cell_type": "code",
   "execution_count": 0,
   "metadata": {
    "colab": {},
    "colab_type": "code",
    "id": "-5VDXJLrKvWq"
   },
   "outputs": [],
   "source": [
    "def plot_confusion_matrix(cm, target_names,title='Confusion matrix',cmap=None,normalize=False):\n",
    "    accuracy = np.trace(cm) / float(np.sum(cm))\n",
    "    misclass = 1 - accuracy\n",
    "    if cmap is None:\n",
    "        cmap = plt.get_cmap('Blues')\n",
    "    plt.figure(figsize=(10, 8))\n",
    "    plt.imshow(cm, interpolation='nearest', cmap=cmap)\n",
    "    plt.title(title)\n",
    "    plt.colorbar()\n",
    "\n",
    "    if target_names is not None:\n",
    "        tick_marks = np.arange(len(target_names))\n",
    "        plt.xticks(tick_marks, target_names, rotation=45)\n",
    "        plt.yticks(tick_marks, target_names)\n",
    "\n",
    "    if normalize:\n",
    "        cm = cm.astype('float32') / cm.sum(axis=1)\n",
    "        cm = np.round(cm,2)\n",
    "        \n",
    "\n",
    "    thresh = cm.max() / 1.5 if normalize else cm.max() / 2\n",
    "    for i, j in itertools.product(range(cm.shape[0]), range(cm.shape[1])):\n",
    "        if normalize:\n",
    "            plt.text(j, i, \"{:0.2f}\".format(cm[i, j]),\n",
    "                     horizontalalignment=\"center\",\n",
    "                     color=\"white\" if cm[i, j] > thresh else \"black\")\n",
    "        else:\n",
    "            plt.text(j, i, \"{:,}\".format(cm[i, j]),\n",
    "                     horizontalalignment=\"center\",\n",
    "                     color=\"white\" if cm[i, j] > thresh else \"black\")\n",
    "\n",
    "    plt.tight_layout()\n",
    "    plt.ylabel('True label')\n",
    "    plt.xlabel(\"Predicted label\\naccuracy={:0.4f}\\n misclass={:0.4f}\".format(accuracy, misclass))\n",
    "    plt.show()"
   ]
  },
  {
   "cell_type": "code",
   "execution_count": 22,
   "metadata": {
    "colab": {
     "base_uri": "https://localhost:8080/",
     "height": 36
    },
    "colab_type": "code",
    "id": "tTyxawTCWrKv",
    "outputId": "930b5d6f-5d59-48ad-9e1d-0db864213464"
   },
   "outputs": [
    {
     "data": {
      "text/plain": [
       "[0.7854410786839092, 0.8198529411764706]"
      ]
     },
     "execution_count": 22,
     "metadata": {
      "tags": []
     },
     "output_type": "execute_result"
    }
   ],
   "source": [
    "model.evaluate_generator(test_generator)"
   ]
  },
  {
   "cell_type": "code",
   "execution_count": 0,
   "metadata": {
    "colab": {},
    "colab_type": "code",
    "id": "aCsXVbegKvxU"
   },
   "outputs": [],
   "source": [
    "Y_pred = model.predict_generator(test_generator, validation_num // batch_size+1)\n",
    "Y_pred_classes = np.argmax(Y_pred, axis = 1)\n",
    "confusion_mtx = confusion_matrix(y_true = test_generator.classes,y_pred = Y_pred_classes)"
   ]
  },
  {
   "cell_type": "code",
   "execution_count": 24,
   "metadata": {
    "colab": {
     "base_uri": "https://localhost:8080/",
     "height": 623
    },
    "colab_type": "code",
    "id": "wn3PksbRLmlt",
    "outputId": "3f763a5f-ac41-4553-871a-14fb1aff2de7"
   },
   "outputs": [
    {
     "data": {
      "image/png": "[encoded data removed]",
      "text/plain": [
       "<Figure size 720x576 with 2 Axes>"
      ]
     },
     "metadata": {
      "tags": []
     },
     "output_type": "display_data"
    }
   ],
   "source": [
    "plot_confusion_matrix(confusion_mtx, normalize=True, target_names=labels['Common Name'])"
   ]
  }
 ],
 "metadata": {
  "accelerator": "GPU",
  "colab": {
   "collapsed_sections": [],
   "name": "Untitled2.ipynb",
   "provenance": []
  },
  "kernelspec": {
   "display_name": "Python 3",
   "language": "python",
   "name": "python3"
  },
  "language_info": {
   "codemirror_mode": {
    "name": "ipython",
    "version": 3
   },
   "file_extension": ".py",
   "mimetype": "text/x-python",
   "name": "python",
   "nbconvert_exporter": "python",
   "pygments_lexer": "ipython3",
   "version": "3.7.6"
  }
 },
 "nbformat": 4,
 "nbformat_minor": 1
}
