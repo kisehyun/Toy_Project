{
 "cells": [
  {
   "cell_type": "markdown",
   "metadata": {
    "colab_type": "text",
    "id": "Ji6vN8-036SQ"
   },
   "source": [
    "# CNN을 활용한 CIFAR-10 분류"
   ]
  },
  {
   "cell_type": "markdown",
   "metadata": {
    "colab_type": "text",
    "id": "8aN54p3r4BMB"
   },
   "source": [
    "## 1. 패키지 불러오기"
   ]
  },
  {
   "cell_type": "code",
   "execution_count": 1,
   "metadata": {
    "colab": {
     "base_uri": "https://localhost:8080/",
     "height": 101
    },
    "colab_type": "code",
    "id": "ktkNwFHJ3_eT",
    "outputId": "3450abc9-4c9a-4441-fa3b-1a6a4f6d3c39"
   },
   "outputs": [
    {
     "name": "stderr",
     "output_type": "stream",
     "text": [
      "Using TensorFlow backend.\n"
     ]
    },
    {
     "data": {
      "text/html": [
       "<p style=\"color: red;\">\n",
       "The default version of TensorFlow in Colab will soon switch to TensorFlow 2.x.<br>\n",
       "We recommend you <a href=\"https://www.tensorflow.org/guide/migrate\" target=\"_blank\">upgrade</a> now \n",
       "or ensure your notebook will continue to use TensorFlow 1.x via the <code>%tensorflow_version 1.x</code> magic:\n",
       "<a href=\"https://colab.research.google.com/notebooks/tensorflow_version.ipynb\" target=\"_blank\">more info</a>.</p>\n"
      ],
      "text/plain": [
       "<IPython.core.display.HTML object>"
      ]
     },
     "metadata": {
      "tags": []
     },
     "output_type": "display_data"
    }
   ],
   "source": [
    "import numpy as np\n",
    "from keras.utils import to_categorical\n",
    "from keras.datasets import cifar10"
   ]
  },
  {
   "cell_type": "markdown",
   "metadata": {
    "colab_type": "text",
    "id": "vCKDq-fSDohf"
   },
   "source": [
    "## 2. 데이터 전처리"
   ]
  },
  {
   "cell_type": "code",
   "execution_count": 2,
   "metadata": {
    "colab": {
     "base_uri": "https://localhost:8080/",
     "height": 55
    },
    "colab_type": "code",
    "id": "Ec6wp2Tn46x1",
    "outputId": "145fedf0-8f41-4872-9950-55046761475f"
   },
   "outputs": [
    {
     "name": "stdout",
     "output_type": "stream",
     "text": [
      "Downloading data from https://www.cs.toronto.edu/~kriz/cifar-10-python.tar.gz\n",
      "170500096/170498071 [==============================] - 13s 0us/step\n"
     ]
    }
   ],
   "source": [
    "(X_tr, y_tr), (X_test, y_test) = cifar10.load_data()"
   ]
  },
  {
   "cell_type": "code",
   "execution_count": 0,
   "metadata": {
    "colab": {},
    "colab_type": "code",
    "id": "EHF6O_nF47Fm"
   },
   "outputs": [],
   "source": [
    "X_train = X_tr[:40000]\n",
    "y_train = y_tr[:40000]"
   ]
  },
  {
   "cell_type": "code",
   "execution_count": 0,
   "metadata": {
    "colab": {},
    "colab_type": "code",
    "id": "E-_-lsdD48ef"
   },
   "outputs": [],
   "source": [
    "X_val = X_tr[40000:]\n",
    "y_val = y_tr[40000:]"
   ]
  },
  
  {
   "cell_type": "code",
   "execution_count": 5,
   "metadata": {
    "colab": {
     "base_uri": "https://localhost:8080/",
     "height": 36
    },
    "colab_type": "code",
    "id": "HvGEkZt77C4T",
    "outputId": "4f725950-dc7c-4f24-f216-54f5c60e31f4"
   },
   "outputs": [
    {
     "data": {
      "text/plain": [
       "((40000, 32, 32, 3), (40000, 1))"
      ]
     },
     "execution_count": 5,
     "metadata": {
      "tags": []
     },
     "output_type": "execute_result"
    }
   ],
   "source": [
    "X_train.shape, y_train.shape"
   ]
  },
  {
   "cell_type": "code",
   "execution_count": 6,
   "metadata": {
    "colab": {
     "base_uri": "https://localhost:8080/",
     "height": 36
    },
    "colab_type": "code",
    "id": "KA1WDlkd7DPm",
    "outputId": "745eb16b-12a8-4aa9-996a-3769415c529e"
   },
   "outputs": [
    {
     "data": {
      "text/plain": [
       "((10000, 32, 32, 3), (10000, 1))"
      ]
     },
     "execution_count": 6,
     "metadata": {
      "tags": []
     },
     "output_type": "execute_result"
    }
   ],
   "source": [
    "X_val.shape, y_val.shape"
   ]
  },
  {
   "cell_type": "code",
   "execution_count": 7,
   "metadata": {
    "colab": {
     "base_uri": "https://localhost:8080/",
     "height": 36
    },
    "colab_type": "code",
    "id": "G-2lVUo_7GWG",
    "outputId": "77ddb41f-7ba9-4b8e-d6f8-b79b39a44c3e"
   },
   "outputs": [
    {
     "data": {
      "text/plain": [
       "((10000, 32, 32, 3), (10000, 1))"
      ]
     },
     "execution_count": 7,
     "metadata": {
      "tags": []
     },
     "output_type": "execute_result"
    }
   ],
   "source": [
    "X_test.shape, y_test.shape"
   ]
  },
  {
   "cell_type": "code",
   "execution_count": 0,
   "metadata": {
    "colab": {},
    "colab_type": "code",
    "id": "TzD5x7EP7HGw"
   },
   "outputs": [],
   "source": [
    "n_class = 10 # 총 10개의 카테고리를 가지고 있는 이미지 데이터로 10개의 클래스를 출력해야한다."
   ]
  },
  {
   "cell_type": "code",
   "execution_count": 0,
   "metadata": {
    "colab": {},
    "colab_type": "code",
    "id": "Kg7EQosg7IPc"
   },
   "outputs": [],
   "source": [
    "X_train = X_train.astype('float32') / 255.0"
   ]
  },
  {
   "cell_type": "code",
   "execution_count": 0,
   "metadata": {
    "colab": {},
    "colab_type": "code",
    "id": "Ses8xYZL7JOg"
   },
   "outputs": [],
   "source": [
    "X_val = X_val.astype('float32') / 255.0"
   ]
  },
  {
   "cell_type": "code",
   "execution_count": 0,
   "metadata": {
    "colab": {},
    "colab_type": "code",
    "id": "te3FHpiB7KHL"
   },
   "outputs": [],
   "source": [
    "X_test = X_test.astype('float32') / 255.0"
   ]
  },
  {
   "cell_type": "code",
   "execution_count": 0,
   "metadata": {
    "colab": {},
    "colab_type": "code",
    "id": "x872XWGn7K1-"
   },
   "outputs": [],
   "source": [
    "y_train = to_categorical(y_train, n_class)"
   ]
  },
  {
   "cell_type": "code",
   "execution_count": 0,
   "metadata": {
    "colab": {},
    "colab_type": "code",
    "id": "r3eQFm7y7LhR"
   },
   "outputs": [],
   "source": [
    "y_val = to_categorical(y_val, n_class)"
   ]
  },
  {
   "cell_type": "code",
   "execution_count": null,
   "metadata": {
    "colab": {},
    "colab_type": "code",
    "id": "QraV2Ga47MIC"
   },
   "outputs": [],
   "source": [
    "y_test = to_categorical(y_test, n_class)"
   ]
  },
  {
   "cell_type": "markdown",
   "metadata": {},
   "source": [
    "# 3. 모델링"
   ]
  },
  {
   "cell_type": "code",
   "execution_count": 0,
   "metadata": {
    "colab": {},
    "colab_type": "code",
    "id": "HdEOKD_i7MvF"
   },
   "outputs": [],
   "source": [
    "from keras.models import *\n",
    "from keras.layers import *"
   ]
  },
  {
   "cell_type": "code",
   "execution_count": 16,
   "metadata": {
    "colab": {
     "base_uri": "https://localhost:8080/",
     "height": 541
    },
    "colab_type": "code",
    "id": "hXXBloZT7boe",
    "outputId": "f6013732-cde3-4d51-9b88-7b4f344ea1cd"
   },
   "outputs": [
    {
     "name": "stdout",
     "output_type": "stream",
     "text": [
      "WARNING:tensorflow:From /usr/local/lib/python3.6/dist-packages/keras/backend/tensorflow_backend.py:66: The name tf.get_default_graph is deprecated. Please use tf.compat.v1.get_default_graph instead.\n",
      "\n",
      "WARNING:tensorflow:From /usr/local/lib/python3.6/dist-packages/keras/backend/tensorflow_backend.py:541: The name tf.placeholder is deprecated. Please use tf.compat.v1.placeholder instead.\n",
      "\n",
      "WARNING:tensorflow:From /usr/local/lib/python3.6/dist-packages/keras/backend/tensorflow_backend.py:4432: The name tf.random_uniform is deprecated. Please use tf.random.uniform instead.\n",
      "\n",
      "WARNING:tensorflow:From /usr/local/lib/python3.6/dist-packages/keras/backend/tensorflow_backend.py:4267: The name tf.nn.max_pool is deprecated. Please use tf.nn.max_pool2d instead.\n",
      "\n",
      "WARNING:tensorflow:From /usr/local/lib/python3.6/dist-packages/keras/backend/tensorflow_backend.py:148: The name tf.placeholder_with_default is deprecated. Please use tf.compat.v1.placeholder_with_default instead.\n",
      "\n",
      "WARNING:tensorflow:From /usr/local/lib/python3.6/dist-packages/keras/backend/tensorflow_backend.py:3733: calling dropout (from tensorflow.python.ops.nn_ops) with keep_prob is deprecated and will be removed in a future version.\n",
      "Instructions for updating:\n",
      "Please use `rate` instead of `keep_prob`. Rate should be set to `rate = 1 - keep_prob`.\n",
      "WARNING:tensorflow:From /usr/local/lib/python3.6/dist-packages/keras/backend/tensorflow_backend.py:190: The name tf.get_default_session is deprecated. Please use tf.compat.v1.get_default_session instead.\n",
      "\n",
      "WARNING:tensorflow:From /usr/local/lib/python3.6/dist-packages/keras/backend/tensorflow_backend.py:197: The name tf.ConfigProto is deprecated. Please use tf.compat.v1.ConfigProto instead.\n",
      "\n",
      "WARNING:tensorflow:From /usr/local/lib/python3.6/dist-packages/keras/backend/tensorflow_backend.py:203: The name tf.Session is deprecated. Please use tf.compat.v1.Session instead.\n",
      "\n",
      "WARNING:tensorflow:From /usr/local/lib/python3.6/dist-packages/keras/backend/tensorflow_backend.py:207: The name tf.global_variables is deprecated. Please use tf.compat.v1.global_variables instead.\n",
      "\n",
      "WARNING:tensorflow:From /usr/local/lib/python3.6/dist-packages/keras/backend/tensorflow_backend.py:216: The name tf.is_variable_initialized is deprecated. Please use tf.compat.v1.is_variable_initialized instead.\n",
      "\n",
      "WARNING:tensorflow:From /usr/local/lib/python3.6/dist-packages/keras/backend/tensorflow_backend.py:223: The name tf.variables_initializer is deprecated. Please use tf.compat.v1.variables_initializer instead.\n",
      "\n",
      "WARNING:tensorflow:From /usr/local/lib/python3.6/dist-packages/keras/backend/tensorflow_backend.py:2041: The name tf.nn.fused_batch_norm is deprecated. Please use tf.compat.v1.nn.fused_batch_norm instead.\n",
      "\n"
     ]
    }
   ],
   "source": [
    "input_layer = Input(shape = (32, 32, 3))\n",
    "x = Conv2D(64, (3,3), activation = 'relu')(input_layer)\n",
    "x = Conv2D(64, (3,3), activation = 'relu')(x)\n",
    "x = MaxPooling2D(pool_size = (2,2))(x)\n",
    "x = Conv2D(64, (3,3), activation = 'relu')(x)\n",
    "x = Conv2D(64, (3,3), activation = 'relu')(x)\n",
    "x = Dropout(0.2)(x)\n",
    "x = Conv2D(32, (3,3), activation = 'relu')(x)\n",
    "x = Conv2D(32, (3,3), activation = 'relu')(x)\n",
    "x = BatchNormalization()(x)\n",
    "x = Flatten()(x)\n",
    "x = Dense(32, activation = 'relu')(x)\n",
    "output_layer = Dense(10, activation = 'softmax')(x)\n",
    "model = Model(input_layer, output_layer)"
   ]
  },
  {
   "cell_type": "code",
   "execution_count": 17,
   "metadata": {
    "colab": {
     "base_uri": "https://localhost:8080/",
     "height": 652
    },
    "colab_type": "code",
    "id": "jyNGJZAM9Zw3",
    "outputId": "0f22e736-6843-482d-e2b7-de8379ae1056"
   },
   "outputs": [
    {
     "name": "stdout",
     "output_type": "stream",
     "text": [
      "Model: \"model_1\"\n",
      "_________________________________________________________________\n",
      "Layer (type)                 Output Shape              Param #   \n",
      "=================================================================\n",
      "input_1 (InputLayer)         (None, 32, 32, 3)         0         \n",
      "_________________________________________________________________\n",
      "conv2d_1 (Conv2D)            (None, 30, 30, 64)        1792      \n",
      "_________________________________________________________________\n",
      "conv2d_2 (Conv2D)            (None, 28, 28, 64)        36928     \n",
      "_________________________________________________________________\n",
      "max_pooling2d_1 (MaxPooling2 (None, 14, 14, 64)        0         \n",
      "_________________________________________________________________\n",
      "conv2d_3 (Conv2D)            (None, 12, 12, 64)        36928     \n",
      "_________________________________________________________________\n",
      "conv2d_4 (Conv2D)            (None, 10, 10, 64)        36928     \n",
      "_________________________________________________________________\n",
      "dropout_1 (Dropout)          (None, 10, 10, 64)        0         \n",
      "_________________________________________________________________\n",
      "conv2d_5 (Conv2D)            (None, 8, 8, 32)          18464     \n",
      "_________________________________________________________________\n",
      "conv2d_6 (Conv2D)            (None, 6, 6, 32)          9248      \n",
      "_________________________________________________________________\n",
      "batch_normalization_1 (Batch (None, 6, 6, 32)          128       \n",
      "_________________________________________________________________\n",
      "flatten_1 (Flatten)          (None, 1152)              0         \n",
      "_________________________________________________________________\n",
      "dense_1 (Dense)              (None, 32)                36896     \n",
      "_________________________________________________________________\n",
      "dense_2 (Dense)              (None, 10)                330       \n",
      "=================================================================\n",
      "Total params: 177,642\n",
      "Trainable params: 177,578\n",
      "Non-trainable params: 64\n",
      "_________________________________________________________________\n"
     ]
    }
   ],
   "source": [
    "model.summary()"
   ]
  },
  {
   "cell_type": "code",
   "execution_count": 18,
   "metadata": {
    "colab": {
     "base_uri": "https://localhost:8080/",
     "height": 112
    },
    "colab_type": "code",
    "id": "GVFV2jY39l9Y",
    "outputId": "d04027ba-2b10-4114-8098-a9aaa5b7e677"
   },
   "outputs": [
    {
     "name": "stdout",
     "output_type": "stream",
     "text": [
      "WARNING:tensorflow:From /usr/local/lib/python3.6/dist-packages/keras/optimizers.py:793: The name tf.train.Optimizer is deprecated. Please use tf.compat.v1.train.Optimizer instead.\n",
      "\n",
      "WARNING:tensorflow:From /usr/local/lib/python3.6/dist-packages/keras/backend/tensorflow_backend.py:3576: The name tf.log is deprecated. Please use tf.math.log instead.\n",
      "\n"
     ]
    }
   ],
   "source": [
    "model.compile(optimizer= 'adam', loss = 'categorical_crossentropy',\n",
    "              metrics = ['acc'])"
   ]
  },
  {
   "cell_type": "code",
   "execution_count": 19,
   "metadata": {
    "colab": {
     "base_uri": "https://localhost:8080/",
     "height": 933
    },
    "colab_type": "code",
    "id": "sTpkvKvS9uNy",
    "outputId": "2f58a3af-4412-4579-909e-cc2d4e4e48b9"
   },
   "outputs": [
    {
     "name": "stdout",
     "output_type": "stream",
     "text": [
      "WARNING:tensorflow:From /usr/local/lib/python3.6/dist-packages/tensorflow_core/python/ops/math_grad.py:1424: where (from tensorflow.python.ops.array_ops) is deprecated and will be removed in a future version.\n",
      "Instructions for updating:\n",
      "Use tf.where in 2.0, which has the same broadcast rule as np.where\n",
      "WARNING:tensorflow:From /usr/local/lib/python3.6/dist-packages/keras/backend/tensorflow_backend.py:1033: The name tf.assign_add is deprecated. Please use tf.compat.v1.assign_add instead.\n",
      "\n",
      "WARNING:tensorflow:From /usr/local/lib/python3.6/dist-packages/keras/backend/tensorflow_backend.py:1020: The name tf.assign is deprecated. Please use tf.compat.v1.assign instead.\n",
      "\n",
      "Train on 40000 samples, validate on 10000 samples\n",
      "Epoch 1/20\n",
      "40000/40000 [==============================] - 20s 502us/step - loss: 1.6348 - acc: 0.3945 - val_loss: 1.7235 - val_acc: 0.4090\n",
      "Epoch 2/20\n",
      "40000/40000 [==============================] - 13s 328us/step - loss: 1.2898 - acc: 0.5369 - val_loss: 1.1937 - val_acc: 0.5726\n",
      "Epoch 3/20\n",
      "40000/40000 [==============================] - 13s 331us/step - loss: 1.1088 - acc: 0.6049 - val_loss: 1.0557 - val_acc: 0.6194\n",
      "Epoch 4/20\n",
      "40000/40000 [==============================] - 13s 337us/step - loss: 1.0072 - acc: 0.6417 - val_loss: 1.1303 - val_acc: 0.5958\n",
      "Epoch 5/20\n",
      "40000/40000 [==============================] - 13s 337us/step - loss: 0.9385 - acc: 0.6680 - val_loss: 1.0648 - val_acc: 0.6262\n",
      "Epoch 6/20\n",
      "40000/40000 [==============================] - 13s 330us/step - loss: 0.8779 - acc: 0.6887 - val_loss: 0.9718 - val_acc: 0.6606\n",
      "Epoch 7/20\n",
      "40000/40000 [==============================] - 13s 331us/step - loss: 0.8306 - acc: 0.7051 - val_loss: 1.0734 - val_acc: 0.6300\n",
      "Epoch 8/20\n",
      "40000/40000 [==============================] - 13s 331us/step - loss: 0.7971 - acc: 0.7183 - val_loss: 0.8339 - val_acc: 0.7067\n",
      "Epoch 9/20\n",
      "40000/40000 [==============================] - 13s 332us/step - loss: 0.7590 - acc: 0.7308 - val_loss: 0.9750 - val_acc: 0.6688\n",
      "Epoch 10/20\n",
      "40000/40000 [==============================] - 13s 327us/step - loss: 0.7309 - acc: 0.7411 - val_loss: 1.0097 - val_acc: 0.6652\n",
      "Epoch 11/20\n",
      "40000/40000 [==============================] - 13s 327us/step - loss: 0.7051 - acc: 0.7514 - val_loss: 0.8514 - val_acc: 0.7100\n",
      "Epoch 12/20\n",
      "40000/40000 [==============================] - 13s 327us/step - loss: 0.6770 - acc: 0.7596 - val_loss: 0.9017 - val_acc: 0.6943\n",
      "Epoch 13/20\n",
      "40000/40000 [==============================] - 13s 332us/step - loss: 0.6481 - acc: 0.7686 - val_loss: 0.8522 - val_acc: 0.7103\n",
      "Epoch 14/20\n",
      "40000/40000 [==============================] - 13s 326us/step - loss: 0.6257 - acc: 0.7772 - val_loss: 0.8567 - val_acc: 0.7159\n",
      "Epoch 15/20\n",
      "40000/40000 [==============================] - 13s 326us/step - loss: 0.6030 - acc: 0.7858 - val_loss: 0.7717 - val_acc: 0.7382\n",
      "Epoch 16/20\n",
      "40000/40000 [==============================] - 13s 329us/step - loss: 0.5820 - acc: 0.7933 - val_loss: 0.7957 - val_acc: 0.7334\n",
      "Epoch 17/20\n",
      "40000/40000 [==============================] - 13s 328us/step - loss: 0.5618 - acc: 0.8010 - val_loss: 0.7986 - val_acc: 0.7336\n",
      "Epoch 18/20\n",
      "40000/40000 [==============================] - 13s 328us/step - loss: 0.5375 - acc: 0.8079 - val_loss: 0.7894 - val_acc: 0.7375\n",
      "Epoch 19/20\n",
      "40000/40000 [==============================] - 13s 326us/step - loss: 0.5259 - acc: 0.8137 - val_loss: 0.7999 - val_acc: 0.7415\n",
      "Epoch 20/20\n",
      "40000/40000 [==============================] - 13s 325us/step - loss: 0.5037 - acc: 0.8217 - val_loss: 0.7856 - val_acc: 0.7458\n"
     ]
    }
   ],
   "source": [
    "history = model.fit(X_train, y_train, batch_size = 32, epochs = 20, shuffle = True, validation_data = (X_val, y_val))"
   ]
  },
  {
   "cell_type": "code",
   "execution_count": 20,
   "metadata": {
    "colab": {
     "base_uri": "https://localhost:8080/",
     "height": 55
    },
    "colab_type": "code",
    "id": "a-TMI9sJ9xBt",
    "outputId": "334384e3-7560-4381-a7db-df9dd8bc7bd0",
    "scrolled": true
   },
   "outputs": [
    {
     "name": "stdout",
     "output_type": "stream",
     "text": [
      "10000/10000 [==============================] - 1s 104us/step\n"
     ]
    },
    {
     "data": {
      "text/plain": [
       "[0.8195055066108704, 0.7394]"
      ]
     },
     "execution_count": 20,
     "metadata": {
      "tags": []
     },
     "output_type": "execute_result"
    }
   ],
   "source": [
    "model.evaluate(X_test, y_test)"
   ]
  },
  {
   "cell_type": "markdown",
   "metadata": {},
   "source": [
    "# 4. 결과 시각화"
   ]
  },
  {
   "cell_type": "code",
   "execution_count": 0,
   "metadata": {
    "colab": {},
    "colab_type": "code",
    "id": "FfThnOaSBnSC"
   },
   "outputs": [],
   "source": [
    "pic = np.array(['airplane', 'automobile', 'bird', 'cat', 'deer', 'dog', 'frog', 'horse', 'ship', 'truck'])"
   ]
  },
  {
   "cell_type": "code",
   "execution_count": 0,
   "metadata": {
    "colab": {},
    "colab_type": "code",
    "id": "1z-Rq5E7BnzN"
   },
   "outputs": [],
   "source": [
    "pred = model.predict(X_test)"
   ]
  },
  {
   "cell_type": "code",
   "execution_count": 0,
   "metadata": {
    "colab": {},
    "colab_type": "code",
    "id": "hmys5pYdBooB"
   },
   "outputs": [],
   "source": [
    "pred_pic = pic[np.argmax(pred, axis = -1)]"
   ]
  },
  {
   "cell_type": "code",
   "execution_count": 0,
   "metadata": {
    "colab": {},
    "colab_type": "code",
    "id": "nngpSVY_BpqV"
   },
   "outputs": [],
   "source": [
    "real = pic[np.argmax(y_test, axis = -1)]"
   ]
  },
  {
   "cell_type": "code",
   "execution_count": 0,
   "metadata": {
    "colab": {},
    "colab_type": "code",
    "id": "VsQ4tcdUBqd9"
   },
   "outputs": [],
   "source": [
    "import matplotlib.pyplot as plt\n",
    "%matplotlib inline"
   ]
  },
  {
   "cell_type": "code",
   "execution_count": 0,
   "metadata": {
    "colab": {},
    "colab_type": "code",
    "id": "N9Cn7qaBBrWn"
   },
   "outputs": [],
   "source": [
    "n = 10\n",
    "indices = np.random.choice(range(len(X_test)), n)"
   ]
  },
  {
   "cell_type": "code",
   "execution_count": 27,
   "metadata": {
    "colab": {
     "base_uri": "https://localhost:8080/",
     "height": 134
    },
    "colab_type": "code",
    "id": "wv1AQT7wBtAn",
    "outputId": "60be14d3-b3d1-43b3-da77-942123393863"
   },
   "outputs": [
    {
     "data": {
      "image/png": "[encoded data removed]",
      "text/plain": [
       "<Figure size 1440x432 with 10 Axes>"
      ]
     },
     "metadata": {
      "tags": []
     },
     "output_type": "display_data"
    }
   ],
   "source": [
    "fig =  plt.figure(figsize = (20,6))\n",
    "fig.subplots_adjust(wspace=1.5, hspace = .4)\n",
    "\n",
    "for i, idx in enumerate(indices):\n",
    "  picture = X_test[idx]\n",
    "  ax = fig.add_subplot(1, 10, i+1)\n",
    "  ax.axis('off')\n",
    "  ax.text(0.5, -0.35, 'pred = ' + str(pred_pic[idx]), fontsize = 10, ha = 'center', transform = ax.transAxes)\n",
    "  ax.text(0.5, -0.7, 'act = ' + str(real[idx]), fontsize = 10, ha= 'center', transform = ax.transAxes)\n",
    "  ax.imshow(picture)"
   ]
  },
  {
   "cell_type": "code",
   "execution_count": 29,
   "metadata": {
    "colab": {
     "base_uri": "https://localhost:8080/",
     "height": 281
    },
    "colab_type": "code",
    "id": "FUYlt_svBuG_",
    "outputId": "9e3066aa-f78a-4a09-d90c-67cb79e65f93"
   },
   "outputs": [
    {
     "data": {
      "image/png": "[encoded data removed]",
      "text/plain": [
       "<Figure size 432x288 with 1 Axes>"
      ]
     },
     "metadata": {
      "tags": []
     },
     "output_type": "display_data"
    }
   ],
   "source": [
    "acc = history.history['acc']\n",
    "val_acc = history.history['val_acc']\n",
    "\n",
    "loss = history.history['loss']\n",
    "val_loss = history.history['val_loss']\n",
    "\n",
    "epochs = range(1, len(acc) + 1)\n",
    "\n",
    "plt.plot(epochs, acc, 'ro', label = 'Training acc')\n",
    "plt.plot(epochs, val_acc, 'r', label = 'Validation acc')\n",
    "plt.title('Training & Validation acc')\n",
    "plt.legend()\n",
    "plt.show()"
   ]
  },
  {
   "cell_type": "code",
   "execution_count": 30,
   "metadata": {
    "colab": {
     "base_uri": "https://localhost:8080/",
     "height": 281
    },
    "colab_type": "code",
    "id": "nvG8YmlDByCs",
    "outputId": "671a7a65-c477-48d2-925c-2afaa584e3e6"
   },
   "outputs": [
    {
     "data": {
      "image/png": "[encoded data removed]",
      "text/plain": [
       "<Figure size 432x288 with 1 Axes>"
      ]
     },
     "metadata": {
      "tags": []
     },
     "output_type": "display_data"
    }
   ],
   "source": [
    "plt.plot(epochs, loss, 'bo', label = 'Training loss')\n",
    "plt.plot(epochs, val_loss, 'b', label = 'Validation loss')\n",
    "plt.title('Training & Validation loss')\n",
    "plt.legend()\n",
    "plt.show()"
   ]
  }
 ],
 "metadata": {
  "accelerator": "GPU",
  "colab": {
   "name": "Untitled3.ipynb",
   "provenance": []
  },
  "kernelspec": {
   "display_name": "Python 3",
   "language": "python",
   "name": "python3"
  },
  "language_info": {
   "codemirror_mode": {
    "name": "ipython",
    "version": 3
   },
   "file_extension": ".py",
   "mimetype": "text/x-python",
   "name": "python",
   "nbconvert_exporter": "python",
   "pygments_lexer": "ipython3",
   "version": "3.7.1"
  }
 },
 "nbformat": 4,
 "nbformat_minor": 1
}
