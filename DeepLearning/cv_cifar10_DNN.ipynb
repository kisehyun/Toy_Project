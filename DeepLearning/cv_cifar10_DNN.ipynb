{
 "cells": [
  {
   "cell_type": "markdown",
   "metadata": {
    "colab_type": "text",
    "id": "Va4FX5CIHXeG"
   },
   "source": [
    "# CIFAR-10 데이터를 이용한 DNN\n"
   ]
  },
  {
   "cell_type": "markdown",
   "metadata": {
    "colab_type": "text",
    "id": "ETS8ZyxwIEV-"
   },
   "source": [
    "# 1. 패키지 및 데이터 불러오기"
   ]
  },
  {
   "cell_type": "code",
   "execution_count": 0,
   "metadata": {
    "colab": {},
    "colab_type": "code",
    "id": "SfPPaNShHdUF"
   },
   "outputs": [],
   "source": [
    "import numpy as np\n",
    "from keras.utils import to_categorical\n",
    "from keras.datasets import cifar10"
   ]
  },
  {
   "cell_type": "code",
   "execution_count": 0,
   "metadata": {
    "colab": {},
    "colab_type": "code",
    "id": "uResb0vOHur2"
   },
   "outputs": [],
   "source": [
    "(X_tr, y_tr), (X_test, y_test) = cifar10.load_data()"
   ]
  },
  {
   "cell_type": "code",
   "execution_count": 0,
   "metadata": {
    "colab": {},
    "colab_type": "code",
    "id": "EJ_iaR4ARO7v"
   },
   "outputs": [],
   "source": [
    "X_train = X_tr[:40000]\n",
    "y_train = y_tr[:40000]"
   ]
  },
  {
   "cell_type": "code",
   "execution_count": 0,
   "metadata": {
    "colab": {},
    "colab_type": "code",
    "id": "XnPaAJkkRVqu"
   },
   "outputs": [],
   "source": [
    "X_val = X_tr[40000:]\n",
    "y_val = y_tr[40000:]"
   ]
  },
  {
   "cell_type": "code",
   "execution_count": 184,
   "metadata": {
    "colab": {
     "base_uri": "https://localhost:8080/",
     "height": 36
    },
    "colab_type": "code",
    "id": "JQ4fxXZuH0L1",
    "outputId": "42e766fc-99e0-44d4-de75-b03374f4ded0"
   },
   "outputs": [
    {
     "data": {
      "text/plain": [
       "((40000, 32, 32, 3), (40000, 1))"
      ]
     },
     "execution_count": 184,
     "metadata": {
      "tags": []
     },
     "output_type": "execute_result"
    }
   ],
   "source": [
    "X_train.shape, y_train.shape"
   ]
  },
  {
   "cell_type": "code",
   "execution_count": 185,
   "metadata": {
    "colab": {
     "base_uri": "https://localhost:8080/",
     "height": 36
    },
    "colab_type": "code",
    "id": "QS7wQOEkRcFl",
    "outputId": "85e8651d-57a9-43e8-ed5e-4e5e9a6bda91"
   },
   "outputs": [
    {
     "data": {
      "text/plain": [
       "((10000, 32, 32, 3), (10000, 1))"
      ]
     },
     "execution_count": 185,
     "metadata": {
      "tags": []
     },
     "output_type": "execute_result"
    }
   ],
   "source": [
    "X_val.shape, y_val.shape"
   ]
  },
  {
   "cell_type": "code",
   "execution_count": 186,
   "metadata": {
    "colab": {
     "base_uri": "https://localhost:8080/",
     "height": 36
    },
    "colab_type": "code",
    "id": "ua1JOppmIBGt",
    "outputId": "a8d46209-b218-4905-8742-1e3e8fe1f6f6"
   },
   "outputs": [
    {
     "data": {
      "text/plain": [
       "((10000, 32, 32, 3), (10000, 1))"
      ]
     },
     "execution_count": 186,
     "metadata": {
      "tags": []
     },
     "output_type": "execute_result"
    }
   ],
   "source": [
    "X_test.shape, y_test.shape"
   ]
  },
  {
   "cell_type": "markdown",
   "metadata": {
    "colab_type": "text",
    "id": "z4VVdiSRIKSW"
   },
   "source": [
    "#### 훈련 세트는 총 5만개의 데이터, 테스트 세트는 총 1만개의 데이터다.\n",
    "\n",
    "#### 이미지의 크기는 32 x 32 사이즈이고 채널은 RGB로 총 3개의 채널을 가진다."
   ]
  },
  {
   "cell_type": "code",
   "execution_count": 0,
   "metadata": {
    "colab": {},
    "colab_type": "code",
    "id": "_bpzHNNRIiaK"
   },
   "outputs": [],
   "source": [
    "n_class = 10 # 총 10개의 카테고리를 가지고 있는 이미지 데이터로 10개의 클래스를 출력해야한다."
   ]
  },
  {
   "cell_type": "markdown",
   "metadata": {
    "colab_type": "text",
    "id": "sW8R2-ZjI_V3"
   },
   "source": [
    "#### 신경망은 input이 -1  ~ 1 사이 범위에 있어야 제일 작동이 잘되므로 255로 데이터를 나눈다."
   ]
  },
  {
   "cell_type": "code",
   "execution_count": 0,
   "metadata": {
    "colab": {},
    "colab_type": "code",
    "id": "OYP476h1IoEe"
   },
   "outputs": [],
   "source": [
    "X_train = X_train.astype('float32') / 255.0"
   ]
  },
  {
   "cell_type": "code",
   "execution_count": 0,
   "metadata": {
    "colab": {},
    "colab_type": "code",
    "id": "cOMsJFNtRw70"
   },
   "outputs": [],
   "source": [
    "X_val = X_val.astype('float32') / 255.0"
   ]
  },
  {
   "cell_type": "code",
   "execution_count": 0,
   "metadata": {
    "colab": {},
    "colab_type": "code",
    "id": "THFz52GTItO1"
   },
   "outputs": [],
   "source": [
    "X_test = X_test.astype('float32') / 255.0"
   ]
  },
  {
   "cell_type": "markdown",
   "metadata": {
    "colab_type": "text",
    "id": "EG7I-gyxMVKx"
   },
   "source": [
    "### 레이블 값들은 원-핫 인코딩 형태로 바꾸어준다."
   ]
  },
  {
   "cell_type": "code",
   "execution_count": 0,
   "metadata": {
    "colab": {},
    "colab_type": "code",
    "id": "SNDxuxnEIyde"
   },
   "outputs": [],
   "source": [
    "y_train = to_categorical(y_train, n_class)"
   ]
  },
  {
   "cell_type": "code",
   "execution_count": 0,
   "metadata": {
    "colab": {},
    "colab_type": "code",
    "id": "Ufohl8XTRs91"
   },
   "outputs": [],
   "source": [
    "y_val = to_categorical(y_val, n_class)"
   ]
  },
  {
   "cell_type": "code",
   "execution_count": 0,
   "metadata": {
    "colab": {},
    "colab_type": "code",
    "id": "yk718iONI0i9"
   },
   "outputs": [],
   "source": [
    "y_test = to_categorical(y_test, n_class)"
   ]
  },
  {
   "cell_type": "markdown",
   "metadata": {
    "colab_type": "text",
    "id": "vt1XawrCJISm"
   },
   "source": [
    "# 2. 모델링\n",
    "\n",
    "#### 함수형 API를 사용하여 모델을 제작한다."
   ]
  },
  {
   "cell_type": "code",
   "execution_count": 0,
   "metadata": {
    "colab": {},
    "colab_type": "code",
    "id": "MmzFcyreJMvS"
   },
   "outputs": [],
   "source": [
    "from keras.models import *\n",
    "from keras.layers import *"
   ]
  },
  {
   "cell_type": "code",
   "execution_count": 0,
   "metadata": {
    "colab": {},
    "colab_type": "code",
    "id": "nhZ0iDyQJRx9"
   },
   "outputs": [],
   "source": [
    "input_layer = Input(shape = (32,32,3)) # 네트워크의 시작"
   ]
  },
  {
   "cell_type": "code",
   "execution_count": 0,
   "metadata": {
    "colab": {},
    "colab_type": "code",
    "id": "Hb8au-BuKP-3"
   },
   "outputs": [],
   "source": [
    "x = Flatten()(input_layer)"
   ]
  },
  {
   "cell_type": "code",
   "execution_count": 0,
   "metadata": {
    "colab": {},
    "colab_type": "code",
    "id": "wQ_fgMsXKVvO"
   },
   "outputs": [],
   "source": [
    "x = Dense(units = 150, activation = 'relu')(x)"
   ]
  },
  {
   "cell_type": "code",
   "execution_count": 0,
   "metadata": {
    "colab": {},
    "colab_type": "code",
    "id": "yW21Jax3Khy-"
   },
   "outputs": [],
   "source": [
    "x = Dense(units = 100, activation = 'relu')(x)"
   ]
  },
  {
   "cell_type": "code",
   "execution_count": 0,
   "metadata": {
    "colab": {},
    "colab_type": "code",
    "id": "Eix-J945KlEd"
   },
   "outputs": [],
   "source": [
    "output_layer = Dense(units = 10, activation = 'softmax')(x)"
   ]
  },
  {
   "cell_type": "code",
   "execution_count": 0,
   "metadata": {
    "colab": {},
    "colab_type": "code",
    "id": "3UIimI9fKpVc"
   },
   "outputs": [],
   "source": [
    "model = Model(input_layer, output_layer)"
   ]
  },
  {
   "cell_type": "code",
   "execution_count": 201,
   "metadata": {
    "colab": {
     "base_uri": "https://localhost:8080/",
     "height": 353
    },
    "colab_type": "code",
    "id": "x04GyFNOK03d",
    "outputId": "5c0b32d5-60c1-4d80-c6a7-7c9cc4d0820f"
   },
   "outputs": [
    {
     "name": "stdout",
     "output_type": "stream",
     "text": [
      "Model: \"model_5\"\n",
      "_________________________________________________________________\n",
      "Layer (type)                 Output Shape              Param #   \n",
      "=================================================================\n",
      "input_4 (InputLayer)         (None, 32, 32, 3)         0         \n",
      "_________________________________________________________________\n",
      "flatten_6 (Flatten)          (None, 3072)              0         \n",
      "_________________________________________________________________\n",
      "dense_14 (Dense)             (None, 150)               460950    \n",
      "_________________________________________________________________\n",
      "dense_15 (Dense)             (None, 100)               15100     \n",
      "_________________________________________________________________\n",
      "dense_16 (Dense)             (None, 10)                1010      \n",
      "=================================================================\n",
      "Total params: 477,060\n",
      "Trainable params: 477,060\n",
      "Non-trainable params: 0\n",
      "_________________________________________________________________\n"
     ]
    }
   ],
   "source": [
    "model.summary()"
   ]
  },
  {
   "cell_type": "markdown",
   "metadata": {
    "colab_type": "text",
    "id": "nyPBHQAiLQWo"
   },
   "source": [
    "### 모델 컴파일\n"
   ]
  },
  {
   "cell_type": "code",
   "execution_count": 0,
   "metadata": {
    "colab": {},
    "colab_type": "code",
    "id": "jkLn4fh5LIm2"
   },
   "outputs": [],
   "source": [
    "from keras.optimizers import *"
   ]
  },
  {
   "cell_type": "code",
   "execution_count": 0,
   "metadata": {
    "colab": {},
    "colab_type": "code",
    "id": "s1SOVS0WLO-l"
   },
   "outputs": [],
   "source": [
    "opt = Adam(lr = .0005)\n",
    "model.compile(loss = 'categorical_crossentropy', optimizer = opt, metrics=['acc'])"
   ]
  },
  {
   "cell_type": "markdown",
   "metadata": {
    "colab_type": "text",
    "id": "pNDhfIVZLrkz"
   },
   "source": [
    "### 모델 훈련"
   ]
  },
  {
   "cell_type": "code",
   "execution_count": 204,
   "metadata": {
    "colab": {
     "base_uri": "https://localhost:8080/",
     "height": 783
    },
    "colab_type": "code",
    "id": "s2495yGDLsf2",
    "outputId": "cccb3ce4-d3e9-4eca-b3de-a18a2854fdc0"
   },
   "outputs": [
    {
     "name": "stdout",
     "output_type": "stream",
     "text": [
      "Train on 40000 samples, validate on 10000 samples\n",
      "Epoch 1/20\n",
      "40000/40000 [==============================] - 6s 161us/step - loss: 1.8846 - acc: 0.3213 - val_loss: 1.8224 - val_acc: 0.3461\n",
      "Epoch 2/20\n",
      "40000/40000 [==============================] - 6s 157us/step - loss: 1.7086 - acc: 0.3879 - val_loss: 1.7135 - val_acc: 0.3860\n",
      "Epoch 3/20\n",
      "40000/40000 [==============================] - 6s 150us/step - loss: 1.6325 - acc: 0.4173 - val_loss: 1.6333 - val_acc: 0.4159\n",
      "Epoch 4/20\n",
      "40000/40000 [==============================] - 6s 147us/step - loss: 1.5810 - acc: 0.4348 - val_loss: 1.5981 - val_acc: 0.4321\n",
      "Epoch 5/20\n",
      "40000/40000 [==============================] - 6s 143us/step - loss: 1.5362 - acc: 0.4521 - val_loss: 1.5818 - val_acc: 0.4421\n",
      "Epoch 6/20\n",
      "40000/40000 [==============================] - 6s 151us/step - loss: 1.5058 - acc: 0.4625 - val_loss: 1.6033 - val_acc: 0.4341\n",
      "Epoch 7/20\n",
      "40000/40000 [==============================] - 6s 143us/step - loss: 1.4843 - acc: 0.4706 - val_loss: 1.5261 - val_acc: 0.4585\n",
      "Epoch 8/20\n",
      "40000/40000 [==============================] - 6s 151us/step - loss: 1.4532 - acc: 0.4819 - val_loss: 1.5418 - val_acc: 0.4493\n",
      "Epoch 9/20\n",
      "40000/40000 [==============================] - 6s 152us/step - loss: 1.4317 - acc: 0.4909 - val_loss: 1.5579 - val_acc: 0.4489\n",
      "Epoch 10/20\n",
      "40000/40000 [==============================] - 6s 145us/step - loss: 1.4154 - acc: 0.4949 - val_loss: 1.4936 - val_acc: 0.4724\n",
      "Epoch 11/20\n",
      "40000/40000 [==============================] - 6s 144us/step - loss: 1.3979 - acc: 0.5040 - val_loss: 1.5255 - val_acc: 0.4689\n",
      "Epoch 12/20\n",
      "40000/40000 [==============================] - 6s 152us/step - loss: 1.3807 - acc: 0.5095 - val_loss: 1.4849 - val_acc: 0.4757\n",
      "Epoch 13/20\n",
      "40000/40000 [==============================] - 6s 152us/step - loss: 1.3640 - acc: 0.5159 - val_loss: 1.4878 - val_acc: 0.4724\n",
      "Epoch 14/20\n",
      "40000/40000 [==============================] - 6s 149us/step - loss: 1.3496 - acc: 0.5176 - val_loss: 1.4993 - val_acc: 0.4739\n",
      "Epoch 15/20\n",
      "40000/40000 [==============================] - 6s 142us/step - loss: 1.3375 - acc: 0.5240 - val_loss: 1.4769 - val_acc: 0.4838\n",
      "Epoch 16/20\n",
      "40000/40000 [==============================] - 6s 151us/step - loss: 1.3226 - acc: 0.5317 - val_loss: 1.4803 - val_acc: 0.4834\n",
      "Epoch 17/20\n",
      "40000/40000 [==============================] - 6s 146us/step - loss: 1.3124 - acc: 0.5316 - val_loss: 1.4907 - val_acc: 0.4800\n",
      "Epoch 18/20\n",
      "40000/40000 [==============================] - 6s 140us/step - loss: 1.2967 - acc: 0.5379 - val_loss: 1.4661 - val_acc: 0.4846\n",
      "Epoch 19/20\n",
      "40000/40000 [==============================] - 6s 145us/step - loss: 1.2903 - acc: 0.5391 - val_loss: 1.4856 - val_acc: 0.4791\n",
      "Epoch 20/20\n",
      "40000/40000 [==============================] - 6s 146us/step - loss: 1.2774 - acc: 0.5461 - val_loss: 1.4820 - val_acc: 0.4874\n"
     ]
    }
   ],
   "source": [
    "history = model.fit(X_train, y_train, batch_size = 32, epochs = 20, shuffle = True, validation_data = (X_val, y_val))"
   ]
  },
  {
   "cell_type": "markdown",
   "metadata": {
    "colab_type": "text",
    "id": "2pPHz9yaM9q0"
   },
   "source": [
    "#### 훈련 세트에서 약 54.61%의 정확도를 달성했다."
   ]
  },
  {
   "cell_type": "markdown",
   "metadata": {
    "colab_type": "text",
    "id": "PLNCnF3WNZoM"
   },
   "source": [
    "### 모델 평가"
   ]
  },
  {
   "cell_type": "code",
   "execution_count": 205,
   "metadata": {
    "colab": {
     "base_uri": "https://localhost:8080/",
     "height": 55
    },
    "colab_type": "code",
    "id": "rjuAwVbkLxPm",
    "outputId": "47bf3b80-d3f6-46b4-f7d5-9a24c9092559"
   },
   "outputs": [
    {
     "name": "stdout",
     "output_type": "stream",
     "text": [
      "10000/10000 [==============================] - 1s 52us/step\n"
     ]
    },
    {
     "data": {
      "text/plain": [
       "[1.4582839527130127, 0.4937]"
      ]
     },
     "execution_count": 205,
     "metadata": {
      "tags": []
     },
     "output_type": "execute_result"
    }
   ],
   "source": [
    "model.evaluate(X_test, y_test)"
   ]
  },
  {
   "cell_type": "markdown",
   "metadata": {
    "colab_type": "text",
    "id": "cxjIotdKNPb4"
   },
   "source": [
    "#### 테스트 세트에서는 약 49.37%의 정확도를 달성했다."
   ]
  },
  {
   "cell_type": "markdown",
   "metadata": {
    "colab_type": "text",
    "id": "15s4ysK9OOIC"
   },
   "source": [
    "### 결과 시각화"
   ]
  },
  {
   "cell_type": "code",
   "execution_count": 0,
   "metadata": {
    "colab": {},
    "colab_type": "code",
    "id": "JM_uDi9yNECW"
   },
   "outputs": [],
   "source": [
    "pic = np.array(['airplane', 'automobile', 'bird', 'cat', 'deer', 'dog', 'frog', 'horse', 'ship', 'truck'])"
   ]
  },
  {
   "cell_type": "code",
   "execution_count": 0,
   "metadata": {
    "colab": {},
    "colab_type": "code",
    "id": "dsVhIXlsOewL"
   },
   "outputs": [],
   "source": [
    "pred = model.predict(X_test)"
   ]
  },
  {
   "cell_type": "code",
   "execution_count": 0,
   "metadata": {
    "colab": {},
    "colab_type": "code",
    "id": "922_aSXuOhK8"
   },
   "outputs": [],
   "source": [
    "pred_pic = pic[np.argmax(pred, axis = -1)]"
   ]
  },
  {
   "cell_type": "code",
   "execution_count": 0,
   "metadata": {
    "colab": {},
    "colab_type": "code",
    "id": "cyAmS5agOnG8"
   },
   "outputs": [],
   "source": [
    "real = pic[np.argmax(y_test, axis = -1)]"
   ]
  },
  {
   "cell_type": "code",
   "execution_count": 0,
   "metadata": {
    "colab": {},
    "colab_type": "code",
    "id": "CimJAXqQO0Dn"
   },
   "outputs": [],
   "source": [
    "import matplotlib.pyplot as plt\n",
    "%matplotlib inline"
   ]
  },
  {
   "cell_type": "code",
   "execution_count": 0,
   "metadata": {
    "colab": {},
    "colab_type": "code",
    "id": "ifcBzb9fO4Se"
   },
   "outputs": [],
   "source": [
    "n = 10\n",
    "indices = np.random.choice(range(len(X_test)), n)"
   ]
  },
  {
   "cell_type": "code",
   "execution_count": 212,
   "metadata": {
    "colab": {
     "base_uri": "https://localhost:8080/",
     "height": 114
    },
    "colab_type": "code",
    "id": "X7JDXRHMPNYN",
    "outputId": "b0e00b17-751e-419f-cb7d-26044ed26d8d"
   },
   "outputs": [
    {
     "data": {
      "image/png": "[encoded data removed]",
      "text/plain": [
       "<Figure size 1440x432 with 10 Axes>"
      ]
     },
     "metadata": {
      "tags": []
     },
     "output_type": "display_data"
    }
   ],
   "source": [
    "fig =  plt.figure(figsize = (20,6))\n",
    "fig.subplots_adjust(wspace=1.5, hspace = .4)\n",
    "\n",
    "for i, idx in enumerate(indices):\n",
    "    picture = X_test[idx]\n",
    "    ax = fig.add_subplot(1, 10, i+1)\n",
    "    ax.axis('off')\n",
    "    ax.text(0.5, -0.35, 'pred = ' + str(pred_pic[idx]), fontsize = 10, ha = 'center', transform = ax.transAxes)\n",
    "    ax.text(0.5, -0.7, 'act = ' + str(real[idx]), fontsize = 10, ha= 'center', transform = ax.transAxes)\n",
    "    ax.imshow(picture)"
   ]
  },
  {
   "cell_type": "code",
   "execution_count": 0,
   "metadata": {
    "colab": {},
    "colab_type": "code",
    "id": "EhqoV8cDQCAw"
   },
   "outputs": [],
   "source": [
    "acc = history.history['acc']\n",
    "val_acc = history.history['val_acc']\n",
    "\n",
    "loss = history.history['loss']\n",
    "val_loss = history.history['val_loss']"
   ]
  },
  {
   "cell_type": "code",
   "execution_count": 0,
   "metadata": {
    "colab": {},
    "colab_type": "code",
    "id": "wrduwN5HTD9A"
   },
   "outputs": [],
   "source": [
    "epochs = range(1, len(acc) + 1)"
   ]
  },
  {
   "cell_type": "code",
   "execution_count": 215,
   "metadata": {
    "colab": {
     "base_uri": "https://localhost:8080/",
     "height": 281
    },
    "colab_type": "code",
    "id": "0OTsws4STG4V",
    "outputId": "a36b7235-b1e3-4edb-aff3-422946540655"
   },
   "outputs": [
    {
     "data": {
      "image/png": "[encoded data removed]",
      "text/plain": [
       "<Figure size 432x288 with 1 Axes>"
      ]
     },
     "metadata": {
      "tags": []
     },
     "output_type": "display_data"
    }
   ],
   "source": [
    "plt.plot(epochs, acc, 'ro', label = 'Training acc')\n",
    "plt.plot(epochs, val_acc, 'r', label = 'Validation acc')\n",
    "plt.title('Training & Validation acc')\n",
    "plt.legend()\n",
    "plt.show()"
   ]
  },
  {
   "cell_type": "markdown",
   "metadata": {
    "colab_type": "text",
    "id": "sv627jpmU6P7"
   },
   "source": [
    "#### 훈련 세트에서의 정확도는 선형으로 증가하지만 검증 세트에서는 그렇지 못하고 있다. 과대적합을 의심해 봐야 한다."
   ]
  },
  {
   "cell_type": "code",
   "execution_count": 216,
   "metadata": {
    "colab": {
     "base_uri": "https://localhost:8080/",
     "height": 281
    },
    "colab_type": "code",
    "id": "3szKXflWT4wE",
    "outputId": "a310f232-ebca-4791-dac0-e976d256a31b"
   },
   "outputs": [
    {
     "data": {
      "image/png": "[encoded data removed]",
      "text/plain": [
       "<Figure size 432x288 with 1 Axes>"
      ]
     },
     "metadata": {
      "tags": []
     },
     "output_type": "display_data"
    }
   ],
   "source": [
    "plt.plot(epochs, loss, 'bo', label = 'Training loss')\n",
    "plt.plot(epochs, val_loss, 'b', label = 'Validation loss')\n",
    "plt.title('Training & Validation loss')\n",
    "plt.legend()\n",
    "plt.show()"
   ]
  },
  {
   "cell_type": "markdown",
   "metadata": {
    "colab_type": "text",
    "id": "3tsek1V7UPsq"
   },
   "source": [
    "#### 지금까지 간단한 DNN구조를 활용해 10개의 클래스 분류를 해보았다. 다음 번에는 CNN을 포함한 다른 방법론들을 사용해 좀 더 정확한 예측을 진행해보도록 하자."
   ]
  },
  {
   "cell_type": "markdown",
   "metadata": {
    "colab_type": "text",
    "id": "pzOEQWZyVT5E"
   },
   "source": [
    "# Finished"
   ]
  }
 ],
 "metadata": {
  "accelerator": "GPU",
  "colab": {
   "name": "Untitled1.ipynb",
   "provenance": []
  },
  "kernelspec": {
   "display_name": "Python 3",
   "language": "python",
   "name": "python3"
  },
  "language_info": {
   "codemirror_mode": {
    "name": "ipython",
    "version": 3
   },
   "file_extension": ".py",
   "mimetype": "text/x-python",
   "name": "python",
   "nbconvert_exporter": "python",
   "pygments_lexer": "ipython3",
   "version": "3.7.1"
  }
 },
 "nbformat": 4,
 "nbformat_minor": 1
}
