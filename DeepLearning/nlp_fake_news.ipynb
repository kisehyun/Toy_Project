{
 "cells": [
  {
   "cell_type": "markdown",
   "metadata": {
    "colab_type": "text",
    "id": "X9nru80wK7um"
   },
   "source": [
    "# Fake Or News?"
   ]
  },
  {
   "cell_type": "markdown",
   "metadata": {
    "colab_type": "text",
    "id": "YUfzYV8Eocal"
   },
   "source": [
    "## 1. Colab Mount"
   ]
  },
  {
   "cell_type": "code",
   "execution_count": 3,
   "metadata": {
    "colab": {
     "base_uri": "https://localhost:8080/",
     "height": 126
    },
    "colab_type": "code",
    "id": "KWgv2VP-K-lu",
    "outputId": "dc6cf01d-c901-4264-ba62-ba6068a17791"
   },
   "outputs": [
    {
     "name": "stdout",
     "output_type": "stream",
     "text": [
      "Go to this URL in a browser: https://accounts.google.com/o/oauth2/auth?client_id=947318989803-6bn6qk8qdgf4n4g3pfee6491hc0brc4i.apps.googleusercontent.com&redirect_uri=urn%3aietf%3awg%3aoauth%3a2.0%3aoob&response_type=code&scope=email%20https%3a%2f%2fwww.googleapis.com%2fauth%2fdocs.test%20https%3a%2f%2fwww.googleapis.com%2fauth%2fdrive%20https%3a%2f%2fwww.googleapis.com%2fauth%2fdrive.photos.readonly%20https%3a%2f%2fwww.googleapis.com%2fauth%2fpeopleapi.readonly\n",
      "\n",
      "Enter your authorization code:\n",
      "··········\n",
      "Mounted at /content/gdrive\n"
     ]
    }
   ],
   "source": [
    "from google.colab import drive\n",
    "drive.mount('/content/gdrive')"
   ]
  },
  {
   "cell_type": "markdown",
   "metadata": {
    "colab_type": "text",
    "id": "yPJTFc4kog71"
   },
   "source": [
    "## 2. Library Imports"
   ]
  },
  {
   "cell_type": "code",
   "execution_count": 0,
   "metadata": {
    "colab": {},
    "colab_type": "code",
    "id": "ECVN1bEkLHAN"
   },
   "outputs": [],
   "source": [
    "import pandas as pd\n",
    "import numpy as np\n",
    "import matplotlib.pyplot as plt\n",
    "%matplotlib inline\n",
    "import re\n",
    "from tqdm import tqdm\n",
    "import random\n",
    "\n",
    "from tensorflow.keras.preprocessing.text import Tokenizer\n",
    "from tensorflow.keras.layers import *\n",
    "from tensorflow.keras.models import Sequential\n",
    "from tensorflow.keras.preprocessing.sequence import pad_sequences\n",
    "from tensorflow.keras.optimizers import *"
   ]
  },
  {
   "cell_type": "markdown",
   "metadata": {
    "colab_type": "text",
    "id": "8jvFeR2bolbu"
   },
   "source": [
    "## 3. Data"
   ]
  },
  {
   "cell_type": "code",
   "execution_count": 0,
   "metadata": {
    "colab": {},
    "colab_type": "code",
    "id": "zsWt7CegQnKg"
   },
   "outputs": [],
   "source": [
    "fake = pd.read_csv(\"/content/gdrive/My Drive/fake_news/Fake.csv\").reset_index()\n",
    "fake.drop(['title', 'date', 'subject'],axis = 1, inplace = True)\n",
    "fake['category'] = 0"
   ]
  },
  {
   "cell_type": "code",
   "execution_count": 0,
   "metadata": {
    "colab": {},
    "colab_type": "code",
    "id": "SBHErIg4Qir8"
   },
   "outputs": [],
   "source": [
    "true = pd.read_csv(\"/content/gdrive/My Drive/fake_news/True.csv\").reset_index()\n",
    "true.drop(['title', 'date', 'subject'],axis = 1, inplace = True)\n",
    "true['category'] = 1"
   ]
  },
  {
   "cell_type": "code",
   "execution_count": 0,
   "metadata": {
    "colab": {},
    "colab_type": "code",
    "id": "_nQEJISR8JdO"
   },
   "outputs": [],
   "source": [
    "unknown_publishers = []\n",
    "for index,row in enumerate(true.text.values):\n",
    "    try:\n",
    "        record = row.split(\" -\", maxsplit=1)\n",
    "        #if no text part is present, following will give error\n",
    "        record[1]\n",
    "        #if len of piblication part is greater than 260\n",
    "        #following will give error, ensuring no text having \"-\" in between is counted\n",
    "        assert(len(record[0]) < 260)\n",
    "    except:\n",
    "        unknown_publishers.append(index)"
   ]
  },
  {
   "cell_type": "code",
   "execution_count": 8,
   "metadata": {
    "colab": {
     "base_uri": "https://localhost:8080/",
     "height": 444
    },
    "colab_type": "code",
    "id": "Vme_-kEB8bFZ",
    "outputId": "679f71ca-0ef9-4aa5-e2da-09164eadcfd6"
   },
   "outputs": [
    {
     "data": {
      "text/plain": [
       "3488     The White House on Wednesday disclosed a group...\n",
       "4358     Neil Gorsuch, President Donald Trump’s appoint...\n",
       "4465     WASHINGTON The clock began running out this we...\n",
       "5784     Federal appeals court judge Neil Gorsuch, the ...\n",
       "6660     Republican members of Congress are complaining...\n",
       "6823     Over the course of the U.S. presidential campa...\n",
       "7922     After going through a week reminiscent of Napo...\n",
       "8194     The following timeline charts the origin and s...\n",
       "8195     Global health officials are racing to better u...\n",
       "8247     U.S. President Barack Obama visited a street m...\n",
       "8465     ALGONAC, MICH.—Parker Fox drifted out of the D...\n",
       "8481     Global health officials are racing to better u...\n",
       "8482     The following timeline charts the origin and s...\n",
       "8505     Global health officials are racing to better u...\n",
       "8506     The following timeline charts the origin and s...\n",
       "8771     In a speech weighted with America’s complicate...\n",
       "8970                                                      \n",
       "9008     The following timeline charts the origin and s...\n",
       "9009     Global health officials are racing to better u...\n",
       "9307     It’s the near future, and North Korea’s regime...\n",
       "9618     GOP leaders have unleashed a stunning level of...\n",
       "9737     Caitlyn Jenner posted a video on Wednesday (Ap...\n",
       "10479    The Democratic and Republican nominees for the...\n",
       "Name: text, dtype: object"
      ]
     },
     "execution_count": 8,
     "metadata": {
      "tags": []
     },
     "output_type": "execute_result"
    }
   ],
   "source": [
    "true.iloc[unknown_publishers].text"
   ]
  },
  {
   "cell_type": "code",
   "execution_count": 0,
   "metadata": {
    "colab": {},
    "colab_type": "code",
    "id": "6qvYIxap8TZO"
   },
   "outputs": [],
   "source": [
    "#Seperating Publication info, from actual text\n",
    "publisher = []\n",
    "tmp_text = []\n",
    "for index,row in enumerate(true.text.values):\n",
    "    if index in unknown_publishers:\n",
    "        #Add unknown of publisher not mentioned\n",
    "        tmp_text.append(row)\n",
    "        \n",
    "        publisher.append(\"Unknown\")\n",
    "        continue\n",
    "    record = row.split(\" -\", maxsplit=1)\n",
    "    publisher.append(record[0])\n",
    "    tmp_text.append(record[1])"
   ]
  },
  {
   "cell_type": "code",
   "execution_count": 0,
   "metadata": {
    "colab": {},
    "colab_type": "code",
    "id": "brL_2Vca8XqQ"
   },
   "outputs": [],
   "source": [
    "true['text'] = tmp_text"
   ]
  },
  {
   "cell_type": "code",
   "execution_count": 0,
   "metadata": {
    "colab": {},
    "colab_type": "code",
    "id": "sFSla2R58iDi"
   },
   "outputs": [],
   "source": [
    "true.drop(8970, axis = 0, inplace = True) # empty text row"
   ]
  },
  {
   "cell_type": "code",
   "execution_count": 0,
   "metadata": {
    "colab": {},
    "colab_type": "code",
    "id": "bkzW6FpjRNij"
   },
   "outputs": [],
   "source": [
    "np.random.seed(123) # seed"
   ]
  },
  {
   "cell_type": "code",
   "execution_count": 13,
   "metadata": {
    "colab": {
     "base_uri": "https://localhost:8080/",
     "height": 200
    },
    "colab_type": "code",
    "id": "Baf2CPsSYpRX",
    "outputId": "c5854bff-6608-4a7c-f6c2-648f6b7dd41d"
   },
   "outputs": [
    {
     "data": {
      "text/html": [
       "<div>\n",
       "<style scoped>\n",
       "    .dataframe tbody tr th:only-of-type {\n",
       "        vertical-align: middle;\n",
       "    }\n",
       "\n",
       "    .dataframe tbody tr th {\n",
       "        vertical-align: top;\n",
       "    }\n",
       "\n",
       "    .dataframe thead th {\n",
       "        text-align: right;\n",
       "    }\n",
       "</style>\n",
       "<table border=\"1\" class=\"dataframe\">\n",
       "  <thead>\n",
       "    <tr style=\"text-align: right;\">\n",
       "      <th></th>\n",
       "      <th>index</th>\n",
       "      <th>text</th>\n",
       "      <th>category</th>\n",
       "    </tr>\n",
       "  </thead>\n",
       "  <tbody>\n",
       "    <tr>\n",
       "      <th>0</th>\n",
       "      <td>0</td>\n",
       "      <td>Donald Trump just couldn t wish all Americans ...</td>\n",
       "      <td>0</td>\n",
       "    </tr>\n",
       "    <tr>\n",
       "      <th>1</th>\n",
       "      <td>1</td>\n",
       "      <td>House Intelligence Committee Chairman Devin Nu...</td>\n",
       "      <td>0</td>\n",
       "    </tr>\n",
       "    <tr>\n",
       "      <th>2</th>\n",
       "      <td>2</td>\n",
       "      <td>On Friday, it was revealed that former Milwauk...</td>\n",
       "      <td>0</td>\n",
       "    </tr>\n",
       "    <tr>\n",
       "      <th>3</th>\n",
       "      <td>3</td>\n",
       "      <td>On Christmas day, Donald Trump announced that ...</td>\n",
       "      <td>0</td>\n",
       "    </tr>\n",
       "    <tr>\n",
       "      <th>4</th>\n",
       "      <td>4</td>\n",
       "      <td>Pope Francis used his annual Christmas Day mes...</td>\n",
       "      <td>0</td>\n",
       "    </tr>\n",
       "  </tbody>\n",
       "</table>\n",
       "</div>"
      ],
      "text/plain": [
       "   index                                               text  category\n",
       "0      0  Donald Trump just couldn t wish all Americans ...         0\n",
       "1      1  House Intelligence Committee Chairman Devin Nu...         0\n",
       "2      2  On Friday, it was revealed that former Milwauk...         0\n",
       "3      3  On Christmas day, Donald Trump announced that ...         0\n",
       "4      4  Pope Francis used his annual Christmas Day mes...         0"
      ]
     },
     "execution_count": 13,
     "metadata": {
      "tags": []
     },
     "output_type": "execute_result"
    }
   ],
   "source": [
    "fake.head()"
   ]
  },
  {
   "cell_type": "code",
   "execution_count": 0,
   "metadata": {
    "colab": {
     "base_uri": "https://localhost:8080/",
     "height": 200
    },
    "colab_type": "code",
    "id": "mlU0P_vJYrKK",
    "outputId": "9a757049-c9ba-4aa8-a6ef-9f0e1a403b86"
   },
   "outputs": [
    {
     "data": {
      "text/html": [
       "<div>\n",
       "<style scoped>\n",
       "    .dataframe tbody tr th:only-of-type {\n",
       "        vertical-align: middle;\n",
       "    }\n",
       "\n",
       "    .dataframe tbody tr th {\n",
       "        vertical-align: top;\n",
       "    }\n",
       "\n",
       "    .dataframe thead th {\n",
       "        text-align: right;\n",
       "    }\n",
       "</style>\n",
       "<table border=\"1\" class=\"dataframe\">\n",
       "  <thead>\n",
       "    <tr style=\"text-align: right;\">\n",
       "      <th></th>\n",
       "      <th>index</th>\n",
       "      <th>text</th>\n",
       "      <th>category</th>\n",
       "    </tr>\n",
       "  </thead>\n",
       "  <tbody>\n",
       "    <tr>\n",
       "      <th>0</th>\n",
       "      <td>0</td>\n",
       "      <td>The head of a conservative Republican faction...</td>\n",
       "      <td>1</td>\n",
       "    </tr>\n",
       "    <tr>\n",
       "      <th>1</th>\n",
       "      <td>1</td>\n",
       "      <td>Transgender people will be allowed for the fi...</td>\n",
       "      <td>1</td>\n",
       "    </tr>\n",
       "    <tr>\n",
       "      <th>2</th>\n",
       "      <td>2</td>\n",
       "      <td>The special counsel investigation of links be...</td>\n",
       "      <td>1</td>\n",
       "    </tr>\n",
       "    <tr>\n",
       "      <th>3</th>\n",
       "      <td>3</td>\n",
       "      <td>Trump campaign adviser George Papadopoulos to...</td>\n",
       "      <td>1</td>\n",
       "    </tr>\n",
       "    <tr>\n",
       "      <th>4</th>\n",
       "      <td>4</td>\n",
       "      <td>President Donald Trump called on the U.S. Pos...</td>\n",
       "      <td>1</td>\n",
       "    </tr>\n",
       "  </tbody>\n",
       "</table>\n",
       "</div>"
      ],
      "text/plain": [
       "   index                                               text  category\n",
       "0      0   The head of a conservative Republican faction...         1\n",
       "1      1   Transgender people will be allowed for the fi...         1\n",
       "2      2   The special counsel investigation of links be...         1\n",
       "3      3   Trump campaign adviser George Papadopoulos to...         1\n",
       "4      4   President Donald Trump called on the U.S. Pos...         1"
      ]
     },
     "execution_count": 365,
     "metadata": {
      "tags": []
     },
     "output_type": "execute_result"
    }
   ],
   "source": [
    "true.head()"
   ]
  },
  {
   "cell_type": "markdown",
   "metadata": {
    "colab_type": "text",
    "id": "hVzUmMJZpD4u"
   },
   "source": [
    "### shuffling"
   ]
  },
  {
   "cell_type": "code",
   "execution_count": 0,
   "metadata": {
    "colab": {},
    "colab_type": "code",
    "id": "KUFkIVK7RY22"
   },
   "outputs": [],
   "source": [
    "f_sample_list = random.sample(list(fake.index), 4000)"
   ]
  },
  {
   "cell_type": "code",
   "execution_count": 0,
   "metadata": {
    "colab": {},
    "colab_type": "code",
    "id": "zNywXwitRtIZ"
   },
   "outputs": [],
   "source": [
    "fake_sub = fake.loc[f_sample_list]"
   ]
  },
  {
   "cell_type": "code",
   "execution_count": 0,
   "metadata": {
    "colab": {},
    "colab_type": "code",
    "id": "lhBMZBClR2ef"
   },
   "outputs": [],
   "source": [
    "fake_m = fake.query('index not in @f_sample_list')"
   ]
  },
  {
   "cell_type": "code",
   "execution_count": 0,
   "metadata": {
    "colab": {},
    "colab_type": "code",
    "id": "8258C3nYRuR9"
   },
   "outputs": [],
   "source": [
    "t_sample_list = random.sample(list(true.index), 4000)"
   ]
  },
  {
   "cell_type": "code",
   "execution_count": 0,
   "metadata": {
    "colab": {},
    "colab_type": "code",
    "id": "jypDDWF6Sbth"
   },
   "outputs": [],
   "source": [
    "true_sub = true.loc[t_sample_list]"
   ]
  },
  {
   "cell_type": "code",
   "execution_count": 0,
   "metadata": {
    "colab": {},
    "colab_type": "code",
    "id": "C7KGimtcScCJ"
   },
   "outputs": [],
   "source": [
    "true_m = true.query('index not in @t_sample_list')"
   ]
  },
  {
   "cell_type": "markdown",
   "metadata": {
    "colab_type": "text",
    "id": "SzGlPSuYpG8v"
   },
   "source": [
    "### concatenate"
   ]
  },
  {
   "cell_type": "code",
   "execution_count": 0,
   "metadata": {
    "colab": {},
    "colab_type": "code",
    "id": "9BhwKTGgShdA"
   },
   "outputs": [],
   "source": [
    "Train = pd.concat([fake_m, true_m], axis = 0)\n",
    "Train.index = range(0, len(Train))"
   ]
  },
  {
   "cell_type": "code",
   "execution_count": 0,
   "metadata": {
    "colab": {},
    "colab_type": "code",
    "id": "0YO7E4LGSrLg"
   },
   "outputs": [],
   "source": [
    "Test = pd.concat([fake_sub, true_sub], axis = 0)\n",
    "Test.index = range(0, len(Test))"
   ]
  },
  {
   "cell_type": "code",
   "execution_count": 0,
   "metadata": {
    "colab": {
     "base_uri": "https://localhost:8080/",
     "height": 195
    },
    "colab_type": "code",
    "id": "z19GL19KSwp_",
    "outputId": "670a7088-d927-4ba9-9592-44e4811bc055"
   },
   "outputs": [
    {
     "name": "stdout",
     "output_type": "stream",
     "text": [
      "<class 'pandas.core.frame.DataFrame'>\n",
      "RangeIndex: 36897 entries, 0 to 36896\n",
      "Data columns (total 3 columns):\n",
      " #   Column    Non-Null Count  Dtype \n",
      "---  ------    --------------  ----- \n",
      " 0   index     36897 non-null  int64 \n",
      " 1   text      36897 non-null  object\n",
      " 2   category  36897 non-null  int64 \n",
      "dtypes: int64(2), object(1)\n",
      "memory usage: 864.9+ KB\n"
     ]
    }
   ],
   "source": [
    "Train.info()"
   ]
  },
  {
   "cell_type": "code",
   "execution_count": 0,
   "metadata": {
    "colab": {
     "base_uri": "https://localhost:8080/",
     "height": 195
    },
    "colab_type": "code",
    "id": "hZDz2UROSyiY",
    "outputId": "b1e0b2b7-9641-46c9-8d68-58156eebbb08"
   },
   "outputs": [
    {
     "name": "stdout",
     "output_type": "stream",
     "text": [
      "<class 'pandas.core.frame.DataFrame'>\n",
      "RangeIndex: 8000 entries, 0 to 7999\n",
      "Data columns (total 3 columns):\n",
      " #   Column    Non-Null Count  Dtype \n",
      "---  ------    --------------  ----- \n",
      " 0   index     8000 non-null   int64 \n",
      " 1   text      8000 non-null   object\n",
      " 2   category  8000 non-null   int64 \n",
      "dtypes: int64(2), object(1)\n",
      "memory usage: 187.6+ KB\n"
     ]
    }
   ],
   "source": [
    "Test.info()"
   ]
  },
  {
   "cell_type": "code",
   "execution_count": 0,
   "metadata": {
    "colab": {},
    "colab_type": "code",
    "id": "vZoEMerpT-mf"
   },
   "outputs": [],
   "source": [
    "Train.text = Train.text.apply(lambda x : x.lower())"
   ]
  },
  {
   "cell_type": "code",
   "execution_count": 0,
   "metadata": {
    "colab": {},
    "colab_type": "code",
    "id": "74Z8nCVzUSNU"
   },
   "outputs": [],
   "source": [
    "Test.text = Test.text.apply(lambda x : x.lower())"
   ]
  },
  {
   "cell_type": "code",
   "execution_count": 0,
   "metadata": {
    "colab": {},
    "colab_type": "code",
    "id": "OS9WoxqNUVWv"
   },
   "outputs": [],
   "source": [
    "train_clear_text = list(Train.text)\n",
    "train_clear_text2 = []\n",
    "\n",
    "for word in train_clear_text:\n",
    "  temp = re.sub('[-=+,#:;//●<>▲\\?:^$.☆!★()Ⅰ@*\\\"※~>`\\'…》]', ' ', word)\n",
    "  train_clear_text2.append(temp)\n",
    "Train['clear_text'] = train_clear_text2"
   ]
  },
  {
   "cell_type": "code",
   "execution_count": 0,
   "metadata": {
    "colab": {},
    "colab_type": "code",
    "id": "wwV8jHZnUE31"
   },
   "outputs": [],
   "source": [
    "test_clear_text = list(Test.text)\n",
    "test_clear_text2 = []\n",
    "\n",
    "for word in test_clear_text:\n",
    "  temp = re.sub('[-=+,#:;//●<>▲\\?:^$.☆!★()Ⅰ@*\\\"※~>`\\'…》]', ' ', word)\n",
    "  test_clear_text2.append(temp)\n",
    "Test['clear_text'] = test_clear_text2"
   ]
  },
  {
   "cell_type": "markdown",
   "metadata": {
    "colab_type": "text",
    "id": "AELHCKURpS6P"
   },
   "source": [
    "## 4. Tokenizing"
   ]
  },
  {
   "cell_type": "code",
   "execution_count": 30,
   "metadata": {
    "colab": {
     "base_uri": "https://localhost:8080/",
     "height": 88
    },
    "colab_type": "code",
    "id": "8JjKAQ-rSxvt",
    "outputId": "1263018b-7753-42cb-e92d-eff43bd513bf"
   },
   "outputs": [
    {
     "name": "stdout",
     "output_type": "stream",
     "text": [
      "[nltk_data] Downloading package punkt to /root/nltk_data...\n",
      "[nltk_data]   Package punkt is already up-to-date!\n",
      "[nltk_data] Downloading package stopwords to /root/nltk_data...\n",
      "[nltk_data]   Package stopwords is already up-to-date!\n"
     ]
    }
   ],
   "source": [
    "import nltk\n",
    "nltk.download('punkt')\n",
    "nltk.download('stopwords')\n",
    "from nltk.tokenize import word_tokenize\n",
    "from nltk.corpus import stopwords\n",
    "from string import punctuation\n",
    "import string"
   ]
  },
  {
   "cell_type": "code",
   "execution_count": 0,
   "metadata": {
    "colab": {},
    "colab_type": "code",
    "id": "HywL1RnTW_xe"
   },
   "outputs": [],
   "source": [
    "stop = set(stopwords.words('english'))\n",
    "punctuation = list(string.punctuation)\n",
    "stop.update(punctuation)"
   ]
  },
  {
   "cell_type": "code",
   "execution_count": 0,
   "metadata": {
    "colab": {},
    "colab_type": "code",
    "id": "huMDmCxYXuT6"
   },
   "outputs": [],
   "source": [
    "token_list = []\n",
    "\n",
    "for word in Train.clear_text:\n",
    "  temp = word_tokenize(word)\n",
    "  temp = [w for w in temp if not w in stop]\n",
    "  token_list.append(temp)"
   ]
  },
  {
   "cell_type": "code",
   "execution_count": 0,
   "metadata": {
    "colab": {},
    "colab_type": "code",
    "id": "riZVjtytYJTj"
   },
   "outputs": [],
   "source": [
    "Train['token_text'] = token_list"
   ]
  },
  {
   "cell_type": "code",
   "execution_count": 0,
   "metadata": {
    "colab": {},
    "colab_type": "code",
    "id": "uXio0feFYMeS"
   },
   "outputs": [],
   "source": [
    "token_list = []\n",
    "\n",
    "for word in Test.clear_text:\n",
    "  temp = word_tokenize(word)\n",
    "  temp = [w for w in temp if not w in stop]\n",
    "  token_list.append(temp)"
   ]
  },
  {
   "cell_type": "code",
   "execution_count": 0,
   "metadata": {
    "colab": {},
    "colab_type": "code",
    "id": "Lih_jdLpYOFm"
   },
   "outputs": [],
   "source": [
    "Test['token_text'] = token_list"
   ]
  },
  {
   "cell_type": "code",
   "execution_count": 86,
   "metadata": {
    "colab": {
     "base_uri": "https://localhost:8080/",
     "height": 35
    },
    "colab_type": "code",
    "id": "LuWv91aaZahy",
    "outputId": "f1a7840d-d819-4247-efba-11c301ed821c"
   },
   "outputs": [
    {
     "name": "stderr",
     "output_type": "stream",
     "text": [
      "100%|██████████| 36897/36897 [00:05<00:00, 6708.83it/s]\n"
     ]
    }
   ],
   "source": [
    "train_token = list(Train.token_text)\n",
    "\n",
    "token = []\n",
    "\n",
    "for i in tqdm(range(len(Train))):\n",
    "  token.append(re.sub(\"[',]\", '', str(Train.token_text[i])[1:-1]))\n",
    "\n",
    "Train['token_text'] = token"
   ]
  },
  {
   "cell_type": "code",
   "execution_count": 87,
   "metadata": {
    "colab": {
     "base_uri": "https://localhost:8080/",
     "height": 55
    },
    "colab_type": "code",
    "id": "JJaJOsgtLUTC",
    "outputId": "e768fa49-20b3-4d76-c3d7-12bd990d00f7"
   },
   "outputs": [
    {
     "data": {
      "text/plain": [
       "'donald trump wish americans happy new year leave instead give shout enemies haters dishonest fake news media former reality show star one job country rapidly grows stronger smarter want wish friends supporters enemies haters even dishonest fake news media happy healthy new year president angry pants tweeted 2018 great year america country rapidly grows stronger smarter want wish friends supporters enemies haters even dishonest fake news media happy healthy new year 2018 great year america donald j trump realdonaldtrump december 31 2017trump tweet went welll expect kind president sends new year greeting like despicable petty infantile gibberish trump lack decency even allow rise gutter long enough wish american citizens happy new year bishop talbert swan talbertswan december 31 2017no one likes calvin calvinstowell december 31 2017your impeachment would make 2018 great year america also accept regaining control congress miranda yaver mirandayaver december 31 2017do hear talk include many people hate wonder hate alan sandoval alansandoval13 december 31 2017who uses word haters new years wish marlene marlene399 december 31 2017you say happy new year koren pollitt korencarpenter december 31 2017here trump new year eve tweet 2016 happy new year including many enemies fought lost badly know love donald j trump realdonaldtrump december 31 2016this nothing new trump years trump directed messages enemies haters new year easter thanksgiving anniversary 9 11 pic twitter com 4fpae2kypa daniel dale ddale8 december 31 2017trump holiday tweets clearly presidential long work hallmark becoming president steven goodine sgoodine december 31 2017he always like difference last years filter breaking roy schulze thbthttt december 31 2017who apart teenager uses term haters wendy wendywhistles december 31 2017he fucking 5 year old knows rainyday80 december 31 2017so people voted hole thinking would change got power wrong 70 year old men change year older photo andrew burton getty images'"
      ]
     },
     "execution_count": 87,
     "metadata": {
      "tags": []
     },
     "output_type": "execute_result"
    }
   ],
   "source": [
    "Train.token_text[0][:]"
   ]
  },
  {
   "cell_type": "code",
   "execution_count": 82,
   "metadata": {
    "colab": {
     "base_uri": "https://localhost:8080/",
     "height": 35
    },
    "colab_type": "code",
    "id": "WePcaXJZZ_39",
    "outputId": "e2793b0d-d5a5-40d7-8979-26b4e38d5d58"
   },
   "outputs": [
    {
     "name": "stderr",
     "output_type": "stream",
     "text": [
      "100%|██████████| 8000/8000 [00:01<00:00, 6491.99it/s]\n"
     ]
    }
   ],
   "source": [
    "test_token = list(Test.token_text)\n",
    "\n",
    "token = []\n",
    "\n",
    "for i in tqdm(range(len(Test))):\n",
    "  token.append(re.sub(\"[',]\", '', str(Test.token_text[i])[1:-1]))\n",
    "Test['token_text'] = token"
   ]
  },
  {
   "cell_type": "markdown",
   "metadata": {
    "colab_type": "text",
    "id": "L4anDFHYpbNZ"
   },
   "source": [
    "### reshuffling"
   ]
  },
  {
   "cell_type": "code",
   "execution_count": 0,
   "metadata": {
    "colab": {},
    "colab_type": "code",
    "id": "1KF40Cjyj95Y"
   },
   "outputs": [],
   "source": [
    "Train = Train.sample(frac = 1)\n",
    "Test = Test.sample(frac = 1)"
   ]
  },
  {
   "cell_type": "code",
   "execution_count": 89,
   "metadata": {
    "colab": {
     "base_uri": "https://localhost:8080/",
     "height": 285
    },
    "colab_type": "code",
    "id": "0MMs4LrbY5cc",
    "outputId": "33d64340-c17b-4e6e-a00f-f0c2b64b09ca"
   },
   "outputs": [
    {
     "data": {
      "text/html": [
       "<div>\n",
       "<style scoped>\n",
       "    .dataframe tbody tr th:only-of-type {\n",
       "        vertical-align: middle;\n",
       "    }\n",
       "\n",
       "    .dataframe tbody tr th {\n",
       "        vertical-align: top;\n",
       "    }\n",
       "\n",
       "    .dataframe thead th {\n",
       "        text-align: right;\n",
       "    }\n",
       "</style>\n",
       "<table border=\"1\" class=\"dataframe\">\n",
       "  <thead>\n",
       "    <tr style=\"text-align: right;\">\n",
       "      <th></th>\n",
       "      <th>index</th>\n",
       "      <th>text</th>\n",
       "      <th>category</th>\n",
       "      <th>clear_text</th>\n",
       "      <th>token_text</th>\n",
       "    </tr>\n",
       "  </thead>\n",
       "  <tbody>\n",
       "    <tr>\n",
       "      <th>12999</th>\n",
       "      <td>15731</td>\n",
       "      <td>it s interesting that josh earnest still carri...</td>\n",
       "      <td>0</td>\n",
       "      <td>it s interesting that josh earnest still carri...</td>\n",
       "      <td>interesting josh earnest still carries around ...</td>\n",
       "    </tr>\n",
       "    <tr>\n",
       "      <th>30829</th>\n",
       "      <td>13880</td>\n",
       "      <td>families of the 44 crew members of a missing ...</td>\n",
       "      <td>1</td>\n",
       "      <td>families of the 44 crew members of a missing ...</td>\n",
       "      <td>families 44 crew members missing argentine sub...</td>\n",
       "    </tr>\n",
       "    <tr>\n",
       "      <th>29719</th>\n",
       "      <td>12531</td>\n",
       "      <td>ukrainian opposition figure mikheil saakashvi...</td>\n",
       "      <td>1</td>\n",
       "      <td>ukrainian opposition figure mikheil saakashvi...</td>\n",
       "      <td>ukrainian opposition figure mikheil saakashvil...</td>\n",
       "    </tr>\n",
       "    <tr>\n",
       "      <th>36501</th>\n",
       "      <td>20907</td>\n",
       "      <td>cambodia s government has raised the possibil...</td>\n",
       "      <td>1</td>\n",
       "      <td>cambodia s government has raised the possibil...</td>\n",
       "      <td>cambodia government raised possibility main op...</td>\n",
       "    </tr>\n",
       "    <tr>\n",
       "      <th>24850</th>\n",
       "      <td>6533</td>\n",
       "      <td>omarosa manigault, best-known for repeatedly ...</td>\n",
       "      <td>1</td>\n",
       "      <td>omarosa manigault  best known for repeatedly ...</td>\n",
       "      <td>omarosa manigault best known repeatedly fired ...</td>\n",
       "    </tr>\n",
       "  </tbody>\n",
       "</table>\n",
       "</div>"
      ],
      "text/plain": [
       "       index  ...                                         token_text\n",
       "12999  15731  ...  interesting josh earnest still carries around ...\n",
       "30829  13880  ...  families 44 crew members missing argentine sub...\n",
       "29719  12531  ...  ukrainian opposition figure mikheil saakashvil...\n",
       "36501  20907  ...  cambodia government raised possibility main op...\n",
       "24850   6533  ...  omarosa manigault best known repeatedly fired ...\n",
       "\n",
       "[5 rows x 5 columns]"
      ]
     },
     "execution_count": 89,
     "metadata": {
      "tags": []
     },
     "output_type": "execute_result"
    }
   ],
   "source": [
    "Train.head()"
   ]
  },
  {
   "cell_type": "code",
   "execution_count": 90,
   "metadata": {
    "colab": {
     "base_uri": "https://localhost:8080/",
     "height": 285
    },
    "colab_type": "code",
    "id": "EQUA3IMVY6JX",
    "outputId": "1d75c3fe-c9df-4f99-ac4e-20f454136575"
   },
   "outputs": [
    {
     "data": {
      "text/html": [
       "<div>\n",
       "<style scoped>\n",
       "    .dataframe tbody tr th:only-of-type {\n",
       "        vertical-align: middle;\n",
       "    }\n",
       "\n",
       "    .dataframe tbody tr th {\n",
       "        vertical-align: top;\n",
       "    }\n",
       "\n",
       "    .dataframe thead th {\n",
       "        text-align: right;\n",
       "    }\n",
       "</style>\n",
       "<table border=\"1\" class=\"dataframe\">\n",
       "  <thead>\n",
       "    <tr style=\"text-align: right;\">\n",
       "      <th></th>\n",
       "      <th>index</th>\n",
       "      <th>text</th>\n",
       "      <th>category</th>\n",
       "      <th>clear_text</th>\n",
       "      <th>token_text</th>\n",
       "    </tr>\n",
       "  </thead>\n",
       "  <tbody>\n",
       "    <tr>\n",
       "      <th>5027</th>\n",
       "      <td>2624</td>\n",
       "      <td>republicans in the u.s. senate were dealt ano...</td>\n",
       "      <td>1</td>\n",
       "      <td>republicans in the u s  senate were dealt ano...</td>\n",
       "      <td>republicans u senate dealt another blow effort...</td>\n",
       "    </tr>\n",
       "    <tr>\n",
       "      <th>2944</th>\n",
       "      <td>6896</td>\n",
       "      <td>trump made a visit to the keystone state in an...</td>\n",
       "      <td>0</td>\n",
       "      <td>trump made a visit to the keystone state in an...</td>\n",
       "      <td>trump made visit keystone state effort bolster...</td>\n",
       "    </tr>\n",
       "    <tr>\n",
       "      <th>5955</th>\n",
       "      <td>1223</td>\n",
       "      <td>u.s. president donald trump will hurt low-inc...</td>\n",
       "      <td>1</td>\n",
       "      <td>u s  president donald trump will hurt low inc...</td>\n",
       "      <td>u president donald trump hurt low income ameri...</td>\n",
       "    </tr>\n",
       "    <tr>\n",
       "      <th>957</th>\n",
       "      <td>6932</td>\n",
       "      <td>congresswoman debbie wasserman schultz s caree...</td>\n",
       "      <td>0</td>\n",
       "      <td>congresswoman debbie wasserman schultz s caree...</td>\n",
       "      <td>congresswoman debbie wasserman schultz career ...</td>\n",
       "    </tr>\n",
       "    <tr>\n",
       "      <th>5517</th>\n",
       "      <td>5935</td>\n",
       "      <td>u.s. president donald trump said on friday th...</td>\n",
       "      <td>1</td>\n",
       "      <td>u s  president donald trump said on friday th...</td>\n",
       "      <td>u president donald trump said friday would def...</td>\n",
       "    </tr>\n",
       "  </tbody>\n",
       "</table>\n",
       "</div>"
      ],
      "text/plain": [
       "      index  ...                                         token_text\n",
       "5027   2624  ...  republicans u senate dealt another blow effort...\n",
       "2944   6896  ...  trump made visit keystone state effort bolster...\n",
       "5955   1223  ...  u president donald trump hurt low income ameri...\n",
       "957    6932  ...  congresswoman debbie wasserman schultz career ...\n",
       "5517   5935  ...  u president donald trump said friday would def...\n",
       "\n",
       "[5 rows x 5 columns]"
      ]
     },
     "execution_count": 90,
     "metadata": {
      "tags": []
     },
     "output_type": "execute_result"
    }
   ],
   "source": [
    "Test.head()"
   ]
  },
  {
   "cell_type": "code",
   "execution_count": 0,
   "metadata": {
    "colab": {},
    "colab_type": "code",
    "id": "jDyVl87Dj3gc"
   },
   "outputs": [],
   "source": [
    "tokenizer = Tokenizer()\n",
    "tokenizer.fit_on_texts(list(Train.token_text))"
   ]
  },
  {
   "cell_type": "code",
   "execution_count": 92,
   "metadata": {
    "colab": {
     "base_uri": "https://localhost:8080/",
     "height": 88
    },
    "colab_type": "code",
    "id": "yekh33TbbVC8",
    "outputId": "82cc583d-6359-42ca-b388-f26cf99400cf"
   },
   "outputs": [
    {
     "name": "stdout",
     "output_type": "stream",
     "text": [
      "size of vocab : 112458\n",
      "Number of rare words with less than 5 appearances : 73844\n",
      "Percentage of rare words in vocab : 65.66362553130946\n",
      "Percentage of rare word frequency from total frequency of appearance : 1.5287798777640993\n"
     ]
    }
   ],
   "source": [
    "threshold = 6\n",
    "total_cnt = len(tokenizer.word_index) # the number of words\n",
    "rare_cnt = 0 # Total number of words with less frequency than threshold\n",
    "total_freq = 0 # Total total word frequency of training data\n",
    "rare_freq = 0 # the sum of the total frequency of the appearance of a word with less than threshhold.\n",
    "\n",
    "\n",
    "for key, value in tokenizer.word_counts.items():\n",
    "    total_freq = total_freq + value\n",
    "\n",
    "    \n",
    "    if(value < threshold):\n",
    "        rare_cnt = rare_cnt + 1\n",
    "        rare_freq = rare_freq + value\n",
    "\n",
    "print('size of vocab :',total_cnt)\n",
    "print('Number of rare words with less than %s appearances : %s'%(threshold - 1, rare_cnt))\n",
    "print(\"Percentage of rare words in vocab :\", (rare_cnt / total_cnt)*100)\n",
    "print(\"Percentage of rare word frequency from total frequency of appearance :\", (rare_freq / total_freq)*100)"
   ]
  },
  {
   "cell_type": "code",
   "execution_count": 93,
   "metadata": {
    "colab": {
     "base_uri": "https://localhost:8080/",
     "height": 35
    },
    "colab_type": "code",
    "id": "LEAtWCxQbYAe",
    "outputId": "7dfd289d-ac93-41c0-b862-95e6ef2100ce"
   },
   "outputs": [
    {
     "name": "stdout",
     "output_type": "stream",
     "text": [
      "size of vocab : 38615\n"
     ]
    }
   ],
   "source": [
    "vocab_size = total_cnt - rare_cnt + 1 # Remove the total number of words with a frequency of 5 or less. +1 considering padding token 0\n",
    "print('size of vocab :',vocab_size)"
   ]
  },
  {
   "cell_type": "code",
   "execution_count": 0,
   "metadata": {
    "colab": {},
    "colab_type": "code",
    "id": "bLlVd3Jxi6Wy"
   },
   "outputs": [],
   "source": [
    "tokenizer = Tokenizer(num_words=vocab_size)\n",
    "tokenizer.fit_on_texts(list(Train.token_text))"
   ]
  },
  {
   "cell_type": "code",
   "execution_count": 0,
   "metadata": {
    "colab": {},
    "colab_type": "code",
    "id": "_Wgld2-FjDJy"
   },
   "outputs": [],
   "source": [
    "token_X_train = tokenizer.texts_to_sequences(list(Train.token_text))\n",
    "token_X_test = tokenizer.texts_to_sequences(list(Test.token_text))"
   ]
  },
  {
   "cell_type": "code",
   "execution_count": 0,
   "metadata": {
    "colab": {},
    "colab_type": "code",
    "id": "yLKy5IeOjIIB"
   },
   "outputs": [],
   "source": [
    "drop_train = [index for index, sentence in enumerate(token_X_train) if len(sentence) < 1]"
   ]
  },
  {
   "cell_type": "code",
   "execution_count": 0,
   "metadata": {
    "colab": {},
    "colab_type": "code",
    "id": "_q5BZ8c5jHK0"
   },
   "outputs": [],
   "source": [
    "del_X_train = np.delete(token_X_train, drop_train, axis=0)\n",
    "del_y_train = np.delete(list(Train.category), drop_train, axis = 0)"
   ]
  },
  {
   "cell_type": "code",
   "execution_count": 98,
   "metadata": {
    "colab": {
     "base_uri": "https://localhost:8080/",
     "height": 35
    },
    "colab_type": "code",
    "id": "-OrWynY-9l6z",
    "outputId": "f663d319-4a8a-42fc-eee5-f8ae8d8c922a"
   },
   "outputs": [
    {
     "data": {
      "text/plain": [
       "((36338,), (36338,))"
      ]
     },
     "execution_count": 98,
     "metadata": {
      "tags": []
     },
     "output_type": "execute_result"
    }
   ],
   "source": [
    "del_X_train.shape, del_y_train.shape"
   ]
  },
  {
   "cell_type": "code",
   "execution_count": 99,
   "metadata": {
    "colab": {
     "base_uri": "https://localhost:8080/",
     "height": 35
    },
    "colab_type": "code",
    "id": "1gtZBLBAkOkF",
    "outputId": "d143ffe6-83e9-432f-dd4a-f470cd0c7485"
   },
   "outputs": [
    {
     "name": "stdout",
     "output_type": "stream",
     "text": [
      "Percentage of the total samples less than 1000 in length : 99.29275138972976\n"
     ]
    }
   ],
   "source": [
    "def below_threshold_len(max_len, nested_list):\n",
    "  cnt = 0\n",
    "  for s in nested_list:\n",
    "    if(len(s) <= max_len):\n",
    "        cnt = cnt + 1\n",
    "  print('Percentage of the total samples less than %s in length : %s'%(max_len, (cnt / len(nested_list))*100))\n",
    "\n",
    "max_len = 1000\n",
    "below_threshold_len(max_len, del_X_train)"
   ]
  },
  {
   "cell_type": "code",
   "execution_count": 0,
   "metadata": {
    "colab": {},
    "colab_type": "code",
    "id": "qC5wQvAcan22"
   },
   "outputs": [],
   "source": [
    "pad_X_train = pad_sequences(del_X_train, maxlen = max_len)\n",
    "pad_X_test = pad_sequences(token_X_test, maxlen = max_len)"
   ]
  },
  {
   "cell_type": "code",
   "execution_count": 101,
   "metadata": {
    "colab": {
     "base_uri": "https://localhost:8080/",
     "height": 315
    },
    "colab_type": "code",
    "id": "-v4HTAGLkp_M",
    "outputId": "e131a71e-dea7-4624-bb5e-72c7770b851a"
   },
   "outputs": [
    {
     "name": "stdout",
     "output_type": "stream",
     "text": [
      "Maximum text length : 4962\n",
      "Average Text Length : 242.9076448896472\n"
     ]
    },
    {
     "data": {
      "image/png": "[encoded data removed]",
      "text/plain": [
       "<Figure size 432x288 with 1 Axes>"
      ]
     },
     "metadata": {
      "needs_background": "light",
      "tags": []
     },
     "output_type": "display_data"
    }
   ],
   "source": [
    "print('Maximum text length :',max(len(l) for l in del_X_train))\n",
    "print('Average Text Length :',sum(map(len, del_X_train))/len(del_X_train))\n",
    "plt.hist([len(s) for s in del_X_train], bins=50, color = 'r')\n",
    "plt.xlabel('length of samples')\n",
    "plt.ylabel('number of samples')\n",
    "plt.show()"
   ]
  },
  {
   "cell_type": "code",
   "execution_count": 102,
   "metadata": {
    "colab": {
     "base_uri": "https://localhost:8080/",
     "height": 315
    },
    "colab_type": "code",
    "id": "GoAx5thXk3B6",
    "outputId": "20769058-a6d2-4f17-d31b-392f015f508b"
   },
   "outputs": [
    {
     "name": "stdout",
     "output_type": "stream",
     "text": [
      "Maximum text length :  4962\n",
      "Average Text Length :  236.55025\n"
     ]
    },
    {
     "data": {
      "image/png": "[encoded data removed]",
      "text/plain": [
       "<Figure size 432x288 with 1 Axes>"
      ]
     },
     "metadata": {
      "needs_background": "light",
      "tags": []
     },
     "output_type": "display_data"
    }
   ],
   "source": [
    "print(\"Maximum text length : \", max(len(l) for l in token_X_test))\n",
    "print(\"Average Text Length : \", sum(map(len, token_X_test))/ len(token_X_test))\n",
    "plt.hist([len(s) for s in token_X_test], bins=50, color = 'g')\n",
    "plt.xlabel('length of Data')\n",
    "plt.ylabel('number of Data')\n",
    "plt.show()"
   ]
  },
  {
   "cell_type": "code",
   "execution_count": 103,
   "metadata": {
    "colab": {
     "base_uri": "https://localhost:8080/",
     "height": 35
    },
    "colab_type": "code",
    "id": "RuvSSSX8qSCY",
    "outputId": "e3bc9d1f-c63e-42ad-97cf-b789ee63829f"
   },
   "outputs": [
    {
     "data": {
      "text/plain": [
       "11219"
      ]
     },
     "execution_count": 103,
     "metadata": {
      "tags": []
     },
     "output_type": "execute_result"
    }
   ],
   "source": [
    "import gc\n",
    "gc.collect()"
   ]
  },
  {
   "cell_type": "markdown",
   "metadata": {
    "colab_type": "text",
    "id": "ZRT1A5f3qLJe"
   },
   "source": [
    "## 5. Modeling"
   ]
  },
  {
   "cell_type": "code",
   "execution_count": 104,
   "metadata": {
    "colab": {
     "base_uri": "https://localhost:8080/",
     "height": 337
    },
    "colab_type": "code",
    "id": "kTfm79GEb3h6",
    "outputId": "625feaa4-8041-421d-dabf-3a90393ec4ff"
   },
   "outputs": [
    {
     "name": "stdout",
     "output_type": "stream",
     "text": [
      "Model: \"sequential\"\n",
      "_________________________________________________________________\n",
      "Layer (type)                 Output Shape              Param #   \n",
      "=================================================================\n",
      "embedding (Embedding)        (None, 1000, 32)          1235680   \n",
      "_________________________________________________________________\n",
      "dropout (Dropout)            (None, 1000, 32)          0         \n",
      "_________________________________________________________________\n",
      "conv1d (Conv1D)              (None, 996, 32)           5152      \n",
      "_________________________________________________________________\n",
      "global_max_pooling1d (Global (None, 32)                0         \n",
      "_________________________________________________________________\n",
      "dense (Dense)                (None, 1)                 33        \n",
      "=================================================================\n",
      "Total params: 1,240,865\n",
      "Trainable params: 1,240,865\n",
      "Non-trainable params: 0\n",
      "_________________________________________________________________\n"
     ]
    }
   ],
   "source": [
    "model_conv = Sequential()\n",
    "model_conv.add(Embedding(vocab_size, 32, input_length=max_len))\n",
    "model_conv.add(Dropout(0.3))\n",
    "model_conv.add(Conv1D(32, 5, activation='relu'))\n",
    "model_conv.add(GlobalMaxPooling1D())\n",
    "#model_conv.add(LSTM(32))\n",
    "model_conv.add(Dense(1, activation='sigmoid'))\n",
    "model_conv.summary()"
   ]
  },
  {
   "cell_type": "code",
   "execution_count": 0,
   "metadata": {
    "colab": {},
    "colab_type": "code",
    "id": "TghEv4LJhooP"
   },
   "outputs": [],
   "source": [
    "model_conv.compile(loss='binary_crossentropy', optimizer='adam', metrics=['acc'])"
   ]
  },
  {
   "cell_type": "code",
   "execution_count": 106,
   "metadata": {
    "colab": {
     "base_uri": "https://localhost:8080/",
     "height": 179
    },
    "colab_type": "code",
    "id": "z9QrBOzub3xl",
    "outputId": "05aa8601-b4e3-4bc6-94e6-95814db017fc"
   },
   "outputs": [
    {
     "name": "stdout",
     "output_type": "stream",
     "text": [
      "Epoch 1/4\n",
      "256/256 [==============================] - 8s 31ms/step - loss: 0.2727 - acc: 0.9345 - val_loss: 0.0471 - val_acc: 0.9895\n",
      "Epoch 2/4\n",
      "256/256 [==============================] - 8s 30ms/step - loss: 0.0285 - acc: 0.9926 - val_loss: 0.0258 - val_acc: 0.9912\n",
      "Epoch 3/4\n",
      "256/256 [==============================] - 8s 30ms/step - loss: 0.0117 - acc: 0.9972 - val_loss: 0.0219 - val_acc: 0.9917\n",
      "Epoch 4/4\n",
      "256/256 [==============================] - 8s 30ms/step - loss: 0.0052 - acc: 0.9992 - val_loss: 0.0205 - val_acc: 0.9920\n"
     ]
    }
   ],
   "source": [
    "history = model_conv.fit(pad_X_train, del_y_train, epochs=4, shuffle = True, validation_split= .1, batch_size = 128, verbose = 1)"
   ]
  },
  {
   "cell_type": "code",
   "execution_count": 108,
   "metadata": {
    "colab": {
     "base_uri": "https://localhost:8080/",
     "height": 35
    },
    "colab_type": "code",
    "id": "_HWXWg_ScPFd",
    "outputId": "ea4ba0cc-0f0d-4f6c-aa66-eb94f57835e9"
   },
   "outputs": [
    {
     "name": "stderr",
     "output_type": "stream",
     "text": [
      "100%|██████████| 8000/8000 [00:00<00:00, 1071547.30it/s]\n"
     ]
    }
   ],
   "source": [
    "pred = model_conv.predict(pad_X_test)\n",
    "pred_list = []\n",
    "\n",
    "for t in tqdm(range(len(pad_X_test))):\n",
    "  pred_list.append(pred[t][0])"
   ]
  },
  {
   "cell_type": "code",
   "execution_count": 0,
   "metadata": {
    "colab": {},
    "colab_type": "code",
    "id": "Wo6WAOwseBRc"
   },
   "outputs": [],
   "source": [
    "def bound(x):\n",
    "  if x >= .55:\n",
    "    return 1\n",
    "  else:\n",
    "    return 0"
   ]
  },
  {
   "cell_type": "code",
   "execution_count": 0,
   "metadata": {
    "colab": {},
    "colab_type": "code",
    "id": "curfKq1Ge61X"
   },
   "outputs": [],
   "source": [
    "from sklearn.metrics import *"
   ]
  },
  {
   "cell_type": "code",
   "execution_count": 111,
   "metadata": {
    "colab": {
     "base_uri": "https://localhost:8080/",
     "height": 35
    },
    "colab_type": "code",
    "id": "fFULbcoKdKvD",
    "outputId": "190438ba-d9e0-4447-fa2b-cf5957fee522"
   },
   "outputs": [
    {
     "data": {
      "text/plain": [
       "0.994375"
      ]
     },
     "execution_count": 111,
     "metadata": {
      "tags": []
     },
     "output_type": "execute_result"
    }
   ],
   "source": [
    "accuracy_score(Test.category, pd.Series(pred_list).map(bound))"
   ]
  },
  {
   "cell_type": "code",
   "execution_count": 112,
   "metadata": {
    "colab": {
     "base_uri": "https://localhost:8080/",
     "height": 177
    },
    "colab_type": "code",
    "id": "FKBINF8LqEsC",
    "outputId": "abb801f7-d1c3-4bf5-a3ab-8722d08ed734"
   },
   "outputs": [
    {
     "name": "stdout",
     "output_type": "stream",
     "text": [
      "              precision    recall  f1-score   support\n",
      "\n",
      "           0       0.99      0.99      0.99      4000\n",
      "           1       0.99      0.99      0.99      4000\n",
      "\n",
      "    accuracy                           0.99      8000\n",
      "   macro avg       0.99      0.99      0.99      8000\n",
      "weighted avg       0.99      0.99      0.99      8000\n",
      "\n"
     ]
    }
   ],
   "source": [
    "print(classification_report(Test.category, pd.Series(pred_list).map(bound)))"
   ]
  }
 ],
 "metadata": {
  "accelerator": "GPU",
  "colab": {
   "collapsed_sections": [],
   "name": "fake_news.ipynb",
   "provenance": []
  },
  "kernelspec": {
   "display_name": "Python 3",
   "language": "python",
   "name": "python3"
  },
  "language_info": {
   "codemirror_mode": {
    "name": "ipython",
    "version": 3
   },
   "file_extension": ".py",
   "mimetype": "text/x-python",
   "name": "python",
   "nbconvert_exporter": "python",
   "pygments_lexer": "ipython3",
   "version": "3.7.1"
  }
 },
 "nbformat": 4,
 "nbformat_minor": 1
}
