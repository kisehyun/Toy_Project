{
 "cells": [
  {
   "cell_type": "markdown",
   "metadata": {},
   "source": [
    "# Bank Customer Churn Prediction"
   ]
  },
  {
   "cell_type": "markdown",
   "metadata": {},
   "source": [
    "## 1.패키지 불러오기"
   ]
  },
  {
   "cell_type": "code",
   "execution_count": 1,
   "metadata": {
    "scrolled": false
   },
   "outputs": [],
   "source": [
    "import numpy as np\n",
    "import pandas as pd\n",
    "\n",
    "import matplotlib.pyplot as plt\n",
    "import seaborn as sns\n",
    "%matplotlib inline\n",
    "\n",
    
    "import warnings\n",
    "warnings.filterwarnings('ignore')\n",
    "\n",
    "from scipy.stats import skew"
   ]
  },
  {
   "cell_type": "markdown",
   "metadata": {},
   "source": [
    "## 2. 데이터 불러오기"
   ]
  },
  {
   "cell_type": "code",
   "execution_count": 2,
   "metadata": {
    "scrolled": false
   },
   "outputs": [
    {
     "data": {
      "text/html": [
       "<div>\n",
       "<style scoped>\n",
       "    .dataframe tbody tr th:only-of-type {\n",
       "        vertical-align: middle;\n",
       "    }\n",
       "\n",
       "    .dataframe tbody tr th {\n",
       "        vertical-align: top;\n",
       "    }\n",
       "\n",
       "    .dataframe thead th {\n",
       "        text-align: right;\n",
       "    }\n",
       "</style>\n",
       "<table border=\"1\" class=\"dataframe\">\n",
       "  <thead>\n",
       "    <tr style=\"text-align: right;\">\n",
       "      <th></th>\n",
       "      <th>CustomerId</th>\n",
       "      <th>Surname</th>\n",
       "      <th>CreditScore</th>\n",
       "      <th>Geography</th>\n",
       "      <th>Gender</th>\n",
       "      <th>Age</th>\n",
       "      <th>Tenure</th>\n",
       "      <th>Balance</th>\n",
       "      <th>NumOfProducts</th>\n",
       "      <th>HasCrCard</th>\n",
       "      <th>IsActiveMember</th>\n",
       "      <th>EstimatedSalary</th>\n",
       "      <th>Exited</th>\n",
       "    </tr>\n",
       "    <tr>\n",
       "      <th>RowNumber</th>\n",
       "      <th></th>\n",
       "      <th></th>\n",
       "      <th></th>\n",
       "      <th></th>\n",
       "      <th></th>\n",
       "      <th></th>\n",
       "      <th></th>\n",
       "      <th></th>\n",
       "      <th></th>\n",
       "      <th></th>\n",
       "      <th></th>\n",
       "      <th></th>\n",
       "      <th></th>\n",
       "    </tr>\n",
       "  </thead>\n",
       "  <tbody>\n",
       "    <tr>\n",
       "      <th>1</th>\n",
       "      <td>15634602</td>\n",
       "      <td>Hargrave</td>\n",
       "      <td>619</td>\n",
       "      <td>France</td>\n",
       "      <td>Female</td>\n",
       "      <td>42</td>\n",
       "      <td>2</td>\n",
       "      <td>0.00</td>\n",
       "      <td>1</td>\n",
       "      <td>1</td>\n",
       "      <td>1</td>\n",
       "      <td>101348.88</td>\n",
       "      <td>1</td>\n",
       "    </tr>\n",
       "    <tr>\n",
       "      <th>2</th>\n",
       "      <td>15647311</td>\n",
       "      <td>Hill</td>\n",
       "      <td>608</td>\n",
       "      <td>Spain</td>\n",
       "      <td>Female</td>\n",
       "      <td>41</td>\n",
       "      <td>1</td>\n",
       "      <td>83807.86</td>\n",
       "      <td>1</td>\n",
       "      <td>0</td>\n",
       "      <td>1</td>\n",
       "      <td>112542.58</td>\n",
       "      <td>0</td>\n",
       "    </tr>\n",
       "    <tr>\n",
       "      <th>3</th>\n",
       "      <td>15619304</td>\n",
       "      <td>Onio</td>\n",
       "      <td>502</td>\n",
       "      <td>France</td>\n",
       "      <td>Female</td>\n",
       "      <td>42</td>\n",
       "      <td>8</td>\n",
       "      <td>159660.80</td>\n",
       "      <td>3</td>\n",
       "      <td>1</td>\n",
       "      <td>0</td>\n",
       "      <td>113931.57</td>\n",
       "      <td>1</td>\n",
       "    </tr>\n",
       "    <tr>\n",
       
       "      <th>4</th>\n",
       "      <td>15701354</td>\n",
       "      <td>Boni</td>\n",
       "      <td>699</td>\n",
       "      <td>France</td>\n",
       "      <td>Female</td>\n",
       "      <td>39</td>\n",
       "      <td>1</td>\n",
       "      <td>0.00</td>\n",
       "      <td>2</td>\n",
       "      <td>0</td>\n",
       "      <td>0</td>\n",
       "      <td>93826.63</td>\n",
       "      <td>0</td>\n",
       "    </tr>\n",
       "    <tr>\n",
       "      <th>5</th>\n",
       "      <td>15737888</td>\n",
       "      <td>Mitchell</td>\n",
       "      <td>850</td>\n",
       "      <td>Spain</td>\n",
       "      <td>Female</td>\n",
       "      <td>43</td>\n",
       "      <td>2</td>\n",
       "      <td>125510.82</td>\n",
       "      <td>1</td>\n",
       "      <td>1</td>\n",
       "      <td>1</td>\n",
       "      <td>79084.10</td>\n",
       "      <td>0</td>\n",
       "    </tr>\n",
       "  </tbody>\n",
       "</table>\n",
       "</div>"
      ],
      "text/plain": [
       "           CustomerId   Surname  CreditScore Geography  Gender  Age  Tenure  \\\n",
       "RowNumber                                                                     \n",
       "1            15634602  Hargrave          619    France  Female   42       2   \n",
       "2            15647311      Hill          608     Spain  Female   41       1   \n",
       "3            15619304      Onio          502    France  Female   42       8   \n",
       "4            15701354      Boni          699    France  Female   39       1   \n",
       "5            15737888  Mitchell          850     Spain  Female   43       2   \n",
       "\n",
       "             Balance  NumOfProducts  HasCrCard  IsActiveMember  \\\n",
       "RowNumber                                                        \n",
       "1               0.00              1          1               1   \n",
       "2           83807.86              1          0               1   \n",
       "3          159660.80              3          1               0   \n",
       "4               0.00              2          0               0   \n",
       "5          125510.82              1          1               1   \n",
       "\n",
       "           EstimatedSalary  Exited  \n",
       "RowNumber                           \n",
       "1                101348.88       1  \n",
       "2                112542.58       0  \n",
       "3                113931.57       1  \n",
       "4                 93826.63       0  \n",
       "5                 79084.10       0  "
      ]
     },
     "execution_count": 2,
     "metadata": {},
     "output_type": "execute_result"
    }
   ],
   "source": [
    "df = pd.read_csv(\"Churn_Modelling.csv\", index_col = 'RowNumber')\n",
    "df.head()"
   ]
  },
  {
   "cell_type": "markdown",
   "metadata": {},
   "source": [
    "## 3. 데이터 확인하기"
   ]
  },
  {
   "cell_type": "code",
   "execution_count": 3,
   "metadata": {
    "scrolled": true
   },
   "outputs": [
    {
     "data": {
      "text/html": [
       "<div>\n",
       "<style scoped>\n",
       "    .dataframe tbody tr th:only-of-type {\n",
       "        vertical-align: middle;\n",
       "    }\n",
       "\n",
       "    .dataframe tbody tr th {\n",
       "        vertical-align: top;\n",
       "    }\n",
       "\n",
       "    .dataframe thead th {\n",
       "        text-align: right;\n",
       "    }\n",
       "</style>\n",
       "<table border=\"1\" class=\"dataframe\">\n",
       "  <thead>\n",
       "    <tr style=\"text-align: right;\">\n",
       "      <th></th>\n",
       "      <th>CustomerId</th>\n",
       "      <th>CreditScore</th>\n",
       "      <th>Age</th>\n",
       "      <th>Tenure</th>\n",
       "      <th>Balance</th>\n",
       "      <th>NumOfProducts</th>\n",
       "      <th>HasCrCard</th>\n",
       "      <th>IsActiveMember</th>\n",
       "      <th>EstimatedSalary</th>\n",
       "      <th>Exited</th>\n",
       "    </tr>\n",
       "  </thead>\n",
       "  <tbody>\n",
       "    <tr>\n",
       "      <th>count</th>\n",
       "      <td>1.000000e+04</td>\n",
       "      <td>10000.000000</td>\n",
       "      <td>10000.000000</td>\n",
       "      <td>10000.000000</td>\n",
       "      <td>10000.000000</td>\n",
       "      <td>10000.000000</td>\n",
       "      <td>10000.00000</td>\n",
       "      <td>10000.000000</td>\n",
       "      <td>10000.000000</td>\n",
       "      <td>10000.000000</td>\n",
       "    </tr>\n",
       "    <tr>\n",
       "      <th>mean</th>\n",
       "      <td>1.569094e+07</td>\n",
       "      <td>650.528800</td>\n",
       "      <td>38.921800</td>\n",
       "      <td>5.012800</td>\n",
       "      <td>76485.889288</td>\n",
       "      <td>1.530200</td>\n",
       "      <td>0.70550</td>\n",
       "      <td>0.515100</td>\n",
       "      <td>100090.239881</td>\n",
       "      <td>0.203700</td>\n",
       "    </tr>\n",
       "    <tr>\n",
       "      <th>std</th>\n",
       "      <td>7.193619e+04</td>\n",
       "      <td>96.653299</td>\n",
       "      <td>10.487806</td>\n",
       "      <td>2.892174</td>\n",
       "      <td>62397.405202</td>\n",
       "      <td>0.581654</td>\n",
       "      <td>0.45584</td>\n",
       "      <td>0.499797</td>\n",
       "      <td>57510.492818</td>\n",
       "      <td>0.402769</td>\n",
       "    </tr>\n",
       "    <tr>\n",
       "      <th>min</th>\n",
       "      <td>1.556570e+07</td>\n",
       "      <td>350.000000</td>\n",
       "      <td>18.000000</td>\n",
       "      <td>0.000000</td>\n",
       "      <td>0.000000</td>\n",
       "      <td>1.000000</td>\n",
       "      <td>0.00000</td>\n",
       "      <td>0.000000</td>\n",
       "      <td>11.580000</td>\n",
       "      <td>0.000000</td>\n",
       "    </tr>\n",
       "    <tr>\n",
       "      <th>25%</th>\n",
       "      <td>1.562853e+07</td>\n",
       "      <td>584.000000</td>\n",
       "      <td>32.000000</td>\n",
       "      <td>3.000000</td>\n",
       "      <td>0.000000</td>\n",
       "      <td>1.000000</td>\n",
       "      <td>0.00000</td>\n",
       "      <td>0.000000</td>\n",
       "      <td>51002.110000</td>\n",
       "      <td>0.000000</td>\n",
       "    </tr>\n",
       "    <tr>\n",
       "      <th>50%</th>\n",
       "      <td>1.569074e+07</td>\n",
       "      <td>652.000000</td>\n",
       "      <td>37.000000</td>\n",
       "      <td>5.000000</td>\n",
       "      <td>97198.540000</td>\n",
       "      <td>1.000000</td>\n",
       "      <td>1.00000</td>\n",
       "      <td>1.000000</td>\n",
       "      <td>100193.915000</td>\n",
       "      <td>0.000000</td>\n",
       "    </tr>\n",
       "    <tr>\n",
       "      <th>75%</th>\n",
       "      <td>1.575323e+07</td>\n",
       "      <td>718.000000</td>\n",
       "      <td>44.000000</td>\n",
       "      <td>7.000000</td>\n",
       "      <td>127644.240000</td>\n",
       "      <td>2.000000</td>\n",
       "      <td>1.00000</td>\n",
       "      <td>1.000000</td>\n",
       "      <td>149388.247500</td>\n",
       "      <td>0.000000</td>\n",
       "    </tr>\n",
       "    <tr>\n",
       "      <th>max</th>\n",
       "      <td>1.581569e+07</td>\n",
       "      <td>850.000000</td>\n",
       "      <td>92.000000</td>\n",
       "      <td>10.000000</td>\n",
       "      <td>250898.090000</td>\n",
       "      <td>4.000000</td>\n",
       "      <td>1.00000</td>\n",
       "      <td>1.000000</td>\n",
       "      <td>199992.480000</td>\n",
       "      <td>1.000000</td>\n",
       "    </tr>\n",
       "  </tbody>\n",
       "</table>\n",
       "</div>"
      ],
      "text/plain": [
       "         CustomerId   CreditScore           Age        Tenure        Balance  \\\n",
       "count  1.000000e+04  10000.000000  10000.000000  10000.000000   10000.000000   \n",
       "mean   1.569094e+07    650.528800     38.921800      5.012800   76485.889288   \n",
       "std    7.193619e+04     96.653299     10.487806      2.892174   62397.405202   \n",
       "min    1.556570e+07    350.000000     18.000000      0.000000       0.000000   \n",
       "25%    1.562853e+07    584.000000     32.000000      3.000000       0.000000   \n",
       "50%    1.569074e+07    652.000000     37.000000      5.000000   97198.540000   \n",
       "75%    1.575323e+07    718.000000     44.000000      7.000000  127644.240000   \n",
       "max    1.581569e+07    850.000000     92.000000     10.000000  250898.090000   \n",
       "\n",
       "       NumOfProducts    HasCrCard  IsActiveMember  EstimatedSalary  \\\n",
       "count   10000.000000  10000.00000    10000.000000     10000.000000   \n",
       "mean        1.530200      0.70550        0.515100    100090.239881   \n",
       "std         0.581654      0.45584        0.499797     57510.492818   \n",
       "min         1.000000      0.00000        0.000000        11.580000   \n",
       "25%         1.000000      0.00000        0.000000     51002.110000   \n",
       "50%         1.000000      1.00000        1.000000    100193.915000   \n",
       "75%         2.000000      1.00000        1.000000    149388.247500   \n",
       "max         4.000000      1.00000        1.000000    199992.480000   \n",
       "\n",
       "             Exited  \n",
       "count  10000.000000  \n",
       "mean       0.203700  \n",
       "std        0.402769  \n",
       "min        0.000000  \n",
       "25%        0.000000  \n",
       "50%        0.000000  \n",
       "75%        0.000000  \n",
       "max        1.000000  "
      ]
     },
     "execution_count": 3,
     "metadata": {},
     "output_type": "execute_result"
    }
   ],
   "source": [
    "df.describe()"
   ]
  },
  {
   "cell_type": "code",
   "execution_count": 4,
   "metadata": {
    "scrolled": false
   },
   "outputs": [
    {
     "name": "stdout",
     "output_type": "stream",
     "text": [
      "<class 'pandas.core.frame.DataFrame'>\n",
      "Int64Index: 10000 entries, 1 to 10000\n",
      "Data columns (total 13 columns):\n",
      " #   Column           Non-Null Count  Dtype  \n",
      "---  ------           --------------  -----  \n",
      " 0   CustomerId       10000 non-null  int64  \n",
      " 1   Surname          10000 non-null  object \n",
      " 2   CreditScore      10000 non-null  int64  \n",
      " 3   Geography        10000 non-null  object \n",
      " 4   Gender           10000 non-null  object \n",
      " 5   Age              10000 non-null  int64  \n",
      " 6   Tenure           10000 non-null  int64  \n",
      " 7   Balance          10000 non-null  float64\n",
      " 8   NumOfProducts    10000 non-null  int64  \n",
      " 9   HasCrCard        10000 non-null  int64  \n",
      " 10  IsActiveMember   10000 non-null  int64  \n",
      " 11  EstimatedSalary  10000 non-null  float64\n",
      " 12  Exited           10000 non-null  int64  \n",
      "dtypes: float64(2), int64(8), object(3)\n",
      "memory usage: 1.1+ MB\n"
     ]
    }
   ],
   "source": [
    "df.info()"
   ]
  },
  {
   "cell_type": "markdown",
   "metadata": {},
   "source": [
    "## 4. 데이터 전처리"
   ]
  },
  {
   "cell_type": "markdown",
   "metadata": {},
   "source": [
    "연관성이 거의 없는 행 번호, 아이디, 이름은 삭제하는것이 좋습니다."
   ]
  },
  {
   "cell_type": "code",
   "execution_count": 5,
   "metadata": {},
   "outputs": [],
   "source": [
    "df.drop([\"CustomerId\",\"Surname\"], axis=1, inplace=True)"
   ]
  },
  {
   "cell_type": "code",
   "execution_count": 6,
   "metadata": {
    "scrolled": false
   },
   "outputs": [
    {
     "data": {
      "image/png": "[encoded data removed]",
      "text/plain": [
       "<Figure size 576x432 with 1 Axes>"
      ]
     },
     "metadata": {},
     "output_type": "display_data"
    }
   ],
   "source": [
    "labels = 'Exited', 'Retained'\n",
    "sizes = [len(df.loc[df['Exited']==1]), len(df.loc[df['Exited']==0])]\n",
    "explode = (0, 0.1)\n",
    "fig1, ax1 = plt.subplots(figsize=(8, 6))\n",
    "ax1.pie(sizes, explode=explode, labels=labels, autopct='%1.1f%%',\n",
    "        shadow=True, startangle=90)\n",
    "ax1.axis('equal')\n",
    "plt.title(\"Proportion of customer churned and retained\", size = 20)\n",
    "plt.show()"
   ]
  },
  {
   "cell_type": "markdown",
   "metadata": {},
   "source": [
    "8 대 2 정도의 클래스 비율을 가지고 있는 것을 확인 할 수 있습니다."
   ]
  },
  {
   "cell_type": "markdown",
   "metadata": {},
   "source": [
    "### 카테고리 피쳐 시각화"
   ]
  },
  {
   "cell_type": "code",
   "execution_count": 7,
   "metadata": {
    "scrolled": false
   },
   "outputs": [
    {
     "data": {
      "image/png": "[encoded data removed]",
      "text/plain": [
       "<Figure size 1440x1152 with 4 Axes>"
      ]
     },
     "metadata": {
      "needs_background": "light"
     },
     "output_type": "display_data"
    }
   ],
   "source": [
    "fig, ax = plt.subplots(2, 2, figsize=(20, 16))\n",
    "plt.subplots_adjust(wspace=0.2)\n",
    "sns.countplot(x='Geography', hue = 'Exited',data = df, ax=ax[0][0], edgecolor = (0,0,0))\n",
    "sns.countplot(x='Gender', hue = 'Exited',data = df, ax=ax[0][1], edgecolor = (0,0,0))\n",
    "sns.countplot(x='HasCrCard', hue = 'Exited',data = df, ax=ax[1][0], edgecolor = (0,0,0))\n",
    "sns.countplot(x='IsActiveMember', hue = 'Exited',data = df, ax=ax[1][1], edgecolor = (0,0,0))\n",
    "plt.show()"
   ]
  },
  {
   "cell_type": "markdown",
   "metadata": {},
   "source": [
    "### 실수형 피쳐 시각화"
   ]
  },
  {
   "cell_type": "code",
   "execution_count": 8,
   "metadata": {
    "scrolled": false
   },
   "outputs": [
    {
     "data": {
      "image/png": "[encoded data removed]",
      "text/plain": [
       "<Figure size 1440x864 with 6 Axes>"
      ]
     },
     "metadata": {
      "needs_background": "light"
     },
     "output_type": "display_data"
    }
   ],
   "source": [
    "fig, ax = plt.subplots(3, 2, figsize=(20, 12))\n",
    "plt.subplots_adjust(wspace=0.2)\n",
    "sns.boxplot(y='CreditScore',x = 'Exited', hue = 'Exited',data = df, ax=ax[0][0])\n",
    "sns.boxplot(y='Age',x = 'Exited', hue = 'Exited',data = df , ax=ax[0][1])\n",
    "sns.boxplot(y='Tenure',x = 'Exited', hue = 'Exited',data = df, ax=ax[1][0])\n",
    "sns.boxplot(y='Balance',x = 'Exited', hue = 'Exited',data = df, ax=ax[1][1])\n",
    "sns.boxplot(y='NumOfProducts',x = 'Exited', hue = 'Exited',data = df, ax=ax[2][0])\n",
    "sns.boxplot(y='EstimatedSalary',x = 'Exited', hue = 'Exited',data = df, ax=ax[2][1])\n",
    "plt.show()"
   ]
  },
  {
   "cell_type": "code",
   "execution_count": 9,
   "metadata": {},
   "outputs": [],
   "source": [
    "df = pd.get_dummies(df,columns=['Gender','Geography'])"
   ]
  },
  {
   "cell_type": "code",
   "execution_count": 10,
   "metadata": {},
   "outputs": [
    {
     "data": {
      "text/plain": [
       "Index(['Age', 'NumOfProducts', 'HasCrCard', 'Exited', 'Geography_Germany',\n",
       "       'Geography_Spain'],\n",
       "      dtype='object')"
      ]
     },
     "execution_count": 10,
     "metadata": {},
     "output_type": "execute_result"
    }
   ],
   "source": [
    "df.columns[abs(skew(df)) > .5]"
   ]
  },
  {
   "cell_type": "code",
   "execution_count": 11,
   "metadata": {},
   "outputs": [],
   "source": [
    "df['Tenure/Age'] = df.Tenure / df.Age"
   ]
  },
  {
   "cell_type": "code",
   "execution_count": 12,
   "metadata": {},
   "outputs": [],
   "source": [
    "df['cre/Age'] = df.CreditScore / df.Age"
   ]
  },
  {
   "cell_type": "code",
   "execution_count": 13,
   "metadata": {},
   "outputs": [],
   "source": [
    "df['pro/Age'] = df.NumOfProducts / df.Age"
   ]
  },
  {
   "cell_type": "code",
   "execution_count": 14,
   "metadata": {},
   "outputs": [],
   "source": [
    "df['est/Age'] = df.EstimatedSalary / df.Age"
   ]
  },
  {
   "cell_type": "code",
   "execution_count": 15,
   "metadata": {},
   "outputs": [],
   "source": [
    "df['bal/est'] = df.Balance / df.EstimatedSalary "
   ]
  },
  {
   "cell_type": "code",
   "execution_count": 16,
   "metadata": {},
   "outputs": [],
   "source": [
    "df['bal/age'] = df.Balance / df.Age "
   ]
  },
  {
   "cell_type": "code",
   "execution_count": 17,
   "metadata": {
    "scrolled": false
   },
   "outputs": [
    {
     "data": {
      "text/plain": [
       "Exited               1.000000\n",
       "Age                  0.285323\n",
       "Geography_Germany    0.173488\n",
       "Balance              0.118533\n",
       "Gender_Female        0.106512\n",
       "bal/est              0.025558\n",
       "bal/age              0.017238\n",
       "EstimatedSalary      0.012097\n",
       "HasCrCard           -0.007138\n",
       "Tenure              -0.014001\n",
       "CreditScore         -0.027094\n",
       "NumOfProducts       -0.047820\n",
       "Geography_Spain     -0.052667\n",
       "est/Age             -0.103080\n",
       "Geography_France    -0.104955\n",
       "Gender_Male         -0.106512\n",
       "Tenure/Age          -0.121641\n",
       "IsActiveMember      -0.156128\n",
       "pro/Age             -0.193276\n",
       "cre/Age             -0.253437\n",
       "Name: Exited, dtype: float64"
      ]
     },
     "execution_count": 17,
     "metadata": {},
     "output_type": "execute_result"
    }
   ],
   "source": [
    "df.corr()['Exited'].sort_values()[::-1]"
   ]
  },
  {
   "cell_type": "markdown",
   "metadata": {},
   "source": [
    "### 데이터셋 구분"
   ]
  },
  {
   "cell_type": "code",
   "execution_count": 18,
   "metadata": {},
   "outputs": [],
   "source": [
    "df_m = df.copy() #minmax"
   ]
  },
  {
   "cell_type": "code",
   "execution_count": 19,
   "metadata": {},
   "outputs": [],
   "source": [
    "df_s = df.copy()# standard"
   ]
  },
  {
   "cell_type": "markdown",
   "metadata": {},
   "source": [
    "### Scaler 적용"
   ]
  },
  {
   "cell_type": "code",
   "execution_count": 20,
   "metadata": {},
   "outputs": [],
   "source": [
    "from sklearn.preprocessing import MinMaxScaler, StandardScaler"
   ]
  },
  {
   "cell_type": "markdown",
   "metadata": {},
   "source": [
    "#### Min-Max Scaler"
   ]
  },
  {
   "cell_type": "code",
   "execution_count": 21,
   "metadata": {},
   "outputs": [],
   "source": [
    "scale_cols = ['CreditScore','Tenure','NumOfProducts', 'Age','Balance', 'cre/Age', 'est/Age', 'bal/est', 'bal/age','EstimatedSalary']"
   ]
  },
  {
   "cell_type": "code",
   "execution_count": 22,
   "metadata": {},
   "outputs": [],
   "source": [
    "m_scaler = MinMaxScaler()"
   ]
  },
  {
   "cell_type": "code",
   "execution_count": 23,
   "metadata": {
    "scrolled": true
   },
   "outputs": [],
   "source": [
    "df_m[scale_cols] = m_scaler.fit_transform(df_m[scale_cols])"
   ]
  },
  {
   "cell_type": "markdown",
   "metadata": {},
   "source": [
    "#### StandardScaler"
   ]
  },
  {
   "cell_type": "code",
   "execution_count": 24,
   "metadata": {},
   "outputs": [],
   "source": [
    "s_scaler = StandardScaler()"
   ]
  },
  {
   "cell_type": "code",
   "execution_count": 25,
   "metadata": {},
   "outputs": [],
   "source": [
    "df_s[scale_cols] = s_scaler.fit_transform(df_s[scale_cols])"
   ]
  },
  {
   "cell_type": "markdown",
   "metadata": {},
   "source": [
    "## 5. 모델링"
   ]
  },
  {
   "cell_type": "code",
   "execution_count": 26,
   "metadata": {},
   "outputs": [],
   "source": [
    "from sklearn.model_selection import train_test_split, StratifiedKFold, cross_val_score, GridSearchCV\n",
    "from sklearn.metrics import accuracy_score, f1_score,average_precision_score, confusion_matrix, precision_score, recall_score, roc_auc_score\n",
    "\n",
    "from sklearn.naive_bayes import GaussianNB\n",
    "from sklearn.linear_model import LogisticRegression, SGDClassifier\n",
    "from sklearn.tree import DecisionTreeClassifier,ExtraTreeClassifier\n",
    "from sklearn.discriminant_analysis import LinearDiscriminantAnalysis\n",
    "from sklearn.neighbors import KNeighborsClassifier\n",
    "from sklearn.ensemble import RandomForestClassifier, AdaBoostClassifier, GradientBoostingClassifier,ExtraTreesClassifier, VotingClassifier,BaggingClassifier\n",
    "from sklearn.neural_network import MLPClassifier\n",
    "from sklearn.svm import SVC\n",
    "from xgboost import XGBClassifier\n",
    "from lightgbm import LGBMClassifier"
   ]
  },
  {
   "cell_type": "code",
   "execution_count": 27,
   "metadata": {},
   "outputs": [],
   "source": [
    "def eval_model(model):\n",
    "    models.append(model.__class__.__name__)\n",
    "\n",
    "    try:\n",
    "        grid_model = GridSearchCV(model, param_grid, cv = kf, refit = True, n_jobs = -1)\n",
    "        grid_model.fit(X_train, y_train)\n",
    "        roc_auc = roc_auc_score(y_test, grid_model.predict_proba(X_test)[:, 1])\n",
    "        score = grid_model.best_score_\n",
    "        print(\"최적의 파라미터 조합은 {}\".format(grid_model.best_params_))\n",
    "        print('accucary : ', np.round(score, 4))\n",
    "        print('roc_auc_score : ', np.round(roc_auc, 4))\n",
    "    except :\n",
    "        model.fit(X_train, y_train)\n",
    "        roc_auc = roc_auc_score(y_test, model.predict_proba(X_test)[:, 1])\n",
    "        score = accuracy_score(model.predict(X_test), y_test)\n",
    "        print('accucary : ', np.round(score, 4))\n",
    "        print('roc_auc_score : ', np.round(roc_auc, 4))\n",
    "    acc.append(score)\n",
    "    roc.append(roc_auc)"
   ]
  },
  {
   "cell_type": "code",
   "execution_count": 28,
   "metadata": {},
   "outputs": [],
   "source": [
    "kf = StratifiedKFold(n_splits = 5, shuffle = True, random_state = 777)"
   ]
  },
  {
   "cell_type": "code",
   "execution_count": 29,
   "metadata": {},
   "outputs": [],
   "source": [
    "models = []\n",
    "acc = []\n",
    "roc = []"
   ]
  },
  {
   "cell_type": "markdown",
   "metadata": {},
   "source": [
    "### (1) df_m"
   ]
  },
  {
   "cell_type": "code",
   "execution_count": 30,
   "metadata": {},
   "outputs": [],
   "source": [
    "X = df_m.drop(\"Exited\", axis=1)\n",
    "y = df_m[\"Exited\"]"
   ]
  },
  {
   "cell_type": "code",
   "execution_count": 31,
   "metadata": {},
   "outputs": [],
   "source": [
    "X_train, X_test, y_train, y_test = train_test_split(X, y, test_size=0.2, random_state=123)"
   ]
  },
  {
   "cell_type": "markdown",
   "metadata": {},
   "source": [
    "#### ① GaussianNB"
   ]
  },
  {
   "cell_type": "code",
   "execution_count": 32,
   "metadata": {
    "scrolled": true
   },
   "outputs": [
    {
     "name": "stdout",
     "output_type": "stream",
     "text": [
      "accucary :  0.8045\n",
      "roc_auc_score :  0.7982\n",
      "Wall time: 25.9 ms\n"
     ]
    }
   ],
   "source": [
    "%%time\n",
    "eval_model(GaussianNB())"
   ]
  },
  {
   "cell_type": "markdown",
   "metadata": {},
   "source": [
    "#### ② LogisticRegression"
   ]
  },
  {
   "cell_type": "code",
   "execution_count": 33,
   "metadata": {
    "scrolled": true
   },
   "outputs": [
    {
     "name": "stdout",
     "output_type": "stream",
     "text": [
      "최적의 파라미터 조합은 {'C': 100, 'fit_intercept': True, 'intercept_scaling': 1, 'max_iter': 50, 'penalty': 'l2', 'tol': 1e-05}\n",
      "accucary :  0.8163\n",
      "roc_auc_score :  0.7904\n",
      "Wall time: 13 s\n"
     ]
    }
   ],
   "source": [
    "%%time\n",
    "param_grid = {'C': [0.1,0.5,1,10,50,100], 'max_iter': [25,50,75, 100,], 'fit_intercept':[True],'intercept_scaling':[1],\n",
    "              'penalty':['l2'], 'tol':[0.00001,0.0001,0.000001]}\n",
    "eval_model(LogisticRegression(random_state = 42))"
   ]
  },
  {
   "cell_type": "code",
   "execution_count": 34,
   "metadata": {},
   "outputs": [
    {
     "data": {
      "text/plain": [
       "'LogisticRegression'"
      ]
     },
     "execution_count": 34,
     "metadata": {},
     "output_type": "execute_result"
    }
   ],
   "source": [
    "models[1]"
   ]
  },
  {
   "cell_type": "markdown",
   "metadata": {},
   "source": [
    "#### ③ SVM"
   ]
  },
  {
   "cell_type": "code",
   "execution_count": 35,
   "metadata": {
    "scrolled": true
   },
   "outputs": [
    {
     "name": "stdout",
     "output_type": "stream",
     "text": [
      "최적의 파라미터 조합은 {'C': 150, 'gamma': 0.1, 'kernel': 'rbf', 'probability': True}\n",
      "accucary :  0.8561\n",
      "roc_auc_score :  0.8371\n",
      "Wall time: 4min 20s\n"
     ]
    }
   ],
   "source": [
    "%%time\n",
    "param_grid = {'C': [0.5,100,150], 'gamma': [0.1,0.01,0.001],'probability':[True],'kernel': ['poly', 'rbf']}\n",
    "eval_model(SVC())"
   ]
  },
  {
   "cell_type": "markdown",
   "metadata": {},
   "source": [
    "#### ④ DecisionTreeClassifier"
   ]
  },
  {
   "cell_type": "code",
   "execution_count": 36,
   "metadata": {
    "scrolled": false
   },
   "outputs": [
    {
     "name": "stdout",
     "output_type": "stream",
     "text": [
      "최적의 파라미터 조합은 {'criterion': 'gini', 'max_depth': 6, 'min_samples_leaf': 3, 'min_samples_split': 6}\n",
      "accucary :  0.8582\n",
      "roc_auc_score :  0.8471\n",
      "Wall time: 23.4 s\n"
     ]
    }
   ],
   "source": [
    "%%time\n",
    "param_grid = {'criterion' : ['gini','entropy'], 'max_depth' : [3,4,5,6,7], 'min_samples_split' : [2,3,4,5,6],\n",
    "        'min_samples_leaf' : [2,3,4,5,6]}\n",
    "eval_model(DecisionTreeClassifier())"
   ]
  },
  {
   "cell_type": "markdown",
   "metadata": {},
   "source": [
    "#### ⑤ RandomForestClassifier"
   ]
  },
  {
   "cell_type": "code",
   "execution_count": 37,
   "metadata": {
    "scrolled": false
   },
   "outputs": [
    {
     "name": "stdout",
     "output_type": "stream",
     "text": [
      "최적의 파라미터 조합은 {'max_depth': 8, 'max_features': 4, 'min_samples_split': 5, 'n_estimators': 200}\n",
      "accucary :  0.8644\n",
      "roc_auc_score :  0.8729\n",
      "Wall time: 42min 19s\n"
     ]
    }
   ],
   "source": [
    "%%time\n",
    "param_grid = {'max_depth': [3, 5, 6, 7, 8], 'max_features': [2,4,6,7,8,9],\n",
    "              'n_estimators':[50,100,200, 300, 500],'min_samples_split': [3, 5, 6, 7]}\n",
    "eval_model(RandomForestClassifier(random_state = 777))"
   ]
  },
  {
   "cell_type": "markdown",
   "metadata": {},
   "source": [
    "#### ⑥ KNeighborsClassifier"
   ]
  },
  {
   "cell_type": "code",
   "execution_count": 38,
   "metadata": {
    "scrolled": true
   },
   "outputs": [
    {
     "name": "stdout",
     "output_type": "stream",
     "text": [
      "최적의 파라미터 조합은 {'n_neighbors': 7}\n",
      "accucary :  0.8169\n",
      "roc_auc_score :  0.7671\n",
      "Wall time: 2.79 s\n"
     ]
    }
   ],
   "source": [
    "%%time\n",
    "param_grid = {'n_neighbors' : [3,4,5,6,7]}\n",
    "eval_model(KNeighborsClassifier())"
   ]
  },
  {
   "cell_type": "markdown",
   "metadata": {},
   "source": [
    "#### ⑦ SGDClassifier"
   ]
  },
  {
   "cell_type": "code",
   "execution_count": 39,
   "metadata": {
    "scrolled": true
   },
   "outputs": [
    {
     "name": "stdout",
     "output_type": "stream",
     "text": [
      "최적의 파라미터 조합은 {'alpha': 0.001, 'loss': 'log', 'max_iter': 3, 'penalty': 'l1', 'tol': 0.0001}\n",
      "accucary :  0.8129\n",
      "roc_auc_score :  0.781\n",
      "Wall time: 1min 6s\n"
     ]
    }
   ],
   "source": [
    "%%time\n",
    "param_grid = {'loss' : ['hinge', 'log', 'modified_huber', 'squared_hinge', 'perceptron'],\n",
    "         'alpha' : [0.0001, 0.005, 0.001, 0.01, 0.05, 0.1],\n",
    "        'penalty' : ['l2', 'l1', 'elasticnet'],\n",
    "        'max_iter' : [2,3,4,5,6], 'tol' : [0.0001, 0.001, 0.01, 0.05]}\n",
    "eval_model(SGDClassifier(random_state=42))"
   ]
  },
  {
   "cell_type": "markdown",
   "metadata": {},
   "source": [
    "#### ⑧ GradientBoostingClassifier"
   ]
  },
  {
   "cell_type": "code",
   "execution_count": 40,
   "metadata": {
    "scrolled": true
   },
   "outputs": [
    {
     "name": "stdout",
     "output_type": "stream",
     "text": [
      "최적의 파라미터 조합은 {'learning_rate': 0.1, 'loss': 'deviance', 'max_depth': 4, 'n_estimators': 50, 'subsample': 0.9}\n",
      "accucary :  0.866\n",
      "roc_auc_score :  0.8727\n",
      "Wall time: 23min 29s\n"
     ]
    }
   ],
   "source": [
    "%%time\n",
    "param_grid = {\"loss\" : [\"deviance\"], \"learning_rate\" : [0.01, 0.025, 0.05, 0.075, 0.1],\n",
    "    \"max_depth\":[4,5,6,7], \"n_estimators\" : [25, 50,100, 150,],\n",
    "        'subsample' : [0.7,0.8,0.9,1.0]}\n",
    "eval_model(GradientBoostingClassifier(random_state=42))"
   ]
  },
  {
   "cell_type": "markdown",
   "metadata": {},
   "source": [
    "#### ⑨ MLPClassifier"
   ]
  },
  {
   "cell_type": "code",
   "execution_count": 41,
   "metadata": {
    "scrolled": true
   },
   "outputs": [
    {
     "name": "stdout",
     "output_type": "stream",
     "text": [
      "최적의 파라미터 조합은 {'activation': 'relu', 'learning_rate': 'constant', 'max_iter': 100, 'solver': 'adam'}\n",
      "accucary :  0.86\n",
      "roc_auc_score :  0.8692\n",
      "Wall time: 23min 24s\n"
     ]
    }
   ],
   "source": [
    "%%time\n",
    "param_grid = {'activation' : ['identity', 'logistic', 'tanh', 'relu'],\n",
    "        'solver' : ['lbfgs', 'sgd', 'adam'], 'max_iter' : [50,100,150,200,250],\n",
    "        'learning_rate' : ['constant', 'invscaling', 'adaptive']}\n",
    "eval_model(MLPClassifier(random_state=42))"
   ]
  },
  {
   "cell_type": "markdown",
   "metadata": {},
   "source": [
    "#### ⑩ ExtraTreeClassifier"
   ]
  },
  {
   "cell_type": "code",
   "execution_count": 42,
   "metadata": {
    "scrolled": false
   },
   "outputs": [
    {
     "name": "stdout",
     "output_type": "stream",
     "text": [
      "최적의 파라미터 조합은 {'criterion': 'entropy', 'max_depth': 7, 'min_samples_split': 5}\n",
      "accucary :  0.8169\n",
      "roc_auc_score :  0.7387\n",
      "Wall time: 1.05 s\n"
     ]
    }
   ],
   "source": [
    "%%time\n",
    "param_grid = {'min_samples_split' : [3,5,7,9], 'criterion' : ['gini', 'entropy'],\n",
    "        'max_depth' : [3,4,5,6,7]}\n",
    "eval_model(ExtraTreeClassifier(random_state=42))"
   ]
  },
  {
   "cell_type": "markdown",
   "metadata": {},
   "source": [
    "#### ⑪ AdaBoostClassifier"
   ]
  },
  {
   "cell_type": "code",
   "execution_count": 43,
   "metadata": {},
   "outputs": [
    {
     "name": "stdout",
     "output_type": "stream",
     "text": [
      "최적의 파라미터 조합은 {'learning_rate': 0.1, 'n_estimators': 200}\n",
      "accucary :  0.8564\n",
      "roc_auc_score :  0.8672\n",
      "Wall time: 2min 10s\n"
     ]
    }
   ],
   "source": [
    "%%time\n",
    "param_grid = {'n_estimators' : [50,100,150,200,500], 'learning_rate' : [0.001, 0.005, 0.01, 0.05, 0.1, 1]}\n",
    "eval_model(AdaBoostClassifier(random_state=42))"
   ]
  },
  {
   "cell_type": "markdown",
   "metadata": {},
   "source": [
    "#### ⑫ LinearDiscriminantAnalysis"
   ]
  },
  {
   "cell_type": "code",
   "execution_count": 44,
   "metadata": {
    "scrolled": true
   },
   "outputs": [
    {
     "name": "stdout",
     "output_type": "stream",
     "text": [
      "accucary :  0.8075\n",
      "roc_auc_score :  0.7822\n",
      "Wall time: 275 ms\n"
     ]
    }
   ],
   "source": [
    "%%time\n",
    "eval_model(LinearDiscriminantAnalysis())"
   ]
  },
  {
   "cell_type": "markdown",
   "metadata": {},
   "source": [
    "#### ⑬ XGBClassifier"
   ]
  },
  {
   "cell_type": "code",
   "execution_count": 45,
   "metadata": {},
   "outputs": [
    {
     "name": "stdout",
     "output_type": "stream",
     "text": [
      "최적의 파라미터 조합은 {'gamma': 0.001, 'learning_rate': 0.3, 'max_depth': 5, 'min_child_weight': 1, 'n_estimators': 20}\n",
      "accucary :  0.8652\n",
      "roc_auc_score :  0.8789\n",
      "Wall time: 12min 46s\n"
     ]
    }
   ],
   "source": [
    "%%time\n",
    "param_grid = {'max_depth': [5,6,7,8], 'gamma': [0.01,0.001,0.001],'min_child_weight':[1,5,10], 'learning_rate': [0.05,0.1, 0.2, 0.3], 'n_estimators':[5,10,20,100]}\n",
    "eval_model(XGBClassifier(random_state = 2020))"
   ]
  },
  {
   "cell_type": "markdown",
   "metadata": {},
   "source": [
    "#### ⑭ LGBMClassifier"
   ]
  },
  {
   "cell_type": "code",
   "execution_count": 46,
   "metadata": {
    "scrolled": false
   },
   "outputs": [
    {
     "name": "stdout",
     "output_type": "stream",
     "text": [
      "최적의 파라미터 조합은 {'learning_rate': 0.05, 'max_depth': 6, 'n_estimators': 100, 'num_iterations': 100, 'num_leaves': 20}\n",
      "accucary :  0.8646\n",
      "roc_auc_score :  0.8779\n",
      "Wall time: 22min 51s\n"
     ]
    }
   ],
   "source": [
    "%%time\n",
    "param_grid = {'n_estimators' : [100,200, 300,400,500], 'num_iterations' : [100,150,200],\n",
    "        'learning_rate' : [0.001,0.005, 0.01, 0.05, 0.1], 'max_depth' : [3,4,5,6,7],\n",
    "        'num_leaves' : [20,30,40,100]}\n",
    "eval_model(LGBMClassifier(random_state =777))"
   ]
  },
  {
   "cell_type": "markdown",
   "metadata": {},
   "source": [
    "### (2) df_s"
   ]
  },
  {
   "cell_type": "code",
   "execution_count": 47,
   "metadata": {},
   "outputs": [],
   "source": [
    "X = df_s.drop(\"Exited\", axis=1)\n",
    "y = df_s[\"Exited\"]"
   ]
  },
  {
   "cell_type": "code",
   "execution_count": 48,
   "metadata": {},
   "outputs": [],
   "source": [
    "X_train, X_test, y_train, y_test = train_test_split(X, y, test_size=0.2, random_state = 777)"
   ]
  },
  {
   "cell_type": "markdown",
   "metadata": {},
   "source": [
    "#### ① GaussianNB"
   ]
  },
  {
   "cell_type": "code",
   "execution_count": 49,
   "metadata": {
    "scrolled": true
   },
   "outputs": [
    {
     "name": "stdout",
     "output_type": "stream",
     "text": [
      "accucary :  0.815\n",
      "roc_auc_score :  0.7928\n",
      "Wall time: 236 ms\n"
     ]
    }
   ],
   "source": [
    "%%time\n",
    "eval_model(GaussianNB())"
   ]
  },
  {
   "cell_type": "markdown",
   "metadata": {},
   "source": [
    "#### ② LogisticRegression"
   ]
  },
  {
   "cell_type": "code",
   "execution_count": 50,
   "metadata": {
    "scrolled": true
   },
   "outputs": [
    {
     "name": "stdout",
     "output_type": "stream",
     "text": [
      "최적의 파라미터 조합은 {'C': 50, 'fit_intercept': True, 'intercept_scaling': 1, 'max_iter': 50, 'penalty': 'l2', 'tol': 1e-05}\n",
      "accucary :  0.815\n",
      "roc_auc_score :  0.7696\n",
      "Wall time: 13.5 s\n"
     ]
    }
   ],
   "source": [
    "%%time\n",
    "param_grid = {'C': [0.1,0.5,1,10,50,100], 'max_iter': [25,50,75, 100,], 'fit_intercept':[True],'intercept_scaling':[1],\n",
    "              'penalty':['l2'], 'tol':[0.00001,0.0001,0.000001]}\n",
    "eval_model(LogisticRegression(random_state = 42))"
   ]
  },
  {
   "cell_type": "markdown",
   "metadata": {},
   "source": [
    "#### ③ SVM"
   ]
  },
  {
   "cell_type": "code",
   "execution_count": 51,
   "metadata": {
    "scrolled": true
   },
   "outputs": [
    {
     "name": "stdout",
     "output_type": "stream",
     "text": [
      "최적의 파라미터 조합은 {'C': 100, 'gamma': 0.1, 'kernel': 'poly', 'probability': True}\n",
      "accucary :  0.8584\n",
      "roc_auc_score :  0.1579\n",
      "Wall time: 15min 29s\n"
     ]
    }
   ],
   "source": [
    "%%time\n",
    "param_grid = {'C': [0.5,100,150], 'gamma': [0.1,0.01,0.001],'probability':[True],'kernel': ['poly', 'rbf']}\n",
    "eval_model(SVC())"
   ]
  },
  {
   "cell_type": "markdown",
   "metadata": {},
   "source": [
    "#### ④ DecisionTreeClassifier"
   ]
  },
  {
   "cell_type": "code",
   "execution_count": 52,
   "metadata": {
    "scrolled": true
   },
   "outputs": [
    {
     "name": "stdout",
     "output_type": "stream",
     "text": [
      "최적의 파라미터 조합은 {'criterion': 'gini', 'max_depth': 5, 'min_samples_leaf': 6, 'min_samples_split': 2}\n",
      "accucary :  0.86\n",
      "roc_auc_score :  0.8288\n",
      "Wall time: 21.2 s\n"
     ]
    }
   ],
   "source": [
    "%%time\n",
    "param_grid = {'criterion' : ['gini','entropy'], 'max_depth' : [3,4,5,6,7], 'min_samples_split' : [2,3,4,5,6],\n",
    "        'min_samples_leaf' : [2,3,4,5,6]}\n",
    "eval_model(DecisionTreeClassifier(random_state = 777))"
   ]
  },
  {
   "cell_type": "markdown",
   "metadata": {},
   "source": [
    "#### ⑤ RandomForestClassifier"
   ]
  },
  {
   "cell_type": "code",
   "execution_count": 53,
   "metadata": {
    "scrolled": false
   },
   "outputs": [
    {
     "name": "stdout",
     "output_type": "stream",
     "text": [
      "최적의 파라미터 조합은 {'max_depth': 8, 'max_features': 6, 'min_samples_split': 7, 'n_estimators': 100}\n",
      "accucary :  0.8648\n",
      "roc_auc_score :  0.8611\n",
      "Wall time: 39min 33s\n"
     ]
    }
   ],
   "source": [
    "%%time\n",
    "param_grid = {'max_depth': [3, 5, 6, 7, 8], 'max_features': [2,4,6,7,8,9],\n",
    "              'n_estimators':[50,100,200, 300, 500],'min_samples_split': [3, 5, 6, 7]}\n",
    "eval_model(RandomForestClassifier(random_state = 777))"
   ]
  },
  {
   "cell_type": "markdown",
   "metadata": {},
   "source": [
    "#### ⑥ KNeighborsClassifier"
   ]
  },
  {
   "cell_type": "code",
   "execution_count": 54,
   "metadata": {
    "scrolled": true
   },
   "outputs": [
    {
     "name": "stdout",
     "output_type": "stream",
     "text": [
      "최적의 파라미터 조합은 {'n_neighbors': 6}\n",
      "accucary :  0.8394\n",
      "roc_auc_score :  0.805\n",
      "Wall time: 3.38 s\n"
     ]
    }
   ],
   "source": [
    "%%time\n",
    "param_grid = {'n_neighbors' : [3,4,5,6,7]}\n",
    "eval_model(KNeighborsClassifier())"
   ]
  },
  {
   "cell_type": "markdown",
   "metadata": {},
   "source": [
    "#### ⑦ SGDClassifier"
   ]
  },
  {
   "cell_type": "code",
   "execution_count": 55,
   "metadata": {
    "scrolled": true
   },
   "outputs": [
    {
     "name": "stdout",
     "output_type": "stream",
     "text": [
      "최적의 파라미터 조합은 {'alpha': 0.005, 'loss': 'log', 'max_iter': 4, 'penalty': 'l2', 'tol': 0.0001}\n",
      "accucary :  0.8134\n",
      "roc_auc_score :  0.7677\n",
      "Wall time: 1min 8s\n"
     ]
    }
   ],
   "source": [
    "%%time\n",
    "param_grid =  {'loss' : ['hinge', 'log', 'modified_huber', 'squared_hinge', 'perceptron'],\n",
    "         'alpha' : [0.0001, 0.005, 0.001, 0.01, 0.05, 0.1],\n",
    "        'penalty' : ['l2', 'l1', 'elasticnet'],\n",
    "        'max_iter' : [2,3,4,5,6], 'tol' : [0.0001, 0.001, 0.01, 0.05]}\n",
    "eval_model(SGDClassifier(random_state = 777))"
   ]
  },
  {
   "cell_type": "markdown",
   "metadata": {},
   "source": [
    "#### ⑧ GradientBoostingClassifier"
   ]
  },
  {
   "cell_type": "code",
   "execution_count": 56,
   "metadata": {
    "scrolled": false
   },
   "outputs": [
    {
     "name": "stdout",
     "output_type": "stream",
     "text": [
      "최적의 파라미터 조합은 {'learning_rate': 0.1, 'loss': 'deviance', 'max_depth': 5, 'n_estimators': 50, 'subsample': 1.0}\n",
      "accucary :  0.8665\n",
      "roc_auc_score :  0.8635\n",
      "Wall time: 23min 53s\n"
     ]
    }
   ],
   "source": [
    "%%time\n",
    "param_grid = {\"loss\" : [\"deviance\"], \"learning_rate\" : [0.01, 0.025, 0.05, 0.075, 0.1],\n",
    "    \"max_depth\":[4,5,6,7], \"n_estimators\" : [25, 50,100, 150,],\n",
    "        'subsample' : [0.7,0.8,0.9,1.0]}\n",
    "eval_model(GradientBoostingClassifier(random_state=42))"
   ]
  },
  {
   "cell_type": "markdown",
   "metadata": {},
   "source": [
    "#### ⑨ MLPClassifier"
   ]
  },
  {
   "cell_type": "code",
   "execution_count": 57,
   "metadata": {
    "scrolled": true
   },
   "outputs": [
    {
     "name": "stdout",
     "output_type": "stream",
     "text": [
      "최적의 파라미터 조합은 {'activation': 'logistic', 'learning_rate': 'constant', 'max_iter': 100, 'solver': 'lbfgs'}\n",
      "accucary :  0.8604\n",
      "roc_auc_score :  0.86\n",
      "Wall time: 25min 10s\n"
     ]
    }
   ],
   "source": [
    "%%time\n",
    "param_grid = {'activation' : ['identity', 'logistic', 'tanh', 'relu'],\n",
    "        'solver' : ['lbfgs', 'sgd', 'adam'], 'max_iter' : [50,100,150,200,250],\n",
    "        'learning_rate' : ['constant', 'invscaling', 'adaptive']}\n",
    "eval_model(MLPClassifier(random_state = 777))"
   ]
  },
  {
   "cell_type": "markdown",
   "metadata": {},
   "source": [
    "#### ⑩ ExtraTreeClassifier"
   ]
  },
  {
   "cell_type": "code",
   "execution_count": 58,
   "metadata": {
    "scrolled": true
   },
   "outputs": [
    {
     "name": "stdout",
     "output_type": "stream",
     "text": [
      "최적의 파라미터 조합은 {'criterion': 'gini', 'max_depth': 4, 'min_samples_split': 3}\n",
      "accucary :  0.8185\n",
      "roc_auc_score :  0.7316\n",
      "Wall time: 1.09 s\n"
     ]
    }
   ],
   "source": [
    "%%time\n",
    "param_grid = {'min_samples_split' : [3,5,7,9], 'criterion' : ['gini', 'entropy'],\n",
    "        'max_depth' : [3,4,5,6,7]}\n",
    "eval_model(ExtraTreeClassifier(random_state = 777))"
   ]
  },
  {
   "cell_type": "markdown",
   "metadata": {},
   "source": [
    "#### ⑪ AdaBoostClassifier"
   ]
  },
  {
   "cell_type": "code",
   "execution_count": 60,
   "metadata": {},
   "outputs": [
    {
     "name": "stdout",
     "output_type": "stream",
     "text": [
      "최적의 파라미터 조합은 {'learning_rate': 0.1, 'n_estimators': 150}\n",
      "accucary :  0.8569\n",
      "roc_auc_score :  0.845\n",
      "Wall time: 1min 57s\n"
     ]
    }
   ],
   "source": [
    "%%time\n",
    "param_grid = {'n_estimators' : [50,100,150,200,500], 'learning_rate' : [0.001, 0.005, 0.01, 0.05, 0.1, 1]}\n",
    "eval_model(AdaBoostClassifier(random_state = 777))"
   ]
  },
  {
   "cell_type": "markdown",
   "metadata": {},
   "source": [
    "#### ⑫ LinearDiscriminantAnalysis"
   ]
  },
  {
   "cell_type": "code",
   "execution_count": 61,
   "metadata": {
    "scrolled": true
   },
   "outputs": [
    {
     "name": "stdout",
     "output_type": "stream",
     "text": [
      "accucary :  0.8135\n",
      "roc_auc_score :  0.7633\n",
      "Wall time: 161 ms\n"
     ]
    }
   ],
   "source": [
    "%%time\n",
    "eval_model(LinearDiscriminantAnalysis())"
   ]
  },
  {
   "cell_type": "markdown",
   "metadata": {},
   "source": [
    "#### ⑬ XGBClassifier"
   ]
  },
  {
   "cell_type": "code",
   "execution_count": 62,
   "metadata": {},
   "outputs": [
    {
     "name": "stdout",
     "output_type": "stream",
     "text": [
      "최적의 파라미터 조합은 {'gamma': 0.01, 'learning_rate': 0.05, 'max_depth': 5, 'min_child_weight': 1, 'n_estimators': 100}\n",
      "accucary :  0.8642\n",
      "roc_auc_score :  0.8668\n",
      "Wall time: 11min 53s\n"
     ]
    }
   ],
   "source": [
    "%%time\n",
    "param_grid = {'max_depth': [5,6,7,8], 'gamma': [0.01,0.001,0.001],\n",
    "              'min_child_weight':[1,5,10], 'learning_rate': [0.05,0.1, 0.2, 0.3], 'n_estimators':[5,10,20,100]}\n",
    "eval_model(XGBClassifier(random_state = 777))"
   ]
  },
  {
   "cell_type": "markdown",
   "metadata": {},
   "source": [
    "#### ⑭ LGBMClassifier"
   ]
  },
  {
   "cell_type": "code",
   "execution_count": 63,
   "metadata": {
    "scrolled": true
   },
   "outputs": [
    {
     "name": "stdout",
     "output_type": "stream",
     "text": [
      "최적의 파라미터 조합은 {'learning_rate': 0.05, 'max_depth': 3, 'n_estimators': 200, 'num_leaves': 20}\n",
      "accucary :  0.8645\n",
      "roc_auc_score :  0.8628\n",
      "Wall time: 13min 35s\n"
     ]
    }
   ],
   "source": [
    "%%time\n",
    "param_grid = {'n_estimators' : [100,200, 300,400,500], 'learning_rate' : [0.001,0.005, 0.01, 0.05, 0.1], \n",
    "         'max_depth' : [3,4,5,6,7], 'num_leaves' : [20,30,40,100]}\n",
    "eval_model(LGBMClassifier(random_state = 777))"
   ]
  },
  {
   "cell_type": "code",
   "execution_count": 64,
   "metadata": {},
   "outputs": [],
   "source": [
    "M = ['GaussianNB', 'LogisticRegression','SVM','DecisionTreeClassifier','RandomForestClassifier', 'KNeighborsClassifier',\n",
    "                'SGDClassifier', 'GradientBoostingClassifier', 'MLPClassifier', 'ExtraTreeClassifier',\n",
    "               'AdaBoosClassifier', 'LinearDiscriminantAnalysis', 'XGBClassifier','LGBMClassifier']"
   ]
  },
  {
   "cell_type": "code",
   "execution_count": 65,
   "metadata": {},
   "outputs": [],
   "source": [
    "acc_m = acc[:14]\n",
    "acc_s = acc[14:28]\n",
    "roc_m = roc[:14]\n",
    "roc_s = roc[14:28]"
   ]
  },
  {
   "cell_type": "code",
   "execution_count": 66,
   "metadata": {},
   "outputs": [
    {
     "data": {
      "text/html": [
       "<div>\n",
       "<style scoped>\n",
       "    .dataframe tbody tr th:only-of-type {\n",
       "        vertical-align: middle;\n",
       "    }\n",
       "\n",
       "    .dataframe tbody tr th {\n",
       "        vertical-align: top;\n",
       "    }\n",
       "\n",
       "    .dataframe thead th {\n",
       "        text-align: right;\n",
       "    }\n",
       "</style>\n",
       "<table border=\"1\" class=\"dataframe\">\n",
       "  <thead>\n",
       "    <tr style=\"text-align: right;\">\n",
       "      <th></th>\n",
       "      <th>MODEL</th>\n",
       "      <th>MinMax_acc</th>\n",
       "      <th>MinMax_roc</th>\n",
       "      <th>Standard_acc</th>\n",
       "      <th>Standard_roc</th>\n",
       "    </tr>\n",
       "  </thead>\n",
       "  <tbody>\n",
       "    <tr>\n",
       "      <th>0</th>\n",
       "      <td>GaussianNB</td>\n",
       "      <td>0.804500</td>\n",
       "      <td>0.798174</td>\n",
       "      <td>0.815000</td>\n",
       "      <td>0.792807</td>\n",
       "    </tr>\n",
       "    <tr>\n",
       "      <th>1</th>\n",
       "      <td>LogisticRegression</td>\n",
       "      <td>0.816250</td>\n",
       "      <td>0.790414</td>\n",
       "      <td>0.815000</td>\n",
       "      <td>0.769633</td>\n",
       "    </tr>\n",
       "    <tr>\n",
       "      <th>2</th>\n",
       "      <td>SVM</td>\n",
       "      <td>0.856125</td>\n",
       "      <td>0.837112</td>\n",
       "      <td>0.858375</td>\n",
       "      <td>0.157932</td>\n",
       "    </tr>\n",
       "    <tr>\n",
       "      <th>3</th>\n",
       "      <td>DecisionTreeClassifier</td>\n",
       "      <td>0.858250</td>\n",
       "      <td>0.847141</td>\n",
       "      <td>0.860000</td>\n",
       "      <td>0.828816</td>\n",
       "    </tr>\n",
       "    <tr>\n",
       "      <th>4</th>\n",
       "      <td>RandomForestClassifier</td>\n",
       "      <td>0.864375</td>\n",
       "      <td>0.872858</td>\n",
       "      <td>0.864750</td>\n",
       "      <td>0.861071</td>\n",
       "    </tr>\n",
       "  </tbody>\n",
       "</table>\n",
       "</div>"
      ],
      "text/plain": [
       "                    MODEL  MinMax_acc  MinMax_roc  Standard_acc  Standard_roc\n",
       "0              GaussianNB    0.804500    0.798174      0.815000      0.792807\n",
       "1      LogisticRegression    0.816250    0.790414      0.815000      0.769633\n",
       "2                     SVM    0.856125    0.837112      0.858375      0.157932\n",
       "3  DecisionTreeClassifier    0.858250    0.847141      0.860000      0.828816\n",
       "4  RandomForestClassifier    0.864375    0.872858      0.864750      0.861071"
      ]
     },
     "execution_count": 66,
     "metadata": {},
     "output_type": "execute_result"
    }
   ],
   "source": [
    "s_df = pd.DataFrame({'MODEL' : M, 'MinMax_acc' : acc_m, 'MinMax_roc' : roc_m, 'Standard_acc' : acc_s, 'Standard_roc' : roc_s})\n",
    "s_df.head()"
   ]
  },
  {
   "cell_type": "code",
   "execution_count": 67,
   "metadata": {
    "scrolled": false
   },
   "outputs": [
    {
     "data": {
      "text/html": [
       "<div>\n",
       "<style scoped>\n",
       "    .dataframe tbody tr th:only-of-type {\n",
       "        vertical-align: middle;\n",
       "    }\n",
       "\n",
       "    .dataframe tbody tr th {\n",
       "        vertical-align: top;\n",
       "    }\n",
       "\n",
       "    .dataframe thead th {\n",
       "        text-align: right;\n",
       "    }\n",
       "</style>\n",
       "<table border=\"1\" class=\"dataframe\">\n",
       "  <thead>\n",
       "    <tr style=\"text-align: right;\">\n",
       "      <th></th>\n",
       "      <th>MODEL</th>\n",
       "      <th>MinMax_acc</th>\n",
       "      <th>MinMax_roc</th>\n",
       "      <th>Standard_acc</th>\n",
       "      <th>Standard_roc</th>\n",
       "    </tr>\n",
       "  </thead>\n",
       "  <tbody>\n",
       "    <tr>\n",
       "      <th>0</th>\n",
       "      <td>GaussianNB</td>\n",
       "      <td>0.804500</td>\n",
       "      <td>0.798174</td>\n",
       "      <td>0.815000</td>\n",
       "      <td>0.792807</td>\n",
       "    </tr>\n",
       "    <tr>\n",
       "      <th>1</th>\n",
       "      <td>LogisticRegression</td>\n",
       "      <td>0.816250</td>\n",
       "      <td>0.790414</td>\n",
       "      <td>0.815000</td>\n",
       "      <td>0.769633</td>\n",
       "    </tr>\n",
       "    <tr>\n",
       "      <th>2</th>\n",
       "      <td>SVM</td>\n",
       "      <td>0.856125</td>\n",
       "      <td>0.837112</td>\n",
       "      <td>0.858375</td>\n",
       "      <td>0.157932</td>\n",
       "    </tr>\n",
       "    <tr>\n",
       "      <th>3</th>\n",
       "      <td>DecisionTreeClassifier</td>\n",
       "      <td>0.858250</td>\n",
       "      <td>0.847141</td>\n",
       "      <td>0.860000</td>\n",
       "      <td>0.828816</td>\n",
       "    </tr>\n",
       "    <tr>\n",
       "      <th>4</th>\n",
       "      <td>RandomForestClassifier</td>\n",
       "      <td>0.864375</td>\n",
       "      <td>0.872858</td>\n",
       "      <td>0.864750</td>\n",
       "      <td>0.861071</td>\n",
       "    </tr>\n",
       "    <tr>\n",
       "      <th>5</th>\n",
       "      <td>KNeighborsClassifier</td>\n",
       "      <td>0.816875</td>\n",
       "      <td>0.767137</td>\n",
       "      <td>0.839375</td>\n",
       "      <td>0.805031</td>\n",
       "    </tr>\n",
       "    <tr>\n",
       "      <th>6</th>\n",
       "      <td>SGDClassifier</td>\n",
       "      <td>0.812875</td>\n",
       "      <td>0.781013</td>\n",
       "      <td>0.813375</td>\n",
       "      <td>0.767650</td>\n",
       "    </tr>\n",
       "    <tr>\n",
       "      <th>7</th>\n",
       "      <td>GradientBoostingClassifier</td>\n",
       "      <td>0.866000</td>\n",
       "      <td>0.872724</td>\n",
       "      <td>0.866500</td>\n",
       "      <td>0.863534</td>\n",
       "    </tr>\n",
       "    <tr>\n",
       "      <th>8</th>\n",
       "      <td>MLPClassifier</td>\n",
       "      <td>0.860000</td>\n",
       "      <td>0.869218</td>\n",
       "      <td>0.860375</td>\n",
       "      <td>0.860005</td>\n",
       "    </tr>\n",
       "    <tr>\n",
       "      <th>9</th>\n",
       "      <td>ExtraTreeClassifier</td>\n",
       "      <td>0.816875</td>\n",
       "      <td>0.738651</td>\n",
       "      <td>0.818500</td>\n",
       "      <td>0.731575</td>\n",
       "    </tr>\n",
       "    <tr>\n",
       "      <th>10</th>\n",
       "      <td>AdaBoosClassifier</td>\n",
       "      <td>0.856375</td>\n",
       "      <td>0.867163</td>\n",
       "      <td>0.856875</td>\n",
       "      <td>0.845027</td>\n",
       "    </tr>\n",
       "    <tr>\n",
       "      <th>11</th>\n",
       "      <td>LinearDiscriminantAnalysis</td>\n",
       "      <td>0.807500</td>\n",
       "      <td>0.782236</td>\n",
       "      <td>0.813500</td>\n",
       "      <td>0.763290</td>\n",
       "    </tr>\n",
       "    <tr>\n",
       "      <th>12</th>\n",
       "      <td>XGBClassifier</td>\n",
       "      <td>0.865250</td>\n",
       "      <td>0.878889</td>\n",
       "      <td>0.864250</td>\n",
       "      <td>0.866786</td>\n",
       "    </tr>\n",
       "    <tr>\n",
       "      <th>13</th>\n",
       "      <td>LGBMClassifier</td>\n",
       "      <td>0.864625</td>\n",
       "      <td>0.877889</td>\n",
       "      <td>0.864500</td>\n",
       "      <td>0.862810</td>\n",
       "    </tr>\n",
       "  </tbody>\n",
       "</table>\n",
       "</div>"
      ],
      "text/plain": [
       "                         MODEL  MinMax_acc  MinMax_roc  Standard_acc  \\\n",
       "0                   GaussianNB    0.804500    0.798174      0.815000   \n",
       "1           LogisticRegression    0.816250    0.790414      0.815000   \n",
       "2                          SVM    0.856125    0.837112      0.858375   \n",
       "3       DecisionTreeClassifier    0.858250    0.847141      0.860000   \n",
       "4       RandomForestClassifier    0.864375    0.872858      0.864750   \n",
       "5         KNeighborsClassifier    0.816875    0.767137      0.839375   \n",
       "6                SGDClassifier    0.812875    0.781013      0.813375   \n",
       "7   GradientBoostingClassifier    0.866000    0.872724      0.866500   \n",
       "8                MLPClassifier    0.860000    0.869218      0.860375   \n",
       "9          ExtraTreeClassifier    0.816875    0.738651      0.818500   \n",
       "10           AdaBoosClassifier    0.856375    0.867163      0.856875   \n",
       "11  LinearDiscriminantAnalysis    0.807500    0.782236      0.813500   \n",
       "12               XGBClassifier    0.865250    0.878889      0.864250   \n",
       "13              LGBMClassifier    0.864625    0.877889      0.864500   \n",
       "\n",
       "    Standard_roc  \n",
       "0       0.792807  \n",
       "1       0.769633  \n",
       "2       0.157932  \n",
       "3       0.828816  \n",
       "4       0.861071  \n",
       "5       0.805031  \n",
       "6       0.767650  \n",
       "7       0.863534  \n",
       "8       0.860005  \n",
       "9       0.731575  \n",
       "10      0.845027  \n",
       "11      0.763290  \n",
       "12      0.866786  \n",
       "13      0.862810  "
      ]
     },
     "execution_count": 67,
     "metadata": {},
     "output_type": "execute_result"
    }
   ],
   "source": [
    "s_df"
   ]
  },
  {
   "cell_type": "markdown",
   "metadata": {},
   "source": [
    "### 시각화로 결과 확인 하기"
   ]
  },
  {
   "cell_type": "code",
   "execution_count": 68,
   "metadata": {
    "scrolled": true
   },
   "outputs": [
    {
     "data": {
      "image/png": "[encoded data removed]",
      "text/plain": [
       "<Figure size 432x288 with 1 Axes>"
      ]
     },
     "metadata": {
      "needs_background": "light"
     },
     "output_type": "display_data"
    }
   ],
   "source": [
    "sns.barplot(x = s_df.MinMax_acc, y = s_df.MODEL)\n",
    "plt.xlim(0.75,0.9)\n",
    "plt.title('acc when MinMax', size = 15)\n",
    "plt.show()"
   ]
  },
  {
   "cell_type": "code",
   "execution_count": 69,
   "metadata": {
    "scrolled": true
   },
   "outputs": [
    {
     "data": {
      "image/png": "[encoded data removed]",
      "text/plain": [
       "<Figure size 432x288 with 1 Axes>"
      ]
     },
     "metadata": {
      "needs_background": "light"
     },
     "output_type": "display_data"
    }
   ],
   "source": [
    "sns.barplot(x = s_df.Standard_acc, y = s_df.MODEL)\n",
    "plt.xlim(0.75,0.9)\n",
    "plt.title('acc when Standard', size = 15)\n",
    "plt.show()"
   ]
  },
  {
   "cell_type": "code",
   "execution_count": 70,
   "metadata": {
    "scrolled": true
   },
   "outputs": [
    {
     "data": {
      "image/png": "[encoded data removed]",
      "text/plain": [
       "<Figure size 432x288 with 1 Axes>"
      ]
     },
     "metadata": {
      "needs_background": "light"
     },
     "output_type": "display_data"
    }
   ],
   "source": [
    "sns.barplot(x = s_df.MinMax_roc, y = s_df.MODEL)\n",
    "plt.xlim(0.6,0.9)\n",
    "plt.title('roc_auc when MinMax', size = 15)\n",
    "plt.show()"
   ]
  },
  {
   "cell_type": "code",
   "execution_count": 71,
   "metadata": {
    "scrolled": false
   },
   "outputs": [
    {
     "data": {
      "image/png": "[encoded data removed]",
      "text/plain": [
       "<Figure size 432x288 with 1 Axes>"
      ]
     },
     "metadata": {
      "needs_background": "light"
     },
     "output_type": "display_data"
    }
   ],
   "source": [
    "sns.barplot(x = s_df.Standard_roc, y = s_df.MODEL)\n",
    "plt.xlim(0.6,0.9)\n",
    "plt.title('roc_auc when Standard', size = 15)\n",
    "plt.show()"
   ]
  },
  {
   "cell_type": "markdown",
   "metadata": {},
   "source": [
    "#### 가장 우수한 모델은 데이터의 상태에 따라 혹은 파라미터 조정에 따라 얼마든지 바뀔 수 있습니다.\n",
    "\n",
    "#### 따라서 위와 같은 문제 해결은 수많은 시험 및 평가 과정이 반복되어야 하는 작업입니다.\n",
    "\n",
    "#### 지금까지 간단한 이진 분류 문제 해결 포스팅이었고 다음 글에서는 회귀(Regression)에 관련 된 문제를 해결해 보도록 하겠습니다."
   ]
  }
 ],
 "metadata": {
  "kernelspec": {
   "display_name": "Python 3",
   "language": "python",
   "name": "python3"
  },
  "language_info": {
   "codemirror_mode": {
    "name": "ipython",
    "version": 3
   },
   "file_extension": ".py",
   "mimetype": "text/x-python",
   "name": "python",
   "nbconvert_exporter": "python",
   "pygments_lexer": "ipython3",
   "version": "3.7.6"
  }
 },
 "nbformat": 4,
 "nbformat_minor": 2
}
