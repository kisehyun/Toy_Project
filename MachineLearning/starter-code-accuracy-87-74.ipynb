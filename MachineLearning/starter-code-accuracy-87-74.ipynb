{
 "cells": [
  {
   "cell_type": "code",
   "execution_count": 1,
   "metadata": {
    "execution": {
     "iopub.execute_input": "2021-01-22T01:58:35.119058Z",
     "iopub.status.busy": "2021-01-22T01:58:35.118320Z",
     "iopub.status.idle": "2021-01-22T01:58:38.000025Z",
     "shell.execute_reply": "2021-01-22T01:58:38.000555Z"
    },
    "papermill": {
     "duration": 2.923851,
     "end_time": "2021-01-22T01:58:38.000745",
     "exception": false,
     "start_time": "2021-01-22T01:58:35.076894",
     "status": "completed"
    },
    "tags": []
   },
   "outputs": [
    {
     "name": "stdout",
     "output_type": "stream",
     "text": [
      "/kaggle/input/health-insurance-cross-sell-prediction/sample_submission.csv\n",
      "/kaggle/input/health-insurance-cross-sell-prediction/train.csv\n",
      "/kaggle/input/health-insurance-cross-sell-prediction/test.csv\n"
     ]
    },
    {
     "data": {
      "text/html": [
       "<style type='text/css'>\n",
       ".datatable table.frame { margin-bottom: 0; }\n",
       ".datatable table.frame thead { border-bottom: none; }\n",
       ".datatable table.frame tr.coltypes td {  color: #FFFFFF;  line-height: 6px;  padding: 0 0.5em;}\n",
       ".datatable .bool    { background: #DDDD99; }\n",
       ".datatable .object  { background: #565656; }\n",
       ".datatable .int     { background: #5D9E5D; }\n",
       ".datatable .float   { background: #4040CC; }\n",
       ".datatable .str     { background: #CC4040; }\n",
       ".datatable .row_index {  background: var(--jp-border-color3);  border-right: 1px solid var(--jp-border-color0);  color: var(--jp-ui-font-color3);  font-size: 9px;}\n",
       ".datatable .frame tr.coltypes .row_index {  background: var(--jp-border-color0);}\n",
       ".datatable th:nth-child(2) { padding-left: 12px; }\n",
       ".datatable .hellipsis {  color: var(--jp-cell-editor-border-color);}\n",
       ".datatable .vellipsis {  background: var(--jp-layout-color0);  color: var(--jp-cell-editor-border-color);}\n",
       ".datatable .na {  color: var(--jp-cell-editor-border-color);  font-size: 80%;}\n",
       ".datatable .footer { font-size: 9px; }\n",
       ".datatable .frame_dimensions {  background: var(--jp-border-color3);  border-top: 1px solid var(--jp-border-color0);  color: var(--jp-ui-font-color3);  display: inline-block;  opacity: 0.6;  padding: 1px 10px 1px 5px;}\n",
       "</style>\n"
      ],
      "text/plain": [
       "<IPython.core.display.HTML object>"
      ]
     },
     "metadata": {},
     "output_type": "display_data"
    }
   ],
   "source": [
    "import os\n",
    "for dirname, _, filenames in os.walk('/kaggle/input'):\n",
    "    for filename in filenames:\n",
    "        print(os.path.join(dirname, filename))\n",
    "        \n",
    "import warnings\n",
    "warnings.filterwarnings('ignore')\n",
    "\n",
    "import pandas as pd\n",
    "import numpy as np\n",
    "\n",
    "import matplotlib.pyplot as plt\n",
    "import seaborn as sns\n",
    "%matplotlib inline\n",
    "\n",
    "from sklearn.ensemble import GradientBoostingClassifier, VotingClassifier, RandomForestClassifier\n",
    "from sklearn.preprocessing import LabelEncoder\n",
    "from sklearn.model_selection import StratifiedKFold\n",
    "from sklearn.metrics import accuracy_score, roc_auc_score\n",
    "from lightgbm import LGBMClassifier\n",
    "from xgboost import XGBClassifier\n",
    "from catboost import CatBoostClassifier"
   ]
  },
  {
   "cell_type": "markdown",
   "metadata": {
    "papermill": {
     "duration": 0.02809,
     "end_time": "2021-01-22T01:58:38.058427",
     "exception": false,
     "start_time": "2021-01-22T01:58:38.030337",
     "status": "completed"
    },
    "tags": []
   },
   "source": [
    "## Load Data"
   ]
  },
  {
   "cell_type": "code",
   "execution_count": 2,
   "metadata": {
    "execution": {
     "iopub.execute_input": "2021-01-22T01:58:38.125093Z",
     "iopub.status.busy": "2021-01-22T01:58:38.124193Z",
     "iopub.status.idle": "2021-01-22T01:58:39.172141Z",
     "shell.execute_reply": "2021-01-22T01:58:39.172737Z"
    },
    "papermill": {
     "duration": 1.085248,
     "end_time": "2021-01-22T01:58:39.172893",
     "exception": false,
     "start_time": "2021-01-22T01:58:38.087645",
     "status": "completed"
    },
    "tags": []
   },
   "outputs": [],
   "source": [
    "train = pd.read_csv('/kaggle/input/health-insurance-cross-sell-prediction/train.csv')\n",
    "test = pd.read_csv(\"/kaggle/input/health-insurance-cross-sell-prediction/test.csv\")\n",
    "submission = pd.read_csv(\"/kaggle/input/health-insurance-cross-sell-prediction/sample_submission.csv\")"
   ]
  },
  {
   "cell_type": "code",
   "execution_count": 3,
   "metadata": {
    "execution": {
     "iopub.execute_input": "2021-01-22T01:58:39.247398Z",
     "iopub.status.busy": "2021-01-22T01:58:39.246722Z",
     "iopub.status.idle": "2021-01-22T01:58:39.259307Z",
     "shell.execute_reply": "2021-01-22T01:58:39.259806Z"
    },
    "papermill": {
     "duration": 0.05951,
     "end_time": "2021-01-22T01:58:39.259986",
     "exception": false,
     "start_time": "2021-01-22T01:58:39.200476",
     "status": "completed"
    },
    "tags": []
   },
   "outputs": [
    {
     "data": {
      "text/html": [
       "<div>\n",
       "<style scoped>\n",
       "    .dataframe tbody tr th:only-of-type {\n",
       "        vertical-align: middle;\n",
       "    }\n",
       "\n",
       "    .dataframe tbody tr th {\n",
       "        vertical-align: top;\n",
       "    }\n",
       "\n",
       "    .dataframe thead th {\n",
       "        text-align: right;\n",
       "    }\n",
       "</style>\n",
       "<table border=\"1\" class=\"dataframe\">\n",
       "  <thead>\n",
       "    <tr style=\"text-align: right;\">\n",
       "      <th></th>\n",
       "      <th>id</th>\n",
       "      <th>Gender</th>\n",
       "      <th>Age</th>\n",
       "      <th>Driving_License</th>\n",
       "      <th>Region_Code</th>\n",
       "      <th>Previously_Insured</th>\n",
       "      <th>Vehicle_Age</th>\n",
       "      <th>Vehicle_Damage</th>\n",
       "      <th>Annual_Premium</th>\n",
       "      <th>Policy_Sales_Channel</th>\n",
       "      <th>Vintage</th>\n",
       "      <th>Response</th>\n",
       "    </tr>\n",
       "  </thead>\n",
       "  <tbody>\n",
       "    <tr>\n",
       "      <th>0</th>\n",
       "      <td>1</td>\n",
       "      <td>Male</td>\n",
       "      <td>44</td>\n",
       "      <td>1</td>\n",
       "      <td>28.0</td>\n",
       "      <td>0</td>\n",
       "      <td>&gt; 2 Years</td>\n",
       "      <td>Yes</td>\n",
       "      <td>40454.0</td>\n",
       "      <td>26.0</td>\n",
       "      <td>217</td>\n",
       "      <td>1</td>\n",
       "    </tr>\n",
       "    <tr>\n",
       "      <th>1</th>\n",
       "      <td>2</td>\n",
       "      <td>Male</td>\n",
       "      <td>76</td>\n",
       "      <td>1</td>\n",
       "      <td>3.0</td>\n",
       "      <td>0</td>\n",
       "      <td>1-2 Year</td>\n",
       "      <td>No</td>\n",
       "      <td>33536.0</td>\n",
       "      <td>26.0</td>\n",
       "      <td>183</td>\n",
       "      <td>0</td>\n",
       "    </tr>\n",
       "    <tr>\n",
       "      <th>2</th>\n",
       "      <td>3</td>\n",
       "      <td>Male</td>\n",
       "      <td>47</td>\n",
       "      <td>1</td>\n",
       "      <td>28.0</td>\n",
       "      <td>0</td>\n",
       "      <td>&gt; 2 Years</td>\n",
       "      <td>Yes</td>\n",
       "      <td>38294.0</td>\n",
       "      <td>26.0</td>\n",
       "      <td>27</td>\n",
       "      <td>1</td>\n",
       "    </tr>\n",
       "    <tr>\n",
       "      <th>3</th>\n",
       "      <td>4</td>\n",
       "      <td>Male</td>\n",
       "      <td>21</td>\n",
       "      <td>1</td>\n",
       "      <td>11.0</td>\n",
       "      <td>1</td>\n",
       "      <td>&lt; 1 Year</td>\n",
       "      <td>No</td>\n",
       "      <td>28619.0</td>\n",
       "      <td>152.0</td>\n",
       "      <td>203</td>\n",
       "      <td>0</td>\n",
       "    </tr>\n",
       "    <tr>\n",
       "      <th>4</th>\n",
       "      <td>5</td>\n",
       "      <td>Female</td>\n",
       "      <td>29</td>\n",
       "      <td>1</td>\n",
       "      <td>41.0</td>\n",
       "      <td>1</td>\n",
       "      <td>&lt; 1 Year</td>\n",
       "      <td>No</td>\n",
       "      <td>27496.0</td>\n",
       "      <td>152.0</td>\n",
       "      <td>39</td>\n",
       "      <td>0</td>\n",
       "    </tr>\n",
       "  </tbody>\n",
       "</table>\n",
       "</div>"
      ],
      "text/plain": [
       "   id  Gender  Age  Driving_License  Region_Code  Previously_Insured  \\\n",
       "0   1    Male   44                1         28.0                   0   \n",
       "1   2    Male   76                1          3.0                   0   \n",
       "2   3    Male   47                1         28.0                   0   \n",
       "3   4    Male   21                1         11.0                   1   \n",
       "4   5  Female   29                1         41.0                   1   \n",
       "\n",
       "  Vehicle_Age Vehicle_Damage  Annual_Premium  Policy_Sales_Channel  Vintage  \\\n",
       "0   > 2 Years            Yes         40454.0                  26.0      217   \n",
       "1    1-2 Year             No         33536.0                  26.0      183   \n",
       "2   > 2 Years            Yes         38294.0                  26.0       27   \n",
       "3    < 1 Year             No         28619.0                 152.0      203   \n",
       "4    < 1 Year             No         27496.0                 152.0       39   \n",
       "\n",
       "   Response  \n",
       "0         1  \n",
       "1         0  \n",
       "2         1  \n",
       "3         0  \n",
       "4         0  "
      ]
     },
     "execution_count": 3,
     "metadata": {},
     "output_type": "execute_result"
    }
   ],
   "source": [
    "train.head()"
   ]
  },
  {
   "cell_type": "code",
   "execution_count": 4,
   "metadata": {
    "execution": {
     "iopub.execute_input": "2021-01-22T01:58:39.323219Z",
     "iopub.status.busy": "2021-01-22T01:58:39.322407Z",
     "iopub.status.idle": "2021-01-22T01:58:39.466705Z",
     "shell.execute_reply": "2021-01-22T01:58:39.467255Z"
    },
    "papermill": {
     "duration": 0.179137,
     "end_time": "2021-01-22T01:58:39.467402",
     "exception": false,
     "start_time": "2021-01-22T01:58:39.288265",
     "status": "completed"
    },
    "tags": []
   },
   "outputs": [
    {
     "name": "stdout",
     "output_type": "stream",
     "text": [
      "<class 'pandas.core.frame.DataFrame'>\n",
      "RangeIndex: 381109 entries, 0 to 381108\n",
      "Data columns (total 12 columns):\n",
      " #   Column                Non-Null Count   Dtype  \n",
      "---  ------                --------------   -----  \n",
      " 0   id                    381109 non-null  int64  \n",
      " 1   Gender                381109 non-null  object \n",
      " 2   Age                   381109 non-null  int64  \n",
      " 3   Driving_License       381109 non-null  int64  \n",
      " 4   Region_Code           381109 non-null  float64\n",
      " 5   Previously_Insured    381109 non-null  int64  \n",
      " 6   Vehicle_Age           381109 non-null  object \n",
      " 7   Vehicle_Damage        381109 non-null  object \n",
      " 8   Annual_Premium        381109 non-null  float64\n",
      " 9   Policy_Sales_Channel  381109 non-null  float64\n",
      " 10  Vintage               381109 non-null  int64  \n",
      " 11  Response              381109 non-null  int64  \n",
      "dtypes: float64(3), int64(6), object(3)\n",
      "memory usage: 34.9+ MB\n"
     ]
    }
   ],
   "source": [
    "train.info()"
   ]
  },
  {
   "cell_type": "code",
   "execution_count": 5,
   "metadata": {
    "execution": {
     "iopub.execute_input": "2021-01-22T01:58:39.542478Z",
     "iopub.status.busy": "2021-01-22T01:58:39.541721Z",
     "iopub.status.idle": "2021-01-22T01:58:39.547334Z",
     "shell.execute_reply": "2021-01-22T01:58:39.546778Z"
    },
    "papermill": {
     "duration": 0.050737,
     "end_time": "2021-01-22T01:58:39.547463",
     "exception": false,
     "start_time": "2021-01-22T01:58:39.496726",
     "status": "completed"
    },
    "tags": []
   },
   "outputs": [
    {
     "data": {
      "text/html": [
       "<div>\n",
       "<style scoped>\n",
       "    .dataframe tbody tr th:only-of-type {\n",
       "        vertical-align: middle;\n",
       "    }\n",
       "\n",
       "    .dataframe tbody tr th {\n",
       "        vertical-align: top;\n",
       "    }\n",
       "\n",
       "    .dataframe thead th {\n",
       "        text-align: right;\n",
       "    }\n",
       "</style>\n",
       "<table border=\"1\" class=\"dataframe\">\n",
       "  <thead>\n",
       "    <tr style=\"text-align: right;\">\n",
       "      <th></th>\n",
       "      <th>id</th>\n",
       "      <th>Gender</th>\n",
       "      <th>Age</th>\n",
       "      <th>Driving_License</th>\n",
       "      <th>Region_Code</th>\n",
       "      <th>Previously_Insured</th>\n",
       "      <th>Vehicle_Age</th>\n",
       "      <th>Vehicle_Damage</th>\n",
       "      <th>Annual_Premium</th>\n",
       "      <th>Policy_Sales_Channel</th>\n",
       "      <th>Vintage</th>\n",
       "    </tr>\n",
       "  </thead>\n",
       "  <tbody>\n",
       "    <tr>\n",
       "      <th>0</th>\n",
       "      <td>381110</td>\n",
       "      <td>Male</td>\n",
       "      <td>25</td>\n",
       "      <td>1</td>\n",
       "      <td>11.0</td>\n",
       "      <td>1</td>\n",
       "      <td>&lt; 1 Year</td>\n",
       "      <td>No</td>\n",
       "      <td>35786.0</td>\n",
       "      <td>152.0</td>\n",
       "      <td>53</td>\n",
       "    </tr>\n",
       "    <tr>\n",
       "      <th>1</th>\n",
       "      <td>381111</td>\n",
       "      <td>Male</td>\n",
       "      <td>40</td>\n",
       "      <td>1</td>\n",
       "      <td>28.0</td>\n",
       "      <td>0</td>\n",
       "      <td>1-2 Year</td>\n",
       "      <td>Yes</td>\n",
       "      <td>33762.0</td>\n",
       "      <td>7.0</td>\n",
       "      <td>111</td>\n",
       "    </tr>\n",
       "    <tr>\n",
       "      <th>2</th>\n",
       "      <td>381112</td>\n",
       "      <td>Male</td>\n",
       "      <td>47</td>\n",
       "      <td>1</td>\n",
       "      <td>28.0</td>\n",
       "      <td>0</td>\n",
       "      <td>1-2 Year</td>\n",
       "      <td>Yes</td>\n",
       "      <td>40050.0</td>\n",
       "      <td>124.0</td>\n",
       "      <td>199</td>\n",
       "    </tr>\n",
       "    <tr>\n",
       "      <th>3</th>\n",
       "      <td>381113</td>\n",
       "      <td>Male</td>\n",
       "      <td>24</td>\n",
       "      <td>1</td>\n",
       "      <td>27.0</td>\n",
       "      <td>1</td>\n",
       "      <td>&lt; 1 Year</td>\n",
       "      <td>Yes</td>\n",
       "      <td>37356.0</td>\n",
       "      <td>152.0</td>\n",
       "      <td>187</td>\n",
       "    </tr>\n",
       "    <tr>\n",
       "      <th>4</th>\n",
       "      <td>381114</td>\n",
       "      <td>Male</td>\n",
       "      <td>27</td>\n",
       "      <td>1</td>\n",
       "      <td>28.0</td>\n",
       "      <td>1</td>\n",
       "      <td>&lt; 1 Year</td>\n",
       "      <td>No</td>\n",
       "      <td>59097.0</td>\n",
       "      <td>152.0</td>\n",
       "      <td>297</td>\n",
       "    </tr>\n",
       "  </tbody>\n",
       "</table>\n",
       "</div>"
      ],
      "text/plain": [
       "       id Gender  Age  Driving_License  Region_Code  Previously_Insured  \\\n",
       "0  381110   Male   25                1         11.0                   1   \n",
       "1  381111   Male   40                1         28.0                   0   \n",
       "2  381112   Male   47                1         28.0                   0   \n",
       "3  381113   Male   24                1         27.0                   1   \n",
       "4  381114   Male   27                1         28.0                   1   \n",
       "\n",
       "  Vehicle_Age Vehicle_Damage  Annual_Premium  Policy_Sales_Channel  Vintage  \n",
       "0    < 1 Year             No         35786.0                 152.0       53  \n",
       "1    1-2 Year            Yes         33762.0                   7.0      111  \n",
       "2    1-2 Year            Yes         40050.0                 124.0      199  \n",
       "3    < 1 Year            Yes         37356.0                 152.0      187  \n",
       "4    < 1 Year             No         59097.0                 152.0      297  "
      ]
     },
     "execution_count": 5,
     "metadata": {},
     "output_type": "execute_result"
    }
   ],
   "source": [
    "test.head()"
   ]
  },
  {
   "cell_type": "code",
   "execution_count": 6,
   "metadata": {
    "execution": {
     "iopub.execute_input": "2021-01-22T01:58:39.655431Z",
     "iopub.status.busy": "2021-01-22T01:58:39.654049Z",
     "iopub.status.idle": "2021-01-22T01:58:39.667291Z",
     "shell.execute_reply": "2021-01-22T01:58:39.666731Z"
    },
    "papermill": {
     "duration": 0.089635,
     "end_time": "2021-01-22T01:58:39.667412",
     "exception": false,
     "start_time": "2021-01-22T01:58:39.577777",
     "status": "completed"
    },
    "tags": []
   },
   "outputs": [
    {
     "name": "stdout",
     "output_type": "stream",
     "text": [
      "<class 'pandas.core.frame.DataFrame'>\n",
      "RangeIndex: 127037 entries, 0 to 127036\n",
      "Data columns (total 11 columns):\n",
      " #   Column                Non-Null Count   Dtype  \n",
      "---  ------                --------------   -----  \n",
      " 0   id                    127037 non-null  int64  \n",
      " 1   Gender                127037 non-null  object \n",
      " 2   Age                   127037 non-null  int64  \n",
      " 3   Driving_License       127037 non-null  int64  \n",
      " 4   Region_Code           127037 non-null  float64\n",
      " 5   Previously_Insured    127037 non-null  int64  \n",
      " 6   Vehicle_Age           127037 non-null  object \n",
      " 7   Vehicle_Damage        127037 non-null  object \n",
      " 8   Annual_Premium        127037 non-null  float64\n",
      " 9   Policy_Sales_Channel  127037 non-null  float64\n",
      " 10  Vintage               127037 non-null  int64  \n",
      "dtypes: float64(3), int64(5), object(3)\n",
      "memory usage: 10.7+ MB\n"
     ]
    }
   ],
   "source": [
    "test.info()"
   ]
  },
  {
   "cell_type": "code",
   "execution_count": 7,
   "metadata": {
    "execution": {
     "iopub.execute_input": "2021-01-22T01:58:39.739353Z",
     "iopub.status.busy": "2021-01-22T01:58:39.738326Z",
     "iopub.status.idle": "2021-01-22T01:58:39.742329Z",
     "shell.execute_reply": "2021-01-22T01:58:39.742890Z"
    },
    "papermill": {
     "duration": 0.045546,
     "end_time": "2021-01-22T01:58:39.743059",
     "exception": false,
     "start_time": "2021-01-22T01:58:39.697513",
     "status": "completed"
    },
    "tags": []
   },
   "outputs": [
    {
     "data": {
      "text/html": [
       "<div>\n",
       "<style scoped>\n",
       "    .dataframe tbody tr th:only-of-type {\n",
       "        vertical-align: middle;\n",
       "    }\n",
       "\n",
       "    .dataframe tbody tr th {\n",
       "        vertical-align: top;\n",
       "    }\n",
       "\n",
       "    .dataframe thead th {\n",
       "        text-align: right;\n",
       "    }\n",
       "</style>\n",
       "<table border=\"1\" class=\"dataframe\">\n",
       "  <thead>\n",
       "    <tr style=\"text-align: right;\">\n",
       "      <th></th>\n",
       "      <th>id</th>\n",
       "      <th>Response</th>\n",
       "    </tr>\n",
       "  </thead>\n",
       "  <tbody>\n",
       "    <tr>\n",
       "      <th>0</th>\n",
       "      <td>381110</td>\n",
       "      <td>0</td>\n",
       "    </tr>\n",
       "    <tr>\n",
       "      <th>1</th>\n",
       "      <td>381111</td>\n",
       "      <td>0</td>\n",
       "    </tr>\n",
       "    <tr>\n",
       "      <th>2</th>\n",
       "      <td>381112</td>\n",
       "      <td>0</td>\n",
       "    </tr>\n",
       "    <tr>\n",
       "      <th>3</th>\n",
       "      <td>381113</td>\n",
       "      <td>0</td>\n",
       "    </tr>\n",
       "    <tr>\n",
       "      <th>4</th>\n",
       "      <td>381114</td>\n",
       "      <td>0</td>\n",
       "    </tr>\n",
       "  </tbody>\n",
       "</table>\n",
       "</div>"
      ],
      "text/plain": [
       "       id  Response\n",
       "0  381110         0\n",
       "1  381111         0\n",
       "2  381112         0\n",
       "3  381113         0\n",
       "4  381114         0"
      ]
     },
     "execution_count": 7,
     "metadata": {},
     "output_type": "execute_result"
    }
   ],
   "source": [
    "submission.head()"
   ]
  },
  {
   "cell_type": "markdown",
   "metadata": {
    "papermill": {
     "duration": 0.030394,
     "end_time": "2021-01-22T01:58:39.804378",
     "exception": false,
     "start_time": "2021-01-22T01:58:39.773984",
     "status": "completed"
    },
    "tags": []
   },
   "source": [
    "I don't need 'id' column. So, i dropped that."
   ]
  },
  {
   "cell_type": "code",
   "execution_count": 8,
   "metadata": {
    "execution": {
     "iopub.execute_input": "2021-01-22T01:58:39.870631Z",
     "iopub.status.busy": "2021-01-22T01:58:39.869562Z",
     "iopub.status.idle": "2021-01-22T01:58:39.907564Z",
     "shell.execute_reply": "2021-01-22T01:58:39.905871Z"
    },
    "papermill": {
     "duration": 0.072317,
     "end_time": "2021-01-22T01:58:39.907705",
     "exception": false,
     "start_time": "2021-01-22T01:58:39.835388",
     "status": "completed"
    },
    "tags": []
   },
   "outputs": [],
   "source": [
    "train.drop('id', axis = 1, inplace = True)\n",
    "test.drop('id', axis = 1, inplace = True)"
   ]
  },
  {
   "cell_type": "markdown",
   "metadata": {
    "papermill": {
     "duration": 0.032094,
     "end_time": "2021-01-22T01:58:39.972023",
     "exception": false,
     "start_time": "2021-01-22T01:58:39.939929",
     "status": "completed"
    },
    "tags": []
   },
   "source": [
    "I checked dtypes of each column.\n",
    "\n",
    "1. object type\n",
    "2. numeric type"
   ]
  },
  {
   "cell_type": "code",
   "execution_count": 9,
   "metadata": {
    "execution": {
     "iopub.execute_input": "2021-01-22T01:58:40.040945Z",
     "iopub.status.busy": "2021-01-22T01:58:40.040200Z",
     "iopub.status.idle": "2021-01-22T01:58:40.043288Z",
     "shell.execute_reply": "2021-01-22T01:58:40.042637Z"
    },
    "papermill": {
     "duration": 0.040555,
     "end_time": "2021-01-22T01:58:40.043399",
     "exception": false,
     "start_time": "2021-01-22T01:58:40.002844",
     "status": "completed"
    },
    "tags": []
   },
   "outputs": [],
   "source": [
    "obj_cols = train.columns[train.dtypes == object]\n",
    "num_cols = train.columns[train.dtypes != object]"
   ]
  },
  {
   "cell_type": "code",
   "execution_count": 10,
   "metadata": {
    "execution": {
     "iopub.execute_input": "2021-01-22T01:58:40.111687Z",
     "iopub.status.busy": "2021-01-22T01:58:40.110714Z",
     "iopub.status.idle": "2021-01-22T01:58:40.115794Z",
     "shell.execute_reply": "2021-01-22T01:58:40.115211Z"
    },
    "papermill": {
     "duration": 0.041738,
     "end_time": "2021-01-22T01:58:40.115909",
     "exception": false,
     "start_time": "2021-01-22T01:58:40.074171",
     "status": "completed"
    },
    "tags": []
   },
   "outputs": [
    {
     "data": {
      "text/plain": [
       "Index(['Gender', 'Vehicle_Age', 'Vehicle_Damage'], dtype='object')"
      ]
     },
     "execution_count": 10,
     "metadata": {},
     "output_type": "execute_result"
    }
   ],
   "source": [
    "obj_cols"
   ]
  },
  {
   "cell_type": "code",
   "execution_count": 11,
   "metadata": {
    "execution": {
     "iopub.execute_input": "2021-01-22T01:58:40.182643Z",
     "iopub.status.busy": "2021-01-22T01:58:40.181948Z",
     "iopub.status.idle": "2021-01-22T01:58:40.187100Z",
     "shell.execute_reply": "2021-01-22T01:58:40.187660Z"
    },
    "papermill": {
     "duration": 0.039541,
     "end_time": "2021-01-22T01:58:40.187828",
     "exception": false,
     "start_time": "2021-01-22T01:58:40.148287",
     "status": "completed"
    },
    "tags": []
   },
   "outputs": [
    {
     "data": {
      "text/plain": [
       "Index(['Age', 'Driving_License', 'Region_Code', 'Previously_Insured',\n",
       "       'Annual_Premium', 'Policy_Sales_Channel', 'Vintage', 'Response'],\n",
       "      dtype='object')"
      ]
     },
     "execution_count": 11,
     "metadata": {},
     "output_type": "execute_result"
    }
   ],
   "source": [
    "num_cols"
   ]
  },
  {
   "cell_type": "markdown",
   "metadata": {
    "papermill": {
     "duration": 0.032271,
     "end_time": "2021-01-22T01:58:40.252919",
     "exception": false,
     "start_time": "2021-01-22T01:58:40.220648",
     "status": "completed"
    },
    "tags": []
   },
   "source": [
    "## EDA"
   ]
  },
  {
   "cell_type": "markdown",
   "metadata": {
    "papermill": {
     "duration": 0.032726,
     "end_time": "2021-01-22T01:58:40.317448",
     "exception": false,
     "start_time": "2021-01-22T01:58:40.284722",
     "status": "completed"
    },
    "tags": []
   },
   "source": [
    "I made custom function to make plot using object variable."
   ]
  },
  {
   "cell_type": "code",
   "execution_count": 12,
   "metadata": {
    "execution": {
     "iopub.execute_input": "2021-01-22T01:58:40.386293Z",
     "iopub.status.busy": "2021-01-22T01:58:40.385561Z",
     "iopub.status.idle": "2021-01-22T01:58:40.396534Z",
     "shell.execute_reply": "2021-01-22T01:58:40.395908Z"
    },
    "papermill": {
     "duration": 0.046344,
     "end_time": "2021-01-22T01:58:40.396665",
     "exception": false,
     "start_time": "2021-01-22T01:58:40.350321",
     "status": "completed"
    },
    "tags": []
   },
   "outputs": [],
   "source": [
    "def obj_cnt_plot(column) :\n",
    "    f, ax = plt.subplots(1, 2, figsize = (10, 6))\n",
    "    plt.subplots_adjust(wspace = .4)\n",
    "    f.suptitle(f'{column}')\n",
    "    \n",
    "    ax[0].set_title('Train')\n",
    "    ax[1].set_title('Test')\n",
    "    \n",
    "    if column == 'Vehicle_Age' :\n",
    "        order = train.Vehicle_Age.unique()\n",
    "    else :\n",
    "        order = None\n",
    "        \n",
    "    sns.countplot(train[column], ax = ax[0], edgecolor = (0,0,0), order = order)\n",
    "    sns.countplot(test[column], ax = ax[1], edgecolor = (0,0,0), order = order)\n",
    "    \n",
    "    plt.show()"
   ]
  },
  {
   "cell_type": "code",
   "execution_count": 13,
   "metadata": {
    "execution": {
     "iopub.execute_input": "2021-01-22T01:58:40.467803Z",
     "iopub.status.busy": "2021-01-22T01:58:40.466873Z",
     "iopub.status.idle": "2021-01-22T01:58:41.738733Z",
     "shell.execute_reply": "2021-01-22T01:58:41.738043Z"
    },
    "papermill": {
     "duration": 1.309143,
     "end_time": "2021-01-22T01:58:41.738854",
     "exception": false,
     "start_time": "2021-01-22T01:58:40.429711",
     "status": "completed"
    },
    "tags": []
   },
   "outputs": [
    {
     "data": {
      "image/png": "[encoded data removed]",
      "text/plain": [
       "<Figure size 720x432 with 2 Axes>"
      ]
     },
     "metadata": {
      "needs_background": "light"
     },
     "output_type": "display_data"
    },
    {
     "data": {
      "image/png": "[encoded data removed]",
      "text/plain": [
       "<Figure size 720x432 with 2 Axes>"
      ]
     },
     "metadata": {
      "needs_background": "light"
     },
     "output_type": "display_data"
    },
    {
     "data": {
      "image/png": "[encoded data removed]",
      "text/plain": [
       "<Figure size 720x432 with 2 Axes>"
      ]
     },
     "metadata": {
      "needs_background": "light"
     },
     "output_type": "display_data"
    }
   ],
   "source": [
    "for c in obj_cols :\n",
    "    obj_cnt_plot(c)"
   ]
  },
  {
   "cell_type": "markdown",
   "metadata": {
    "papermill": {
     "duration": 0.034137,
     "end_time": "2021-01-22T01:58:41.807984",
     "exception": false,
     "start_time": "2021-01-22T01:58:41.773847",
     "status": "completed"
    },
    "tags": []
   },
   "source": [
    "I checked that distribution of each data set(train, test) is very similar.\n",
    "\n",
    "I did LabelEncoding to make object columns numeric type."
   ]
  },
  {
   "cell_type": "code",
   "execution_count": 14,
   "metadata": {
    "execution": {
     "iopub.execute_input": "2021-01-22T01:58:41.930578Z",
     "iopub.status.busy": "2021-01-22T01:58:41.925432Z",
     "iopub.status.idle": "2021-01-22T01:58:42.445529Z",
     "shell.execute_reply": "2021-01-22T01:58:42.444750Z"
    },
    "papermill": {
     "duration": 0.603467,
     "end_time": "2021-01-22T01:58:42.445659",
     "exception": false,
     "start_time": "2021-01-22T01:58:41.842192",
     "status": "completed"
    },
    "tags": []
   },
   "outputs": [],
   "source": [
    "for c in obj_cols :\n",
    "    le = LabelEncoder()\n",
    "    train[c] = le.fit_transform(train[c])\n",
    "    test[c] = le.transform(test[c])"
   ]
  },
  {
   "cell_type": "markdown",
   "metadata": {
    "papermill": {
     "duration": 0.034463,
     "end_time": "2021-01-22T01:58:42.516602",
     "exception": false,
     "start_time": "2021-01-22T01:58:42.482139",
     "status": "completed"
    },
    "tags": []
   },
   "source": [
    "I made custom function to make plot numeric columns."
   ]
  },
  {
   "cell_type": "code",
   "execution_count": 15,
   "metadata": {
    "execution": {
     "iopub.execute_input": "2021-01-22T01:58:42.594646Z",
     "iopub.status.busy": "2021-01-22T01:58:42.593862Z",
     "iopub.status.idle": "2021-01-22T01:58:42.596539Z",
     "shell.execute_reply": "2021-01-22T01:58:42.597047Z"
    },
    "papermill": {
     "duration": 0.045794,
     "end_time": "2021-01-22T01:58:42.597205",
     "exception": false,
     "start_time": "2021-01-22T01:58:42.551411",
     "status": "completed"
    },
    "tags": []
   },
   "outputs": [],
   "source": [
    "def num_dis_plot(column) :\n",
    "    plt.figure(figsize = (10, 6))\n",
    "    plt.title(f\"Distibution of {column}\", size = 20)\n",
    "    train[column].hist(color = 'b', label = 'Train')\n",
    "    test[column].hist(color = 'r', label = 'Test')\n",
    "    plt.legend()\n",
    "    plt.show()\n",
    "    print(f'Skewness of {column} in Train Data is {train[column].skew()}')\n",
    "    print(f'Skewness of {column} in Test Data is {test[column].skew()}')"
   ]
  },
  {
   "cell_type": "code",
   "execution_count": 16,
   "metadata": {
    "execution": {
     "iopub.execute_input": "2021-01-22T01:58:42.680656Z",
     "iopub.status.busy": "2021-01-22T01:58:42.677865Z",
     "iopub.status.idle": "2021-01-22T01:58:44.563711Z",
     "shell.execute_reply": "2021-01-22T01:58:44.564416Z"
    },
    "papermill": {
     "duration": 1.932231,
     "end_time": "2021-01-22T01:58:44.564584",
     "exception": false,
     "start_time": "2021-01-22T01:58:42.632353",
     "status": "completed"
    },
    "scrolled": false,
    "tags": []
   },
   "outputs": [
    {
     "data": {
      "image/png": "[encoded data removed]",
      "text/plain": [
       "<Figure size 720x432 with 1 Axes>"
      ]
     },
     "metadata": {
      "needs_background": "light"
     },
     "output_type": "display_data"
    },
    {
     "name": "stdout",
     "output_type": "stream",
     "text": [
      "Skewness of Age in Train Data is 0.6725389977260843\n",
      "Skewness of Age in Test Data is 0.6733565572159153\n"
     ]
    },
    {
     "data": {
      "image/png": "[encoded data removed]",
      "text/plain": [
       "<Figure size 720x432 with 1 Axes>"
      ]
     },
     "metadata": {
      "needs_background": "light"
     },
     "output_type": "display_data"
    },
    {
     "name": "stdout",
     "output_type": "stream",
     "text": [
      "Skewness of Driving_License in Train Data is -21.595181529570038\n",
      "Skewness of Driving_License in Test Data is -23.087562751886615\n"
     ]
    },
    {
     "data": {
      "image/png": "[encoded data removed]",
      "text/plain": [
       "<Figure size 720x432 with 1 Axes>"
      ]
     },
     "metadata": {
      "needs_background": "light"
     },
     "output_type": "display_data"
    },
    {
     "name": "stdout",
     "output_type": "stream",
     "text": [
      "Skewness of Region_Code in Train Data is -0.11526641488610123\n",
      "Skewness of Region_Code in Test Data is -0.12229143362812499\n"
     ]
    },
    {
     "data": {
      "image/png": "[encoded data removed]",
      "text/plain": [
       "<Figure size 720x432 with 1 Axes>"
      ]
     },
     "metadata": {
      "needs_background": "light"
     },
     "output_type": "display_data"
    },
    {
     "name": "stdout",
     "output_type": "stream",
     "text": [
      "Skewness of Previously_Insured in Train Data is 0.1677471164589759\n",
      "Skewness of Previously_Insured in Test Data is 0.160358043558042\n"
     ]
    },
    {
     "data": {
      "image/png": "[encoded data removed]",
      "text/plain": [
       "<Figure size 720x432 with 1 Axes>"
      ]
     },
     "metadata": {
      "needs_background": "light"
     },
     "output_type": "display_data"
    },
    {
     "name": "stdout",
     "output_type": "stream",
     "text": [
      "Skewness of Annual_Premium in Train Data is 1.7660872148961309\n",
      "Skewness of Annual_Premium in Test Data is 1.0778667355761409\n"
     ]
    },
    {
     "data": {
      "image/png": "[encoded data removed]",
      "text/plain": [
       "<Figure size 720x432 with 1 Axes>"
      ]
     },
     "metadata": {
      "needs_background": "light"
     },
     "output_type": "display_data"
    },
    {
     "name": "stdout",
     "output_type": "stream",
     "text": [
      "Skewness of Policy_Sales_Channel in Train Data is -0.9000081235103394\n",
      "Skewness of Policy_Sales_Channel in Test Data is -0.8876418953028267\n"
     ]
    },
    {
     "data": {
      "image/png": "[encoded data removed]",
      "text/plain": [
       "<Figure size 720x432 with 1 Axes>"
      ]
     },
     "metadata": {
      "needs_background": "light"
     },
     "output_type": "display_data"
    },
    {
     "name": "stdout",
     "output_type": "stream",
     "text": [
      "Skewness of Vintage in Train Data is 0.0030295168899980816\n",
      "Skewness of Vintage in Test Data is 0.001467289451134076\n"
     ]
    }
   ],
   "source": [
    "for c in num_cols[:-1] :\n",
    "    num_dis_plot(c)"
   ]
  },
  {
   "cell_type": "markdown",
   "metadata": {
    "papermill": {
     "duration": 0.043669,
     "end_time": "2021-01-22T01:58:44.653040",
     "exception": false,
     "start_time": "2021-01-22T01:58:44.609371",
     "status": "completed"
    },
    "tags": []
   },
   "source": [
    "I found that the skewness of each data set is almost same.\n",
    "\n",
    "after that, I checked the variable to do log transfromation."
   ]
  },
  {
   "cell_type": "code",
   "execution_count": 17,
   "metadata": {
    "execution": {
     "iopub.execute_input": "2021-01-22T01:58:44.747157Z",
     "iopub.status.busy": "2021-01-22T01:58:44.746442Z",
     "iopub.status.idle": "2021-01-22T01:58:45.017050Z",
     "shell.execute_reply": "2021-01-22T01:58:45.016374Z"
    },
    "papermill": {
     "duration": 0.319908,
     "end_time": "2021-01-22T01:58:45.017180",
     "exception": false,
     "start_time": "2021-01-22T01:58:44.697272",
     "status": "completed"
    },
    "tags": []
   },
   "outputs": [
    {
     "data": {
      "text/html": [
       "<div>\n",
       "<style scoped>\n",
       "    .dataframe tbody tr th:only-of-type {\n",
       "        vertical-align: middle;\n",
       "    }\n",
       "\n",
       "    .dataframe tbody tr th {\n",
       "        vertical-align: top;\n",
       "    }\n",
       "\n",
       "    .dataframe thead th {\n",
       "        text-align: right;\n",
       "    }\n",
       "</style>\n",
       "<table border=\"1\" class=\"dataframe\">\n",
       "  <thead>\n",
       "    <tr style=\"text-align: right;\">\n",
       "      <th></th>\n",
       "      <th>before</th>\n",
       "      <th>after</th>\n",
       "    </tr>\n",
       "  </thead>\n",
       "  <tbody>\n",
       "    <tr>\n",
       "      <th>Gender</th>\n",
       "      <td>-0.163590</td>\n",
       "      <td>-0.163590</td>\n",
       "    </tr>\n",
       "    <tr>\n",
       "      <th>Age</th>\n",
       "      <td>0.672539</td>\n",
       "      <td>0.215195</td>\n",
       "    </tr>\n",
       "    <tr>\n",
       "      <th>Driving_License</th>\n",
       "      <td>-21.595182</td>\n",
       "      <td>-21.595182</td>\n",
       "    </tr>\n",
       "    <tr>\n",
       "      <th>Region_Code</th>\n",
       "      <td>-0.115266</td>\n",
       "      <td>-1.424748</td>\n",
       "    </tr>\n",
       "    <tr>\n",
       "      <th>Previously_Insured</th>\n",
       "      <td>0.167747</td>\n",
       "      <td>0.167747</td>\n",
       "    </tr>\n",
       "    <tr>\n",
       "      <th>Vehicle_Age</th>\n",
       "      <td>0.589682</td>\n",
       "      <td>0.276175</td>\n",
       "    </tr>\n",
       "    <tr>\n",
       "      <th>Vehicle_Damage</th>\n",
       "      <td>-0.019507</td>\n",
       "      <td>-0.019507</td>\n",
       "    </tr>\n",
       "    <tr>\n",
       "      <th>Annual_Premium</th>\n",
       "      <td>1.766087</td>\n",
       "      <td>-1.470591</td>\n",
       "    </tr>\n",
       "    <tr>\n",
       "      <th>Policy_Sales_Channel</th>\n",
       "      <td>-0.900008</td>\n",
       "      <td>-1.363040</td>\n",
       "    </tr>\n",
       "    <tr>\n",
       "      <th>Vintage</th>\n",
       "      <td>0.003030</td>\n",
       "      <td>-1.091957</td>\n",
       "    </tr>\n",
       "    <tr>\n",
       "      <th>Response</th>\n",
       "      <td>2.301906</td>\n",
       "      <td>2.301906</td>\n",
       "    </tr>\n",
       "  </tbody>\n",
       "</table>\n",
       "</div>"
      ],
      "text/plain": [
       "                         before      after\n",
       "Gender                -0.163590  -0.163590\n",
       "Age                    0.672539   0.215195\n",
       "Driving_License      -21.595182 -21.595182\n",
       "Region_Code           -0.115266  -1.424748\n",
       "Previously_Insured     0.167747   0.167747\n",
       "Vehicle_Age            0.589682   0.276175\n",
       "Vehicle_Damage        -0.019507  -0.019507\n",
       "Annual_Premium         1.766087  -1.470591\n",
       "Policy_Sales_Channel  -0.900008  -1.363040\n",
       "Vintage                0.003030  -1.091957\n",
       "Response               2.301906   2.301906"
      ]
     },
     "execution_count": 17,
     "metadata": {},
     "output_type": "execute_result"
    }
   ],
   "source": [
    "skew_tr = pd.DataFrame({'before' : train.skew(), 'after' : np.log1p(train).skew()})\n",
    "skew_tr"
   ]
  },
  {
   "cell_type": "code",
   "execution_count": 18,
   "metadata": {
    "execution": {
     "iopub.execute_input": "2021-01-22T01:58:45.112502Z",
     "iopub.status.busy": "2021-01-22T01:58:45.111763Z",
     "iopub.status.idle": "2021-01-22T01:58:45.201640Z",
     "shell.execute_reply": "2021-01-22T01:58:45.202191Z"
    },
    "papermill": {
     "duration": 0.139857,
     "end_time": "2021-01-22T01:58:45.202349",
     "exception": false,
     "start_time": "2021-01-22T01:58:45.062492",
     "status": "completed"
    },
    "tags": []
   },
   "outputs": [
    {
     "data": {
      "text/html": [
       "<div>\n",
       "<style scoped>\n",
       "    .dataframe tbody tr th:only-of-type {\n",
       "        vertical-align: middle;\n",
       "    }\n",
       "\n",
       "    .dataframe tbody tr th {\n",
       "        vertical-align: top;\n",
       "    }\n",
       "\n",
       "    .dataframe thead th {\n",
       "        text-align: right;\n",
       "    }\n",
       "</style>\n",
       "<table border=\"1\" class=\"dataframe\">\n",
       "  <thead>\n",
       "    <tr style=\"text-align: right;\">\n",
       "      <th></th>\n",
       "      <th>before</th>\n",
       "      <th>after</th>\n",
       "    </tr>\n",
       "  </thead>\n",
       "  <tbody>\n",
       "    <tr>\n",
       "      <th>Gender</th>\n",
       "      <td>-0.148953</td>\n",
       "      <td>-0.148953</td>\n",
       "    </tr>\n",
       "    <tr>\n",
       "      <th>Age</th>\n",
       "      <td>0.673357</td>\n",
       "      <td>0.216106</td>\n",
       "    </tr>\n",
       "    <tr>\n",
       "      <th>Driving_License</th>\n",
       "      <td>-23.087563</td>\n",
       "      <td>-23.087563</td>\n",
       "    </tr>\n",
       "    <tr>\n",
       "      <th>Region_Code</th>\n",
       "      <td>-0.122291</td>\n",
       "      <td>-1.444798</td>\n",
       "    </tr>\n",
       "    <tr>\n",
       "      <th>Previously_Insured</th>\n",
       "      <td>0.160358</td>\n",
       "      <td>0.160358</td>\n",
       "    </tr>\n",
       "    <tr>\n",
       "      <th>Vehicle_Age</th>\n",
       "      <td>0.586707</td>\n",
       "      <td>0.273509</td>\n",
       "    </tr>\n",
       "    <tr>\n",
       "      <th>Vehicle_Damage</th>\n",
       "      <td>-0.009966</td>\n",
       "      <td>-0.009966</td>\n",
       "    </tr>\n",
       "    <tr>\n",
       "      <th>Annual_Premium</th>\n",
       "      <td>1.077867</td>\n",
       "      <td>-1.471219</td>\n",
       "    </tr>\n",
       "    <tr>\n",
       "      <th>Policy_Sales_Channel</th>\n",
       "      <td>-0.887642</td>\n",
       "      <td>-1.352899</td>\n",
       "    </tr>\n",
       "    <tr>\n",
       "      <th>Vintage</th>\n",
       "      <td>0.001467</td>\n",
       "      <td>-1.098332</td>\n",
       "    </tr>\n",
       "  </tbody>\n",
       "</table>\n",
       "</div>"
      ],
      "text/plain": [
       "                         before      after\n",
       "Gender                -0.148953  -0.148953\n",
       "Age                    0.673357   0.216106\n",
       "Driving_License      -23.087563 -23.087563\n",
       "Region_Code           -0.122291  -1.444798\n",
       "Previously_Insured     0.160358   0.160358\n",
       "Vehicle_Age            0.586707   0.273509\n",
       "Vehicle_Damage        -0.009966  -0.009966\n",
       "Annual_Premium         1.077867  -1.471219\n",
       "Policy_Sales_Channel  -0.887642  -1.352899\n",
       "Vintage                0.001467  -1.098332"
      ]
     },
     "execution_count": 18,
     "metadata": {},
     "output_type": "execute_result"
    }
   ],
   "source": [
    "skew_te = pd.DataFrame({'before' : test.skew(), 'after' : np.log1p(test).skew()})\n",
    "skew_te"
   ]
  },
  {
   "cell_type": "markdown",
   "metadata": {
    "papermill": {
     "duration": 0.04463,
     "end_time": "2021-01-22T01:58:45.292834",
     "exception": false,
     "start_time": "2021-01-22T01:58:45.248204",
     "status": "completed"
    },
    "tags": []
   },
   "source": [
    "There are two variables to transform. \n",
    "\n",
    "1. Age\n",
    "2. Vehicle_Age"
   ]
  },
  {
   "cell_type": "code",
   "execution_count": 19,
   "metadata": {
    "execution": {
     "iopub.execute_input": "2021-01-22T01:58:45.392359Z",
     "iopub.status.busy": "2021-01-22T01:58:45.391365Z",
     "iopub.status.idle": "2021-01-22T01:58:45.431886Z",
     "shell.execute_reply": "2021-01-22T01:58:45.432407Z"
    },
    "papermill": {
     "duration": 0.094276,
     "end_time": "2021-01-22T01:58:45.432576",
     "exception": false,
     "start_time": "2021-01-22T01:58:45.338300",
     "status": "completed"
    },
    "tags": []
   },
   "outputs": [],
   "source": [
    "train[['Age', 'Vehicle_Age']] = np.log1p(train[['Age', 'Vehicle_Age']])\n",
    "test[['Age', 'Vehicle_Age']] = np.log1p(test[['Age', 'Vehicle_Age']])"
   ]
  },
  {
   "cell_type": "markdown",
   "metadata": {
    "papermill": {
     "duration": 0.044422,
     "end_time": "2021-01-22T01:58:45.522155",
     "exception": false,
     "start_time": "2021-01-22T01:58:45.477733",
     "status": "completed"
    },
    "tags": []
   },
   "source": [
    "After that, I made data for modeling."
   ]
  },
  {
   "cell_type": "code",
   "execution_count": 20,
   "metadata": {
    "execution": {
     "iopub.execute_input": "2021-01-22T01:58:45.619859Z",
     "iopub.status.busy": "2021-01-22T01:58:45.617836Z",
     "iopub.status.idle": "2021-01-22T01:58:45.637482Z",
     "shell.execute_reply": "2021-01-22T01:58:45.636820Z"
    },
    "papermill": {
     "duration": 0.070893,
     "end_time": "2021-01-22T01:58:45.637595",
     "exception": false,
     "start_time": "2021-01-22T01:58:45.566702",
     "status": "completed"
    },
    "tags": []
   },
   "outputs": [],
   "source": [
    "X = train.drop('Response', axis = 1)\n",
    "y = train.Response"
   ]
  },
  {
   "cell_type": "markdown",
   "metadata": {
    "papermill": {
     "duration": 0.044733,
     "end_time": "2021-01-22T01:58:45.727452",
     "exception": false,
     "start_time": "2021-01-22T01:58:45.682719",
     "status": "completed"
    },
    "tags": []
   },
   "source": [
    "## Modeling\n",
    "\n",
    "I used 5 models\n",
    "\n",
    "1. RandomForest\n",
    "2. LightGBM\n",
    "3. GradientBoosting\n",
    "4. XGBoost\n",
    "5. CatBoost"
   ]
  },
  {
   "cell_type": "code",
   "execution_count": 21,
   "metadata": {
    "execution": {
     "iopub.execute_input": "2021-01-22T01:58:45.826679Z",
     "iopub.status.busy": "2021-01-22T01:58:45.825980Z",
     "iopub.status.idle": "2021-01-22T01:58:45.828551Z",
     "shell.execute_reply": "2021-01-22T01:58:45.829149Z"
    },
    "papermill": {
     "duration": 0.056839,
     "end_time": "2021-01-22T01:58:45.829293",
     "exception": false,
     "start_time": "2021-01-22T01:58:45.772454",
     "status": "completed"
    },
    "tags": []
   },
   "outputs": [],
   "source": [
    "rf = RandomForestClassifier(random_state = 122)\n",
    "lgbm = LGBMClassifier(random_state = 122)\n",
    "gb = GradientBoostingClassifier(random_state = 122)\n",
    "xgb = XGBClassifier(random_state = 122)\n",
    "cb = CatBoostClassifier(random_state = 122, silent = True)"
   ]
  },
  {
   "cell_type": "code",
   "execution_count": 22,
   "metadata": {
    "execution": {
     "iopub.execute_input": "2021-01-22T01:58:45.925488Z",
     "iopub.status.busy": "2021-01-22T01:58:45.924504Z",
     "iopub.status.idle": "2021-01-22T01:58:45.927814Z",
     "shell.execute_reply": "2021-01-22T01:58:45.927181Z"
    },
    "papermill": {
     "duration": 0.053658,
     "end_time": "2021-01-22T01:58:45.927925",
     "exception": false,
     "start_time": "2021-01-22T01:58:45.874267",
     "status": "completed"
    },
    "tags": []
   },
   "outputs": [],
   "source": [
    "models = [rf, lgbm, gb, xgb, cb]"
   ]
  },
  {
   "cell_type": "code",
   "execution_count": 23,
   "metadata": {
    "execution": {
     "iopub.execute_input": "2021-01-22T01:58:46.025083Z",
     "iopub.status.busy": "2021-01-22T01:58:46.024363Z",
     "iopub.status.idle": "2021-01-22T01:58:46.027238Z",
     "shell.execute_reply": "2021-01-22T01:58:46.026593Z"
    },
    "papermill": {
     "duration": 0.052934,
     "end_time": "2021-01-22T01:58:46.027347",
     "exception": false,
     "start_time": "2021-01-22T01:58:45.974413",
     "status": "completed"
    },
    "tags": []
   },
   "outputs": [],
   "source": [
    "skf = StratifiedKFold(n_splits = 5, shuffle = True, random_state = 122)"
   ]
  },
  {
   "cell_type": "code",
   "execution_count": 24,
   "metadata": {
    "execution": {
     "iopub.execute_input": "2021-01-22T01:58:46.128929Z",
     "iopub.status.busy": "2021-01-22T01:58:46.128241Z",
     "iopub.status.idle": "2021-01-22T02:13:51.109278Z",
     "shell.execute_reply": "2021-01-22T02:13:51.109798Z"
    },
    "papermill": {
     "duration": 905.035874,
     "end_time": "2021-01-22T02:13:51.110010",
     "exception": false,
     "start_time": "2021-01-22T01:58:46.074136",
     "status": "completed"
    },
    "tags": []
   },
   "outputs": [],
   "source": [
    "model_acc = []\n",
    "for model in models :\n",
    "    acc_list = []\n",
    "    for tr_idx, val_idx in skf.split(X, y) :\n",
    "        tr_x, tr_y = X.iloc[tr_idx], y.iloc[tr_idx]\n",
    "        val_x, val_y = X.iloc[val_idx], y.iloc[val_idx]\n",
    "        \n",
    "        model.fit(tr_x, tr_y)\n",
    "        \n",
    "        pred = model.predict(val_x)\n",
    "        \n",
    "        acc = accuracy_score(val_y, pred)\n",
    "        \n",
    "        acc_list.append(acc)\n",
    "    model_acc.append(np.mean(acc_list))"
   ]
  },
  {
   "cell_type": "code",
   "execution_count": 25,
   "metadata": {
    "execution": {
     "iopub.execute_input": "2021-01-22T02:13:51.209801Z",
     "iopub.status.busy": "2021-01-22T02:13:51.209146Z",
     "iopub.status.idle": "2021-01-22T02:13:51.212470Z",
     "shell.execute_reply": "2021-01-22T02:13:51.211892Z"
    },
    "papermill": {
     "duration": 0.056452,
     "end_time": "2021-01-22T02:13:51.212581",
     "exception": false,
     "start_time": "2021-01-22T02:13:51.156129",
     "status": "completed"
    },
    "tags": []
   },
   "outputs": [],
   "source": [
    "acc_df = pd.DataFrame({'model' : [x.__class__.__name__ for x in models], 'accuracy' : model_acc}).sort_values(by = 'accuracy', ascending = False)"
   ]
  },
  {
   "cell_type": "code",
   "execution_count": 26,
   "metadata": {
    "execution": {
     "iopub.execute_input": "2021-01-22T02:13:51.321190Z",
     "iopub.status.busy": "2021-01-22T02:13:51.320239Z",
     "iopub.status.idle": "2021-01-22T02:13:51.325931Z",
     "shell.execute_reply": "2021-01-22T02:13:51.325355Z"
    },
    "papermill": {
     "duration": 0.067675,
     "end_time": "2021-01-22T02:13:51.326091",
     "exception": false,
     "start_time": "2021-01-22T02:13:51.258416",
     "status": "completed"
    },
    "tags": []
   },
   "outputs": [
    {
     "data": {
      "text/html": [
       "<div>\n",
       "<style scoped>\n",
       "    .dataframe tbody tr th:only-of-type {\n",
       "        vertical-align: middle;\n",
       "    }\n",
       "\n",
       "    .dataframe tbody tr th {\n",
       "        vertical-align: top;\n",
       "    }\n",
       "\n",
       "    .dataframe thead th {\n",
       "        text-align: right;\n",
       "    }\n",
       "</style>\n",
       "<table border=\"1\" class=\"dataframe\">\n",
       "  <thead>\n",
       "    <tr style=\"text-align: right;\">\n",
       "      <th></th>\n",
       "      <th>model</th>\n",
       "      <th>accuracy</th>\n",
       "    </tr>\n",
       "  </thead>\n",
       "  <tbody>\n",
       "    <tr>\n",
       "      <th>2</th>\n",
       "      <td>GradientBoostingClassifier</td>\n",
       "      <td>0.877434</td>\n",
       "    </tr>\n",
       "    <tr>\n",
       "      <th>1</th>\n",
       "      <td>LGBMClassifier</td>\n",
       "      <td>0.877103</td>\n",
       "    </tr>\n",
       "    <tr>\n",
       "      <th>4</th>\n",
       "      <td>CatBoostClassifier</td>\n",
       "      <td>0.876773</td>\n",
       "    </tr>\n",
       "    <tr>\n",
       "      <th>3</th>\n",
       "      <td>XGBClassifier</td>\n",
       "      <td>0.876639</td>\n",
       "    </tr>\n",
       "    <tr>\n",
       "      <th>0</th>\n",
       "      <td>RandomForestClassifier</td>\n",
       "      <td>0.866156</td>\n",
       "    </tr>\n",
       "  </tbody>\n",
       "</table>\n",
       "</div>"
      ],
      "text/plain": [
       "                        model  accuracy\n",
       "2  GradientBoostingClassifier  0.877434\n",
       "1              LGBMClassifier  0.877103\n",
       "4          CatBoostClassifier  0.876773\n",
       "3               XGBClassifier  0.876639\n",
       "0      RandomForestClassifier  0.866156"
      ]
     },
     "execution_count": 26,
     "metadata": {},
     "output_type": "execute_result"
    }
   ],
   "source": [
    "acc_df"
   ]
  },
  {
   "cell_type": "code",
   "execution_count": 27,
   "metadata": {
    "execution": {
     "iopub.execute_input": "2021-01-22T02:13:51.456396Z",
     "iopub.status.busy": "2021-01-22T02:13:51.454947Z",
     "iopub.status.idle": "2021-01-22T02:13:51.594197Z",
     "shell.execute_reply": "2021-01-22T02:13:51.593519Z"
    },
    "papermill": {
     "duration": 0.205109,
     "end_time": "2021-01-22T02:13:51.594311",
     "exception": false,
     "start_time": "2021-01-22T02:13:51.389202",
     "status": "completed"
    },
    "tags": []
   },
   "outputs": [
    {
     "data": {
      "image/png": "[encoded data removed]",
      "text/plain": [
       "<Figure size 432x288 with 1 Axes>"
      ]
     },
     "metadata": {
      "needs_background": "light"
     },
     "output_type": "display_data"
    }
   ],
   "source": [
    "sns.barplot(x = acc_df.accuracy, y = acc_df.model, edgecolor = (0, 0, 0))\n",
    "plt.xlim(.85, .88)\n",
    "plt.show()"
   ]
  },
  {
   "cell_type": "markdown",
   "metadata": {
    "papermill": {
     "duration": 0.048192,
     "end_time": "2021-01-22T02:13:51.689433",
     "exception": false,
     "start_time": "2021-01-22T02:13:51.641241",
     "status": "completed"
    },
    "tags": []
   },
   "source": [
    "Finally, I used best 4 models and did ensemble method."
   ]
  },
  {
   "cell_type": "code",
   "execution_count": 28,
   "metadata": {
    "execution": {
     "iopub.execute_input": "2021-01-22T02:13:51.798234Z",
     "iopub.status.busy": "2021-01-22T02:13:51.797503Z",
     "iopub.status.idle": "2021-01-22T02:22:08.827233Z",
     "shell.execute_reply": "2021-01-22T02:22:08.826673Z"
    },
    "papermill": {
     "duration": 497.089605,
     "end_time": "2021-01-22T02:22:08.827365",
     "exception": false,
     "start_time": "2021-01-22T02:13:51.737760",
     "status": "completed"
    },
    "tags": []
   },
   "outputs": [
    {
     "name": "stdout",
     "output_type": "stream",
     "text": [
      "[0]\tvalidation_0-error:0.12256\n",
      "Will train until validation_0-error hasn't improved in 300 rounds.\n",
      "[99]\tvalidation_0-error:0.12300\n",
      "[0]\tvalidation_0-error:0.12256\n",
      "Will train until validation_0-error hasn't improved in 300 rounds.\n",
      "[99]\tvalidation_0-error:0.12340\n",
      "[0]\tvalidation_0-error:0.12258\n",
      "Will train until validation_0-error hasn't improved in 300 rounds.\n",
      "[99]\tvalidation_0-error:0.12326\n",
      "[0]\tvalidation_0-error:0.12256\n",
      "Will train until validation_0-error hasn't improved in 300 rounds.\n",
      "[99]\tvalidation_0-error:0.12351\n",
      "[0]\tvalidation_0-error:0.12256\n",
      "Will train until validation_0-error hasn't improved in 300 rounds.\n",
      "[99]\tvalidation_0-error:0.12364\n",
      "Training until validation scores don't improve for 300 rounds\n",
      "Did not meet early stopping. Best iteration is:\n",
      "[56]\tvalid_0's binary_logloss: 0.265188\n",
      "Training until validation scores don't improve for 300 rounds\n",
      "Did not meet early stopping. Best iteration is:\n",
      "[58]\tvalid_0's binary_logloss: 0.266346\n",
      "Training until validation scores don't improve for 300 rounds\n",
      "Did not meet early stopping. Best iteration is:\n",
      "[57]\tvalid_0's binary_logloss: 0.265115\n",
      "Training until validation scores don't improve for 300 rounds\n",
      "Did not meet early stopping. Best iteration is:\n",
      "[60]\tvalid_0's binary_logloss: 0.263739\n",
      "Training until validation scores don't improve for 300 rounds\n",
      "Did not meet early stopping. Best iteration is:\n",
      "[58]\tvalid_0's binary_logloss: 0.264435\n",
      "Learning rate set to 0.130164\n",
      "0:\tlearn: 0.4889142\ttest: 0.4897767\tbest: 0.4897767 (0)\ttotal: 65.3ms\tremaining: 1m 5s\n",
      "500:\tlearn: 0.2559671\ttest: 0.2654728\tbest: 0.2649875 (219)\ttotal: 36.4s\tremaining: 36.2s\n",
      "Stopped by overfitting detector  (300 iterations wait)\n",
      "\n",
      "bestTest = 0.2649874721\n",
      "bestIteration = 219\n",
      "\n",
      "Shrink model to first 220 iterations.\n",
      "Learning rate set to 0.130164\n",
      "0:\tlearn: 0.4898029\ttest: 0.4904810\tbest: 0.4904810 (0)\ttotal: 72.4ms\tremaining: 1m 12s\n",
      "500:\tlearn: 0.2557587\ttest: 0.2661519\tbest: 0.2657065 (257)\ttotal: 36.8s\tremaining: 36.7s\n",
      "Stopped by overfitting detector  (300 iterations wait)\n",
      "\n",
      "bestTest = 0.2657064725\n",
      "bestIteration = 257\n",
      "\n",
      "Shrink model to first 258 iterations.\n",
      "Learning rate set to 0.130164\n",
      "0:\tlearn: 0.4901726\ttest: 0.4902280\tbest: 0.4902280 (0)\ttotal: 72.6ms\tremaining: 1m 12s\n",
      "Stopped by overfitting detector  (300 iterations wait)\n",
      "\n",
      "bestTest = 0.2645717907\n",
      "bestIteration = 185\n",
      "\n",
      "Shrink model to first 186 iterations.\n",
      "Learning rate set to 0.130164\n",
      "0:\tlearn: 0.4927894\ttest: 0.4922265\tbest: 0.4922265 (0)\ttotal: 72ms\tremaining: 1m 11s\n",
      "500:\tlearn: 0.2563424\ttest: 0.2637086\tbest: 0.2631736 (269)\ttotal: 37s\tremaining: 36.9s\n",
      "Stopped by overfitting detector  (300 iterations wait)\n",
      "\n",
      "bestTest = 0.2631735707\n",
      "bestIteration = 269\n",
      "\n",
      "Shrink model to first 270 iterations.\n",
      "Learning rate set to 0.130164\n",
      "0:\tlearn: 0.4912379\ttest: 0.4903533\tbest: 0.4903533 (0)\ttotal: 72.2ms\tremaining: 1m 12s\n",
      "500:\tlearn: 0.2562035\ttest: 0.2643681\tbest: 0.2639781 (241)\ttotal: 36.6s\tremaining: 36.4s\n",
      "Stopped by overfitting detector  (300 iterations wait)\n",
      "\n",
      "bestTest = 0.2639781402\n",
      "bestIteration = 241\n",
      "\n",
      "Shrink model to first 242 iterations.\n"
     ]
    }
   ],
   "source": [
    "final_pred = []\n",
    "for model in [xgb, gb, lgbm, cb] :\n",
    "    sub_pred = np.zeros((test.shape[0], 1))\n",
    "    \n",
    "    for tr_idx, val_idx in skf.split(X, y) :    \n",
    "        tr_x, tr_y = X.iloc[tr_idx], y.iloc[tr_idx]\n",
    "        val_x, val_y = X.iloc[val_idx], y.iloc[val_idx]\n",
    "        \n",
    "        if model.__class__.__name__ == 'GradientBoostingClassifier' :\n",
    "            model.fit(tr_x, tr_y)\n",
    "        else :\n",
    "            model.fit(tr_x, tr_y, eval_set = [(val_x, val_y)], verbose = 500, early_stopping_rounds = 300)\n",
    "        \n",
    "        pred = model.predict_proba(test)[:, 1] / 5\n",
    "        sub_pred += pred.reshape(-1, 1)\n",
    "        \n",
    "    final_pred.append(sub_pred)"
   ]
  },
  {
   "cell_type": "code",
   "execution_count": 29,
   "metadata": {
    "execution": {
     "iopub.execute_input": "2021-01-22T02:22:08.957358Z",
     "iopub.status.busy": "2021-01-22T02:22:08.956639Z",
     "iopub.status.idle": "2021-01-22T02:22:08.972061Z",
     "shell.execute_reply": "2021-01-22T02:22:08.971467Z"
    },
    "papermill": {
     "duration": 0.083448,
     "end_time": "2021-01-22T02:22:08.972191",
     "exception": false,
     "start_time": "2021-01-22T02:22:08.888743",
     "status": "completed"
    },
    "tags": []
   },
   "outputs": [],
   "source": [
    "pred = np.ones((test.shape[0], 1))\n",
    "for n in range(4) :\n",
    "    pred *= final_pred[n].reshape(-1, 1)\n",
    "pred **= .25"
   ]
  },
  {
   "cell_type": "markdown",
   "metadata": {
    "papermill": {
     "duration": 0.060219,
     "end_time": "2021-01-22T02:22:09.093939",
     "exception": false,
     "start_time": "2021-01-22T02:22:09.033720",
     "status": "completed"
    },
    "tags": []
   },
   "source": [
    "## Submission"
   ]
  },
  {
   "cell_type": "code",
   "execution_count": 30,
   "metadata": {
    "execution": {
     "iopub.execute_input": "2021-01-22T02:22:09.265134Z",
     "iopub.status.busy": "2021-01-22T02:22:09.254520Z",
     "iopub.status.idle": "2021-01-22T02:22:09.547020Z",
     "shell.execute_reply": "2021-01-22T02:22:09.546406Z"
    },
    "papermill": {
     "duration": 0.392644,
     "end_time": "2021-01-22T02:22:09.547154",
     "exception": false,
     "start_time": "2021-01-22T02:22:09.154510",
     "status": "completed"
    },
    "tags": []
   },
   "outputs": [],
   "source": [
    "submission.Response = [1 if x >= .5 else 0 for x in pred]"
   ]
  },
  {
   "cell_type": "code",
   "execution_count": 31,
   "metadata": {
    "execution": {
     "iopub.execute_input": "2021-01-22T02:22:09.681021Z",
     "iopub.status.busy": "2021-01-22T02:22:09.680339Z",
     "iopub.status.idle": "2021-01-22T02:22:09.685181Z",
     "shell.execute_reply": "2021-01-22T02:22:09.685700Z"
    },
    "papermill": {
     "duration": 0.0765,
     "end_time": "2021-01-22T02:22:09.685841",
     "exception": false,
     "start_time": "2021-01-22T02:22:09.609341",
     "status": "completed"
    },
    "tags": []
   },
   "outputs": [
    {
     "data": {
      "text/html": [
       "<div>\n",
       "<style scoped>\n",
       "    .dataframe tbody tr th:only-of-type {\n",
       "        vertical-align: middle;\n",
       "    }\n",
       "\n",
       "    .dataframe tbody tr th {\n",
       "        vertical-align: top;\n",
       "    }\n",
       "\n",
       "    .dataframe thead th {\n",
       "        text-align: right;\n",
       "    }\n",
       "</style>\n",
       "<table border=\"1\" class=\"dataframe\">\n",
       "  <thead>\n",
       "    <tr style=\"text-align: right;\">\n",
       "      <th></th>\n",
       "      <th>id</th>\n",
       "      <th>Response</th>\n",
       "    </tr>\n",
       "  </thead>\n",
       "  <tbody>\n",
       "    <tr>\n",
       "      <th>0</th>\n",
       "      <td>381110</td>\n",
       "      <td>0</td>\n",
       "    </tr>\n",
       "    <tr>\n",
       "      <th>1</th>\n",
       "      <td>381111</td>\n",
       "      <td>0</td>\n",
       "    </tr>\n",
       "    <tr>\n",
       "      <th>2</th>\n",
       "      <td>381112</td>\n",
       "      <td>0</td>\n",
       "    </tr>\n",
       "    <tr>\n",
       "      <th>3</th>\n",
       "      <td>381113</td>\n",
       "      <td>0</td>\n",
       "    </tr>\n",
       "    <tr>\n",
       "      <th>4</th>\n",
       "      <td>381114</td>\n",
       "      <td>0</td>\n",
       "    </tr>\n",
       "    <tr>\n",
       "      <th>...</th>\n",
       "      <td>...</td>\n",
       "      <td>...</td>\n",
       "    </tr>\n",
       "    <tr>\n",
       "      <th>127032</th>\n",
       "      <td>508142</td>\n",
       "      <td>0</td>\n",
       "    </tr>\n",
       "    <tr>\n",
       "      <th>127033</th>\n",
       "      <td>508143</td>\n",
       "      <td>0</td>\n",
       "    </tr>\n",
       "    <tr>\n",
       "      <th>127034</th>\n",
       "      <td>508144</td>\n",
       "      <td>0</td>\n",
       "    </tr>\n",
       "    <tr>\n",
       "      <th>127035</th>\n",
       "      <td>508145</td>\n",
       "      <td>0</td>\n",
       "    </tr>\n",
       "    <tr>\n",
       "      <th>127036</th>\n",
       "      <td>508146</td>\n",
       "      <td>0</td>\n",
       "    </tr>\n",
       "  </tbody>\n",
       "</table>\n",
       "<p>127037 rows × 2 columns</p>\n",
       "</div>"
      ],
      "text/plain": [
       "            id  Response\n",
       "0       381110         0\n",
       "1       381111         0\n",
       "2       381112         0\n",
       "3       381113         0\n",
       "4       381114         0\n",
       "...        ...       ...\n",
       "127032  508142         0\n",
       "127033  508143         0\n",
       "127034  508144         0\n",
       "127035  508145         0\n",
       "127036  508146         0\n",
       "\n",
       "[127037 rows x 2 columns]"
      ]
     },
     "execution_count": 31,
     "metadata": {},
     "output_type": "execute_result"
    }
   ],
   "source": [
    "submission"
   ]
  },
  {
   "cell_type": "code",
   "execution_count": 32,
   "metadata": {
    "execution": {
     "iopub.execute_input": "2021-01-22T02:22:09.817285Z",
     "iopub.status.busy": "2021-01-22T02:22:09.816596Z",
     "iopub.status.idle": "2021-01-22T02:22:10.381561Z",
     "shell.execute_reply": "2021-01-22T02:22:10.382101Z"
    },
    "papermill": {
     "duration": 0.633398,
     "end_time": "2021-01-22T02:22:10.382267",
     "exception": false,
     "start_time": "2021-01-22T02:22:09.748869",
     "status": "completed"
    },
    "tags": []
   },
   "outputs": [],
   "source": [
    "submission.to_csv(\"1st_submission.csv\", index = False)"
   ]
  },
  {
   "cell_type": "markdown",
   "metadata": {
    "papermill": {
     "duration": 0.061849,
     "end_time": "2021-01-22T02:22:10.506551",
     "exception": false,
     "start_time": "2021-01-22T02:22:10.444702",
     "status": "completed"
    },
    "tags": []
   },
   "source": [
    "## Finished!"
   ]
  }
 ],
 "metadata": {
  "kernelspec": {
   "display_name": "Python 3",
   "language": "python",
   "name": "python3"
  },
  "language_info": {
   "codemirror_mode": {
    "name": "ipython",
    "version": 3
   },
   "file_extension": ".py",
   "mimetype": "text/x-python",
   "name": "python",
   "nbconvert_exporter": "python",
   "pygments_lexer": "ipython3",
   "version": "3.7.6"
  },
  "papermill": {
   "duration": 1420.695926,
   "end_time": "2021-01-22T02:22:10.677176",
   "environment_variables": {},
   "exception": null,
   "input_path": "__notebook__.ipynb",
   "output_path": "__notebook__.ipynb",
   "parameters": {},
   "start_time": "2021-01-22T01:58:29.981250",
   "version": "2.1.0"
  }
 },
 "nbformat": 4,
 "nbformat_minor": 4
}
